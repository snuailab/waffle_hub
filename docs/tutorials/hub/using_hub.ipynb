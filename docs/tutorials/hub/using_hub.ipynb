{
 "cells": [
  {
   "attachments": {},
   "cell_type": "markdown",
   "metadata": {},
   "source": [
    "# Hub\n",
    "Hub provides same interface for several backends. Let see how it works."
   ]
  },
  {
   "cell_type": "markdown",
   "metadata": {},
   "source": [
    "## Select Backends\n",
    "You can check what frameworks and models the `waffle_hub` provides.\n"
   ]
  },
  {
   "cell_type": "code",
   "execution_count": 1,
   "metadata": {},
   "outputs": [
    {
     "data": {
      "text/plain": [
       "[<BackendType.ULTRALYTICS: 'ultralytics'>,\n",
       " <BackendType.AUTOCARE_DLT: 'autocare_dlt'>,\n",
       " <BackendType.TRANSFORMERS: 'transformers'>]"
      ]
     },
     "execution_count": 1,
     "metadata": {},
     "output_type": "execute_result"
    }
   ],
   "source": [
    "from waffle_hub.hub import Hub\n",
    "from waffle_hub.type import TaskType\n",
    "\n",
    "Hub.get_available_backends()"
   ]
  },
  {
   "cell_type": "markdown",
   "metadata": {},
   "source": [
    "### Ultraytics"
   ]
  },
  {
   "cell_type": "code",
   "execution_count": 2,
   "metadata": {},
   "outputs": [
    {
     "data": {
      "text/plain": [
       "[<TaskType.OBJECT_DETECTION: 'object_detection'>,\n",
       " <TaskType.CLASSIFICATION: 'classification'>,\n",
       " <TaskType.INSTANCE_SEGMENTATION: 'instance_segmentation'>]"
      ]
     },
     "execution_count": 2,
     "metadata": {},
     "output_type": "execute_result"
    }
   ],
   "source": [
    "Hub.get_available_tasks(\"ultralytics\")"
   ]
  },
  {
   "cell_type": "code",
   "execution_count": 3,
   "metadata": {},
   "outputs": [
    {
     "data": {
      "text/plain": [
       "['yolov8', 'yolov5']"
      ]
     },
     "execution_count": 3,
     "metadata": {},
     "output_type": "execute_result"
    }
   ],
   "source": [
    "Hub.get_available_model_types(\"ultralytics\", \"OBJECT_DETECTION\")"
   ]
  },
  {
   "cell_type": "code",
   "execution_count": 4,
   "metadata": {},
   "outputs": [
    {
     "data": {
      "text/plain": [
       "['n', 's', 'm', 'l', 'x']"
      ]
     },
     "execution_count": 4,
     "metadata": {},
     "output_type": "execute_result"
    }
   ],
   "source": [
    "Hub.get_available_model_sizes(\"ultralytics\", \"OBJECT_DETECTION\", \"yolov8\")"
   ]
  },
  {
   "cell_type": "markdown",
   "metadata": {},
   "source": [
    "### Transformers"
   ]
  },
  {
   "cell_type": "code",
   "execution_count": 5,
   "metadata": {},
   "outputs": [
    {
     "data": {
      "text/plain": [
       "[<TaskType.OBJECT_DETECTION: 'object_detection'>,\n",
       " <TaskType.CLASSIFICATION: 'classification'>]"
      ]
     },
     "execution_count": 5,
     "metadata": {},
     "output_type": "execute_result"
    }
   ],
   "source": [
    "Hub.get_available_tasks(\"transformers\")"
   ]
  },
  {
   "cell_type": "code",
   "execution_count": 6,
   "metadata": {},
   "outputs": [
    {
     "data": {
      "text/plain": [
       "['DETR', 'DETA', 'YOLOS']"
      ]
     },
     "execution_count": 6,
     "metadata": {},
     "output_type": "execute_result"
    }
   ],
   "source": [
    "Hub.get_available_model_types(\"transformers\", \"OBJECT_DETECTION\")"
   ]
  },
  {
   "cell_type": "code",
   "execution_count": 7,
   "metadata": {},
   "outputs": [
    {
     "data": {
      "text/plain": [
       "['base', 'large', 'conditional', 'deformable']"
      ]
     },
     "execution_count": 7,
     "metadata": {},
     "output_type": "execute_result"
    }
   ],
   "source": [
    "Hub.get_available_model_sizes(\"transformers\", \"OBJECT_DETECTION\", \"DETR\")"
   ]
  },
  {
   "cell_type": "markdown",
   "metadata": {},
   "source": [
    "### Autocare DLT"
   ]
  },
  {
   "cell_type": "code",
   "execution_count": 8,
   "metadata": {},
   "outputs": [
    {
     "name": "stderr",
     "output_type": "stream",
     "text": [
      "\u001b[32m2024-01-04 17:06:24.197\u001b[0m | \u001b[33m\u001b[1mWARNING \u001b[0m | \u001b[36mautocare_dlt.core.dataset.utils.coco_eval\u001b[0m:\u001b[36m<module>\u001b[0m:\u001b[36m13\u001b[0m - \u001b[33m\u001b[1mInstall fast-coco-eval is recommended, now using pycocotools.\u001b[0m\n"
     ]
    },
    {
     "data": {
      "text/plain": [
       "[<TaskType.OBJECT_DETECTION: 'object_detection'>,\n",
       " <TaskType.CLASSIFICATION: 'classification'>,\n",
       " <TaskType.TEXT_RECOGNITION: 'text_recognition'>,\n",
       " <TaskType.SEMANTIC_SEGMENTATION: 'semantic_segmentation'>]"
      ]
     },
     "execution_count": 8,
     "metadata": {},
     "output_type": "execute_result"
    }
   ],
   "source": [
    "Hub.get_available_tasks(\"autocare_dlt\")"
   ]
  },
  {
   "cell_type": "code",
   "execution_count": 9,
   "metadata": {},
   "outputs": [
    {
     "data": {
      "text/plain": [
       "['YOLOv5']"
      ]
     },
     "execution_count": 9,
     "metadata": {},
     "output_type": "execute_result"
    }
   ],
   "source": [
    "Hub.get_available_model_types(\"autocare_dlt\", \"OBJECT_DETECTION\")"
   ]
  },
  {
   "cell_type": "code",
   "execution_count": 10,
   "metadata": {},
   "outputs": [
    {
     "data": {
      "text/plain": [
       "['s', 'm', 'l']"
      ]
     },
     "execution_count": 10,
     "metadata": {},
     "output_type": "execute_result"
    }
   ],
   "source": [
    "Hub.get_available_model_sizes(\"autocare_dlt\", \"OBJECT_DETECTION\", \"YOLOv5\")"
   ]
  },
  {
   "attachments": {},
   "cell_type": "markdown",
   "metadata": {},
   "source": [
    "## Create New Hub (Ultraytics)\n",
    "By calling `Hub.new()` method you can simply create an hub instance.\n",
    "\n",
    "<img src=\"https://raw.githubusercontent.com/ultralytics/assets/main/yolov8/banner-yolov8.png\" />"
   ]
  },
  {
   "cell_type": "code",
   "execution_count": 11,
   "metadata": {},
   "outputs": [
    {
     "name": "stderr",
     "output_type": "stream",
     "text": [
      "/home/snuailab/Desktop/waffle_hub/waffle_hub/hub/manager/base_manager.py:168: UserWarning: Categories is not specified.\n",
      "It follows the categories of Dataset when the training starts.\n",
      "  warnings.warn(\n"
     ]
    }
   ],
   "source": [
    "ultralytics_hub = Hub.new(\n",
    "    name=\"ultralytics_mnist_detection\",\n",
    "    backend=\"ultralytics\",\n",
    "    task=\"object_detection\",\n",
    "    model_type=\"yolov8\",\n",
    "    model_size=\"n\",\n",
    ")"
   ]
  },
  {
   "attachments": {},
   "cell_type": "markdown",
   "metadata": {},
   "source": [
    "`Hub` instance provides several useful properties and methods. See [Hub Documentation](../../waffle_hub/hub/hub.md) for more details."
   ]
  },
  {
   "cell_type": "code",
   "execution_count": 12,
   "metadata": {},
   "outputs": [
    {
     "data": {
      "text/plain": [
       "{<TaskType.OBJECT_DETECTION: 'object_detection'>: {'yolov8': {'n': 'yolov8n.pt',\n",
       "   's': 'yolov8s.pt',\n",
       "   'm': 'yolov8m.pt',\n",
       "   'l': 'yolov8l.pt',\n",
       "   'x': 'yolov8x.pt'},\n",
       "  'yolov5': {'n': 'yolov5nu.pt',\n",
       "   's': 'yolov5su.pt',\n",
       "   'm': 'yolov5mu.pt',\n",
       "   'l': 'yolov5lu.pt',\n",
       "   'x': 'yolov5xu.pt',\n",
       "   'n6': 'yolov5n6u.pt',\n",
       "   's6': 'yolov5s6u.pt',\n",
       "   'm6': 'yolov5m6u.pt',\n",
       "   'l6': 'yolov5l6u.pt',\n",
       "   'x6': 'yolov5x6u.pt'}},\n",
       " <TaskType.CLASSIFICATION: 'classification'>: {'yolov8': {'n': 'yolov8n-cls.pt',\n",
       "   's': 'yolov8s-cls.pt',\n",
       "   'm': 'yolov8m-cls.pt',\n",
       "   'l': 'yolov8l-cls.pt',\n",
       "   'x': 'yolov8x-cls.pt'}},\n",
       " <TaskType.INSTANCE_SEGMENTATION: 'instance_segmentation'>: {'yolov8': {'n': 'yolov8n-seg.pt',\n",
       "   's': 'yolov8s-seg.pt',\n",
       "   'm': 'yolov8m-seg.pt',\n",
       "   'l': 'yolov8l-seg.pt',\n",
       "   'x': 'yolov8x-seg.pt'}}}"
      ]
     },
     "execution_count": 12,
     "metadata": {},
     "output_type": "execute_result"
    }
   ],
   "source": [
    "ultralytics_hub.manager.MODEL_TYPES"
   ]
  },
  {
   "cell_type": "code",
   "execution_count": 13,
   "metadata": {},
   "outputs": [
    {
     "data": {
      "text/plain": [
       "ModelConfig(name='ultralytics_mnist_detection', backend='ultralytics', version='8.0.227', task='object_detection', model_type='yolov8', model_size='n', categories=[])"
      ]
     },
     "execution_count": 13,
     "metadata": {},
     "output_type": "execute_result"
    }
   ],
   "source": [
    "ultralytics_hub.get_model_config()"
   ]
  },
  {
   "attachments": {},
   "cell_type": "markdown",
   "metadata": {},
   "source": [
    "## Create transformers(huggingface) Hub \n",
    "\n",
    "<img src=\"https://huggingface.co/datasets/huggingface/brand-assets/resolve/main/hf-logo-with-title.png\" />"
   ]
  },
  {
   "cell_type": "code",
   "execution_count": 14,
   "metadata": {},
   "outputs": [],
   "source": [
    "huggingface_hub = Hub.new(\n",
    "    name=\"huggingface_mnist_detection\",\n",
    "    backend=\"transformers\",\n",
    "    task=\"object_detection\",\n",
    "    model_type=\"DETR\",\n",
    "    model_size=\"base\",\n",
    ")"
   ]
  },
  {
   "cell_type": "code",
   "execution_count": 15,
   "metadata": {},
   "outputs": [
    {
     "data": {
      "text/plain": [
       "{<TaskType.OBJECT_DETECTION: 'object_detection'>: {'DETR': {'base': 'facebook/detr-resnet-50',\n",
       "   'large': 'facebook/detr-resnet-101',\n",
       "   'conditional': 'microsoft/conditional-detr-resnet-50',\n",
       "   'deformable': 'SenseTime/deformable-detr'},\n",
       "  'DETA': {'resnet': 'jozhang97/deta-resnet-50',\n",
       "   'swin': 'jozhang97/deta-swin-large'},\n",
       "  'YOLOS': {'base': 'hustvl/yolos-base',\n",
       "   'tiny': 'hustvl/yolos-tiny',\n",
       "   'small': 'hustvl/yolos-small'}},\n",
       " <TaskType.CLASSIFICATION: 'classification'>: {'ResNet': {'50': 'microsoft/resnet-50',\n",
       "   '18': 'microsoft/resnet-18',\n",
       "   '101': 'microsoft/resnet-101',\n",
       "   '152': 'microsoft/resnet-152'},\n",
       "  'ViT': {'base': 'google/vit-base-patch16-224',\n",
       "   'tiny': 'WinKawaks/vit-tiny-patch16-224',\n",
       "   'large': 'google/vit-large-patch16-224'},\n",
       "  'ConvNextV2': {'base': 'facebook/convnextv2-base-22k-224',\n",
       "   'tiny': 'facebook/convnextv2-tiny-22k-224',\n",
       "   'large': 'facebook/convnextv2-large-22k-224',\n",
       "   'huge': 'facebook/convnextv2-huge-22k-224'},\n",
       "  'Swinv2': {'base': 'microsoft/swinv2-base-patch4-window8-256',\n",
       "   'tiny': 'microsoft/swinv2-tiny-patch4-window8_256',\n",
       "   'small': 'microsoft/swinv2-small-patch4-window8_256',\n",
       "   'large': 'microsoft/swinv2-large-patch4-window12-192-22k'}}}"
      ]
     },
     "execution_count": 15,
     "metadata": {},
     "output_type": "execute_result"
    }
   ],
   "source": [
    "huggingface_hub.manager.MODEL_TYPES"
   ]
  },
  {
   "cell_type": "code",
   "execution_count": 16,
   "metadata": {},
   "outputs": [
    {
     "data": {
      "text/plain": [
       "ModelConfig(name='huggingface_mnist_detection', backend='transformers', version='4.34.1', task='object_detection', model_type='DETR', model_size='base', categories=[])"
      ]
     },
     "execution_count": 16,
     "metadata": {},
     "output_type": "execute_result"
    }
   ],
   "source": [
    "huggingface_hub.get_model_config()"
   ]
  },
  {
   "attachments": {},
   "cell_type": "markdown",
   "metadata": {},
   "source": [
    "## Create AutocareDLT Hub\n",
    "`AutocareDLT` Model is a private deep learning framework of *SNUAILAB*. You can use it by asking our team! <br/>\n",
    "You can also create `AutocareDLT` Hub instance with exactly same way.\n",
    "\n",
    "<img src=\"https://github.com/snuailab/assets/blob/main/snuailab/full/snuAiLab.color.300ppi.png?raw=true\" />"
   ]
  },
  {
   "cell_type": "code",
   "execution_count": 17,
   "metadata": {},
   "outputs": [
    {
     "name": "stderr",
     "output_type": "stream",
     "text": [
      "/home/snuailab/Desktop/waffle_hub/waffle_hub/hub/manager/adapter/autocare_dlt/autocare_dlt.py:71: UserWarning: You've loaded the Hub created with autocare_dlt==autocare-dlt, \n",
      "but the installed version is 0.2.6.\n",
      "  warnings.warn(\n"
     ]
    }
   ],
   "source": [
    "autocare_dlt_hub = Hub.new(\n",
    "    name=\"autocare_dlt_mnist_detection\",\n",
    "    backend=\"autocare_dlt\",\n",
    "    task=\"object_detection\",\n",
    "    model_type=\"YOLOv5\",\n",
    "    model_size=\"s\",\n",
    ")"
   ]
  },
  {
   "cell_type": "code",
   "execution_count": 18,
   "metadata": {},
   "outputs": [
    {
     "data": {
      "text/plain": [
       "{<TaskType.OBJECT_DETECTION: 'object_detection'>: {'YOLOv5': ['s', 'm', 'l']},\n",
       " <TaskType.CLASSIFICATION: 'classification'>: {'Classifier': ['s', 'm', 'l']},\n",
       " <TaskType.TEXT_RECOGNITION: 'text_recognition'>: {'TextRecognition': ['s',\n",
       "   'm',\n",
       "   'l'],\n",
       "  'LicencePlateRecognition': ['s', 'm', 'l']},\n",
       " <TaskType.SEMANTIC_SEGMENTATION: 'semantic_segmentation'>: {'Segmenter': ['m']}}"
      ]
     },
     "execution_count": 18,
     "metadata": {},
     "output_type": "execute_result"
    }
   ],
   "source": [
    "autocare_dlt_hub.manager.MODEL_TYPES"
   ]
  },
  {
   "cell_type": "code",
   "execution_count": 19,
   "metadata": {},
   "outputs": [
    {
     "data": {
      "text/plain": [
       "ModelConfig(name='autocare_dlt_mnist_detection', backend='autocare_dlt', version='autocare-dlt', task='object_detection', model_type='YOLOv5', model_size='s', categories=[])"
      ]
     },
     "execution_count": 19,
     "metadata": {},
     "output_type": "execute_result"
    }
   ],
   "source": [
    "autocare_dlt_hub.get_model_config()"
   ]
  },
  {
   "attachments": {},
   "cell_type": "markdown",
   "metadata": {},
   "source": [
    "(The tutorials are based on \"ultralytics\" and other backends can be used the same.)\n",
    "## Train"
   ]
  },
  {
   "attachments": {},
   "cell_type": "markdown",
   "metadata": {},
   "source": [
    "### Load Dataset\n",
    "To be replaced (with waffle_dough)"
   ]
  },
  {
   "cell_type": "code",
   "execution_count": 20,
   "metadata": {},
   "outputs": [
    {
     "name": "stdout",
     "output_type": "stream",
     "text": [
      "loading annotations into memory...\n",
      "Done (t=0.00s)\n",
      "creating index...\n",
      "index created!\n"
     ]
    },
    {
     "name": "stderr",
     "output_type": "stream",
     "text": [
      "1it [00:00, 26.75it/s]:   0%|          | 0/100 [00:00<?, ?it/s]\n",
      "Importing coco dataset: 100%|██████████| 100/100 [00:00<00:00, 2504.71it/s]\n"
     ]
    }
   ],
   "source": [
    "from waffle_hub.dataset import Dataset\n",
    "\n",
    "# make sample or load\n",
    "try:\n",
    "    dataset = Dataset.sample(\"mnist_det\", task=TaskType.OBJECT_DETECTION)\n",
    "    dataset.split(train_ratio=0.8, val_ratio=0.1, test_ratio=0.1)\n",
    "except:\n",
    "    dataset = Dataset.load(\"mnist_det\")\n"
   ]
  },
  {
   "attachments": {},
   "cell_type": "markdown",
   "metadata": {},
   "source": [
    "### train"
   ]
  },
  {
   "cell_type": "code",
   "execution_count": 21,
   "metadata": {},
   "outputs": [
    {
     "name": "stdout",
     "output_type": "stream",
     "text": [
      "New https://pypi.org/project/ultralytics/8.0.234 available 😃 Update with 'pip install -U ultralytics'\n",
      "Ultralytics YOLOv8.0.227 🚀 Python-3.10.13 torch-1.13.1 CUDA:0 (NVIDIA GeForce RTX 3070, 7982MiB)\n",
      "WARNING ⚠️ Upgrade to torch>=2.0.0 for deterministic training.\n",
      "\u001b[34m\u001b[1mengine/trainer: \u001b[0mtask=detect, mode=train, model=yolov8n.pt, data=/home/snuailab/Desktop/waffle_hub/docs/tutorials/datasets/mnist_det/exports/ULTRALYTICS/data.yaml, epochs=50, patience=50, batch=4, imgsz=[640, 640], save=True, save_period=-1, cache=False, device=0, workers=2, project=hubs/ultralytics_mnist_detection, name=artifacts, exist_ok=False, pretrained=True, optimizer=auto, verbose=True, seed=0, deterministic=True, single_cls=False, rect=False, cos_lr=False, close_mosaic=10, resume=False, amp=True, fraction=1.0, profile=False, freeze=None, overlap_mask=True, mask_ratio=4, dropout=0.0, val=True, split=val, save_json=False, save_hybrid=False, conf=None, iou=0.7, max_det=300, half=False, dnn=False, plots=True, source=None, vid_stride=1, stream_buffer=False, visualize=False, augment=False, agnostic_nms=False, classes=None, retina_masks=False, show=False, save_frames=False, save_txt=False, save_conf=False, save_crop=False, show_labels=True, show_conf=True, show_boxes=True, line_width=None, format=torchscript, keras=False, optimize=False, int8=False, dynamic=False, simplify=False, opset=None, workspace=4, nms=False, lr0=0.01, lrf=0.01, momentum=0.937, weight_decay=0.0005, warmup_epochs=3.0, warmup_momentum=0.8, warmup_bias_lr=0.1, box=7.5, cls=0.5, dfl=1.5, pose=12.0, kobj=1.0, label_smoothing=0.0, nbs=64, hsv_h=0.015, hsv_s=0.7, hsv_v=0.4, degrees=0.0, translate=0.1, scale=0.5, shear=0.0, perspective=0.0, flipud=0.0, fliplr=0.5, mosaic=1.0, mixup=0.0, copy_paste=0.0, cfg=None, tracker=botsort.yaml, save_dir=hubs/ultralytics_mnist_detection/artifacts\n",
      "Overriding model.yaml nc=80 with nc=2\n",
      "\n",
      "                   from  n    params  module                                       arguments                     \n",
      "  0                  -1  1       464  ultralytics.nn.modules.conv.Conv             [3, 16, 3, 2]                 \n",
      "  1                  -1  1      4672  ultralytics.nn.modules.conv.Conv             [16, 32, 3, 2]                \n",
      "  2                  -1  1      7360  ultralytics.nn.modules.block.C2f             [32, 32, 1, True]             \n",
      "  3                  -1  1     18560  ultralytics.nn.modules.conv.Conv             [32, 64, 3, 2]                \n",
      "  4                  -1  2     49664  ultralytics.nn.modules.block.C2f             [64, 64, 2, True]             \n",
      "  5                  -1  1     73984  ultralytics.nn.modules.conv.Conv             [64, 128, 3, 2]               \n",
      "  6                  -1  2    197632  ultralytics.nn.modules.block.C2f             [128, 128, 2, True]           \n",
      "  7                  -1  1    295424  ultralytics.nn.modules.conv.Conv             [128, 256, 3, 2]              \n",
      "  8                  -1  1    460288  ultralytics.nn.modules.block.C2f             [256, 256, 1, True]           \n",
      "  9                  -1  1    164608  ultralytics.nn.modules.block.SPPF            [256, 256, 5]                 \n",
      " 10                  -1  1         0  torch.nn.modules.upsampling.Upsample         [None, 2, 'nearest']          \n",
      " 11             [-1, 6]  1         0  ultralytics.nn.modules.conv.Concat           [1]                           \n",
      " 12                  -1  1    148224  ultralytics.nn.modules.block.C2f             [384, 128, 1]                 \n",
      " 13                  -1  1         0  torch.nn.modules.upsampling.Upsample         [None, 2, 'nearest']          \n",
      " 14             [-1, 4]  1         0  ultralytics.nn.modules.conv.Concat           [1]                           \n",
      " 15                  -1  1     37248  ultralytics.nn.modules.block.C2f             [192, 64, 1]                  \n",
      " 16                  -1  1     36992  ultralytics.nn.modules.conv.Conv             [64, 64, 3, 2]                \n",
      " 17            [-1, 12]  1         0  ultralytics.nn.modules.conv.Concat           [1]                           \n",
      " 18                  -1  1    123648  ultralytics.nn.modules.block.C2f             [192, 128, 1]                 \n",
      " 19                  -1  1    147712  ultralytics.nn.modules.conv.Conv             [128, 128, 3, 2]              \n",
      " 20             [-1, 9]  1         0  ultralytics.nn.modules.conv.Concat           [1]                           \n",
      " 21                  -1  1    493056  ultralytics.nn.modules.block.C2f             [384, 256, 1]                 \n",
      " 22        [15, 18, 21]  1    751702  ultralytics.nn.modules.head.Detect           [2, [64, 128, 256]]           \n",
      "Model summary: 225 layers, 3011238 parameters, 3011222 gradients, 8.2 GFLOPs\n",
      "\n",
      "Transferred 319/355 items from pretrained weights\n",
      "\u001b[34m\u001b[1mTensorBoard: \u001b[0mStart with 'tensorboard --logdir hubs/ultralytics_mnist_detection/artifacts', view at http://localhost:6006/\n",
      "Freezing layer 'model.22.dfl.conv.weight'\n",
      "\u001b[34m\u001b[1mAMP: \u001b[0mrunning Automatic Mixed Precision (AMP) checks with YOLOv8n...\n",
      "\u001b[34m\u001b[1mAMP: \u001b[0mchecks passed ✅\n",
      "WARNING ⚠️ updating to 'imgsz=640'. 'train' and 'val' imgsz must be an integer, while 'predict' and 'export' imgsz may be a [h, w] list or an integer, i.e. 'yolo export imgsz=640,480' or 'yolo export imgsz=640'\n",
      "\u001b[34m\u001b[1mtrain: \u001b[0mNew cache created: /home/snuailab/Desktop/waffle_hub/docs/tutorials/datasets/mnist_det/exports/ULTRALYTICS/train/labels.cache\n"
     ]
    },
    {
     "name": "stderr",
     "output_type": "stream",
     "text": [
      "\u001b[34m\u001b[1mtrain: \u001b[0mScanning /home/snuailab/Desktop/waffle_hub/docs/tutorials/datasets/mnist_det/exports/ULTRALYTICS/train/labels... 79 images, 0 backgrounds, 0 corrupt: 100%|██████████| 79/79 [00:00<00:00, 4415.00it/s]\n"
     ]
    },
    {
     "name": "stdout",
     "output_type": "stream",
     "text": [
      "\u001b[34m\u001b[1malbumentations: \u001b[0mBlur(p=0.01, blur_limit=(3, 7)), MedianBlur(p=0.01, blur_limit=(3, 7)), ToGray(p=0.01), CLAHE(p=0.01, clip_limit=(1, 4.0), tile_grid_size=(8, 8))\n",
      "\u001b[34m\u001b[1mval: \u001b[0mNew cache created: /home/snuailab/Desktop/waffle_hub/docs/tutorials/datasets/mnist_det/exports/ULTRALYTICS/val/labels.cache\n"
     ]
    },
    {
     "name": "stderr",
     "output_type": "stream",
     "text": [
      "\u001b[34m\u001b[1mval: \u001b[0mScanning /home/snuailab/Desktop/waffle_hub/docs/tutorials/datasets/mnist_det/exports/ULTRALYTICS/val/labels... 9 images, 0 backgrounds, 0 corrupt: 100%|██████████| 9/9 [00:00<00:00, 3013.87it/s]\n"
     ]
    },
    {
     "name": "stdout",
     "output_type": "stream",
     "text": [
      "Plotting labels to hubs/ultralytics_mnist_detection/artifacts/labels.jpg... \n",
      "\u001b[34m\u001b[1moptimizer:\u001b[0m 'optimizer=auto' found, ignoring 'lr0=0.01' and 'momentum=0.937' and determining best 'optimizer', 'lr0' and 'momentum' automatically... \n",
      "\u001b[34m\u001b[1moptimizer:\u001b[0m AdamW(lr=0.001667, momentum=0.9) with parameter groups 57 weight(decay=0.0), 64 weight(decay=0.0005), 63 bias(decay=0.0)\n",
      "Image sizes 640 train, 640 val\n",
      "Using 2 dataloader workers\n",
      "Logging results to \u001b[1mhubs/ultralytics_mnist_detection/artifacts\u001b[0m\n",
      "Starting training for 50 epochs...\n",
      "\n",
      "      Epoch    GPU_mem   box_loss   cls_loss   dfl_loss  Instances       Size\n"
     ]
    },
    {
     "name": "stderr",
     "output_type": "stream",
     "text": [
      "       1/50      0.69G      1.822      5.281      1.261          1        640: 100%|██████████| 20/20 [00:01<00:00, 16.30it/s]\n",
      "                 Class     Images  Instances      Box(P          R      mAP50  mAP50-95): 100%|██████████| 2/2 [00:00<00:00, 19.36it/s]\n"
     ]
    },
    {
     "name": "stdout",
     "output_type": "stream",
     "text": [
      "                   all          9          9    0.00333          1      0.269      0.251\n",
      "\n",
      "      Epoch    GPU_mem   box_loss   cls_loss   dfl_loss  Instances       Size\n"
     ]
    },
    {
     "name": "stderr",
     "output_type": "stream",
     "text": [
      "       2/50     0.734G       1.46      3.949      1.172          5        640: 100%|██████████| 20/20 [00:00<00:00, 25.01it/s]\n",
      "                 Class     Images  Instances      Box(P          R      mAP50  mAP50-95): 100%|██████████| 2/2 [00:00<00:00, 39.78it/s]\n"
     ]
    },
    {
     "name": "stdout",
     "output_type": "stream",
     "text": [
      "                   all          9          9    0.00333          1      0.659      0.387\n",
      "\n",
      "      Epoch    GPU_mem   box_loss   cls_loss   dfl_loss  Instances       Size\n"
     ]
    },
    {
     "name": "stderr",
     "output_type": "stream",
     "text": [
      "       3/50     0.734G      1.215      3.469      1.105          3        640: 100%|██████████| 20/20 [00:00<00:00, 24.57it/s]\n",
      "                 Class     Images  Instances      Box(P          R      mAP50  mAP50-95): 100%|██████████| 2/2 [00:00<00:00, 40.61it/s]\n"
     ]
    },
    {
     "name": "stdout",
     "output_type": "stream",
     "text": [
      "                   all          9          9    0.00336          1      0.709      0.398\n",
      "\n",
      "      Epoch    GPU_mem   box_loss   cls_loss   dfl_loss  Instances       Size\n"
     ]
    },
    {
     "name": "stderr",
     "output_type": "stream",
     "text": [
      "       4/50     0.734G      1.232      2.838      1.084          7        640: 100%|██████████| 20/20 [00:00<00:00, 25.36it/s]\n",
      "                 Class     Images  Instances      Box(P          R      mAP50  mAP50-95): 100%|██████████| 2/2 [00:00<00:00, 39.56it/s]\n"
     ]
    },
    {
     "name": "stdout",
     "output_type": "stream",
     "text": [
      "                   all          9          9      0.549      0.528      0.661       0.37\n",
      "\n",
      "      Epoch    GPU_mem   box_loss   cls_loss   dfl_loss  Instances       Size\n"
     ]
    },
    {
     "name": "stderr",
     "output_type": "stream",
     "text": [
      "       5/50     0.734G      1.297      2.922      1.138          4        640: 100%|██████████| 20/20 [00:00<00:00, 26.09it/s]\n",
      "                 Class     Images  Instances      Box(P          R      mAP50  mAP50-95): 100%|██████████| 2/2 [00:00<00:00, 39.54it/s]\n"
     ]
    },
    {
     "name": "stdout",
     "output_type": "stream",
     "text": [
      "                   all          9          9      0.363      0.518       0.43      0.175\n",
      "\n",
      "      Epoch    GPU_mem   box_loss   cls_loss   dfl_loss  Instances       Size\n"
     ]
    },
    {
     "name": "stderr",
     "output_type": "stream",
     "text": [
      "       6/50     0.734G      1.615      3.675      1.343          2        640: 100%|██████████| 20/20 [00:00<00:00, 26.38it/s]\n",
      "                 Class     Images  Instances      Box(P          R      mAP50  mAP50-95): 100%|██████████| 2/2 [00:00<00:00, 41.46it/s]\n"
     ]
    },
    {
     "name": "stdout",
     "output_type": "stream",
     "text": [
      "                   all          9          9     0.0511        0.2     0.0402    0.00585\n",
      "\n",
      "      Epoch    GPU_mem   box_loss   cls_loss   dfl_loss  Instances       Size\n"
     ]
    },
    {
     "name": "stderr",
     "output_type": "stream",
     "text": [
      "       7/50     0.734G      1.274      3.439      1.118          5        640: 100%|██████████| 20/20 [00:00<00:00, 26.70it/s]\n",
      "                 Class     Images  Instances      Box(P          R      mAP50  mAP50-95): 100%|██████████| 2/2 [00:00<00:00, 40.06it/s]\n"
     ]
    },
    {
     "name": "stdout",
     "output_type": "stream",
     "text": [
      "                   all          9          9      0.504      0.125     0.0116    0.00534\n",
      "\n",
      "      Epoch    GPU_mem   box_loss   cls_loss   dfl_loss  Instances       Size\n"
     ]
    },
    {
     "name": "stderr",
     "output_type": "stream",
     "text": [
      "       8/50     0.734G      1.344      3.187      1.172          4        640: 100%|██████████| 20/20 [00:00<00:00, 26.82it/s]\n",
      "                 Class     Images  Instances      Box(P          R      mAP50  mAP50-95): 100%|██████████| 2/2 [00:00<00:00, 37.59it/s]\n"
     ]
    },
    {
     "name": "stdout",
     "output_type": "stream",
     "text": [
      "                   all          9          9       0.52      0.442      0.423      0.234\n",
      "\n",
      "      Epoch    GPU_mem   box_loss   cls_loss   dfl_loss  Instances       Size\n"
     ]
    },
    {
     "name": "stderr",
     "output_type": "stream",
     "text": [
      "       9/50     0.734G      1.114      2.676      1.024          6        640: 100%|██████████| 20/20 [00:00<00:00, 26.14it/s]\n",
      "                 Class     Images  Instances      Box(P          R      mAP50  mAP50-95): 100%|██████████| 2/2 [00:00<00:00, 40.40it/s]\n"
     ]
    },
    {
     "name": "stdout",
     "output_type": "stream",
     "text": [
      "                   all          9          9       0.51      0.994      0.544      0.414\n",
      "\n",
      "      Epoch    GPU_mem   box_loss   cls_loss   dfl_loss  Instances       Size\n"
     ]
    },
    {
     "name": "stderr",
     "output_type": "stream",
     "text": [
      "      10/50     0.734G      1.179      2.848      1.035          5        640: 100%|██████████| 20/20 [00:00<00:00, 24.45it/s]\n",
      "                 Class     Images  Instances      Box(P          R      mAP50  mAP50-95): 100%|██████████| 2/2 [00:00<00:00, 41.00it/s]\n"
     ]
    },
    {
     "name": "stdout",
     "output_type": "stream",
     "text": [
      "                   all          9          9      0.703      0.688      0.797      0.537\n",
      "\n",
      "      Epoch    GPU_mem   box_loss   cls_loss   dfl_loss  Instances       Size\n"
     ]
    },
    {
     "name": "stderr",
     "output_type": "stream",
     "text": [
      "      11/50     0.734G      1.321      2.869       1.13          4        640: 100%|██████████| 20/20 [00:00<00:00, 26.44it/s]\n",
      "                 Class     Images  Instances      Box(P          R      mAP50  mAP50-95): 100%|██████████| 2/2 [00:00<00:00, 35.82it/s]\n"
     ]
    },
    {
     "name": "stdout",
     "output_type": "stream",
     "text": [
      "                   all          9          9      0.683      0.982      0.962       0.75\n",
      "\n",
      "      Epoch    GPU_mem   box_loss   cls_loss   dfl_loss  Instances       Size\n"
     ]
    },
    {
     "name": "stderr",
     "output_type": "stream",
     "text": [
      "      12/50     0.734G      1.073      2.282      1.011          3        640: 100%|██████████| 20/20 [00:00<00:00, 27.19it/s]\n",
      "                 Class     Images  Instances      Box(P          R      mAP50  mAP50-95): 100%|██████████| 2/2 [00:00<00:00, 40.96it/s]\n"
     ]
    },
    {
     "name": "stdout",
     "output_type": "stream",
     "text": [
      "                   all          9          9      0.961      0.885      0.978      0.751\n",
      "\n",
      "      Epoch    GPU_mem   box_loss   cls_loss   dfl_loss  Instances       Size\n"
     ]
    },
    {
     "name": "stderr",
     "output_type": "stream",
     "text": [
      "      13/50     0.734G      1.133      2.143      1.087          2        640: 100%|██████████| 20/20 [00:00<00:00, 27.34it/s]\n",
      "                 Class     Images  Instances      Box(P          R      mAP50  mAP50-95): 100%|██████████| 2/2 [00:00<00:00, 37.22it/s]\n"
     ]
    },
    {
     "name": "stdout",
     "output_type": "stream",
     "text": [
      "                   all          9          9      0.918      0.926      0.995      0.821\n",
      "\n",
      "      Epoch    GPU_mem   box_loss   cls_loss   dfl_loss  Instances       Size\n"
     ]
    },
    {
     "name": "stderr",
     "output_type": "stream",
     "text": [
      "      14/50     0.734G      1.035      2.394      1.038          3        640: 100%|██████████| 20/20 [00:00<00:00, 26.14it/s]\n",
      "                 Class     Images  Instances      Box(P          R      mAP50  mAP50-95): 100%|██████████| 2/2 [00:00<00:00, 42.05it/s]\n"
     ]
    },
    {
     "name": "stdout",
     "output_type": "stream",
     "text": [
      "                   all          9          9      0.915          1      0.995      0.808\n",
      "\n",
      "      Epoch    GPU_mem   box_loss   cls_loss   dfl_loss  Instances       Size\n"
     ]
    },
    {
     "name": "stderr",
     "output_type": "stream",
     "text": [
      "      15/50     0.734G      1.278      2.525      1.098          4        640: 100%|██████████| 20/20 [00:00<00:00, 26.47it/s]\n",
      "                 Class     Images  Instances      Box(P          R      mAP50  mAP50-95): 100%|██████████| 2/2 [00:00<00:00, 42.29it/s]\n"
     ]
    },
    {
     "name": "stdout",
     "output_type": "stream",
     "text": [
      "                   all          9          9      0.914          1      0.995      0.799\n",
      "\n",
      "      Epoch    GPU_mem   box_loss   cls_loss   dfl_loss  Instances       Size\n"
     ]
    },
    {
     "name": "stderr",
     "output_type": "stream",
     "text": [
      "      16/50     0.734G       1.12       2.02       1.03          4        640: 100%|██████████| 20/20 [00:00<00:00, 26.45it/s]\n",
      "                 Class     Images  Instances      Box(P          R      mAP50  mAP50-95): 100%|██████████| 2/2 [00:00<00:00, 40.61it/s]\n"
     ]
    },
    {
     "name": "stdout",
     "output_type": "stream",
     "text": [
      "                   all          9          9      0.985          1      0.995       0.79\n",
      "\n",
      "      Epoch    GPU_mem   box_loss   cls_loss   dfl_loss  Instances       Size\n"
     ]
    },
    {
     "name": "stderr",
     "output_type": "stream",
     "text": [
      "      17/50     0.734G       1.03      1.836     0.9985          6        640: 100%|██████████| 20/20 [00:00<00:00, 26.29it/s]\n",
      "                 Class     Images  Instances      Box(P          R      mAP50  mAP50-95): 100%|██████████| 2/2 [00:00<00:00, 39.34it/s]\n"
     ]
    },
    {
     "name": "stdout",
     "output_type": "stream",
     "text": [
      "                   all          9          9      0.985          1      0.995      0.761\n",
      "\n",
      "      Epoch    GPU_mem   box_loss   cls_loss   dfl_loss  Instances       Size\n"
     ]
    },
    {
     "name": "stderr",
     "output_type": "stream",
     "text": [
      "      18/50     0.734G      1.069      2.128      1.005          6        640: 100%|██████████| 20/20 [00:00<00:00, 25.53it/s]\n",
      "                 Class     Images  Instances      Box(P          R      mAP50  mAP50-95): 100%|██████████| 2/2 [00:00<00:00, 40.82it/s]\n"
     ]
    },
    {
     "name": "stdout",
     "output_type": "stream",
     "text": [
      "                   all          9          9      0.983          1      0.995      0.813\n",
      "\n",
      "      Epoch    GPU_mem   box_loss   cls_loss   dfl_loss  Instances       Size\n"
     ]
    },
    {
     "name": "stderr",
     "output_type": "stream",
     "text": [
      "      19/50     0.734G      0.957      1.706     0.9848          2        640: 100%|██████████| 20/20 [00:00<00:00, 26.56it/s]\n",
      "                 Class     Images  Instances      Box(P          R      mAP50  mAP50-95): 100%|██████████| 2/2 [00:00<00:00, 41.70it/s]\n"
     ]
    },
    {
     "name": "stdout",
     "output_type": "stream",
     "text": [
      "                   all          9          9      0.964          1      0.995      0.801\n",
      "\n",
      "      Epoch    GPU_mem   box_loss   cls_loss   dfl_loss  Instances       Size\n"
     ]
    },
    {
     "name": "stderr",
     "output_type": "stream",
     "text": [
      "      20/50     0.734G      1.015      1.783      1.052          2        640: 100%|██████████| 20/20 [00:00<00:00, 26.15it/s]\n",
      "                 Class     Images  Instances      Box(P          R      mAP50  mAP50-95): 100%|██████████| 2/2 [00:00<00:00, 37.79it/s]\n"
     ]
    },
    {
     "name": "stdout",
     "output_type": "stream",
     "text": [
      "                   all          9          9      0.959          1      0.995      0.824\n",
      "\n",
      "      Epoch    GPU_mem   box_loss   cls_loss   dfl_loss  Instances       Size\n"
     ]
    },
    {
     "name": "stderr",
     "output_type": "stream",
     "text": [
      "      21/50     0.734G     0.9298      2.976      1.003          3        640: 100%|██████████| 20/20 [00:00<00:00, 25.19it/s]\n",
      "                 Class     Images  Instances      Box(P          R      mAP50  mAP50-95): 100%|██████████| 2/2 [00:00<00:00, 39.18it/s]\n"
     ]
    },
    {
     "name": "stdout",
     "output_type": "stream",
     "text": [
      "                   all          9          9      0.955          1      0.995      0.832\n",
      "\n",
      "      Epoch    GPU_mem   box_loss   cls_loss   dfl_loss  Instances       Size\n"
     ]
    },
    {
     "name": "stderr",
     "output_type": "stream",
     "text": [
      "      22/50     0.734G      1.006      2.071       1.02          5        640: 100%|██████████| 20/20 [00:00<00:00, 24.94it/s]\n",
      "                 Class     Images  Instances      Box(P          R      mAP50  mAP50-95): 100%|██████████| 2/2 [00:00<00:00, 40.83it/s]\n"
     ]
    },
    {
     "name": "stdout",
     "output_type": "stream",
     "text": [
      "                   all          9          9      0.949          1      0.995      0.836\n",
      "\n",
      "      Epoch    GPU_mem   box_loss   cls_loss   dfl_loss  Instances       Size\n"
     ]
    },
    {
     "name": "stderr",
     "output_type": "stream",
     "text": [
      "      23/50     0.734G     0.9847      1.668      1.011          7        640: 100%|██████████| 20/20 [00:00<00:00, 25.91it/s]\n",
      "                 Class     Images  Instances      Box(P          R      mAP50  mAP50-95): 100%|██████████| 2/2 [00:00<00:00, 39.67it/s]\n"
     ]
    },
    {
     "name": "stdout",
     "output_type": "stream",
     "text": [
      "                   all          9          9      0.974          1      0.995      0.808\n",
      "\n",
      "      Epoch    GPU_mem   box_loss   cls_loss   dfl_loss  Instances       Size\n"
     ]
    },
    {
     "name": "stderr",
     "output_type": "stream",
     "text": [
      "      24/50     0.734G     0.8943      1.887     0.9774          3        640: 100%|██████████| 20/20 [00:00<00:00, 25.51it/s]\n",
      "                 Class     Images  Instances      Box(P          R      mAP50  mAP50-95): 100%|██████████| 2/2 [00:00<00:00, 41.02it/s]\n"
     ]
    },
    {
     "name": "stdout",
     "output_type": "stream",
     "text": [
      "                   all          9          9      0.972      0.999      0.995      0.841\n",
      "\n",
      "      Epoch    GPU_mem   box_loss   cls_loss   dfl_loss  Instances       Size\n"
     ]
    },
    {
     "name": "stderr",
     "output_type": "stream",
     "text": [
      "      25/50     0.734G     0.8872      1.614     0.9938          5        640: 100%|██████████| 20/20 [00:00<00:00, 25.49it/s]\n",
      "                 Class     Images  Instances      Box(P          R      mAP50  mAP50-95): 100%|██████████| 2/2 [00:00<00:00, 41.67it/s]\n"
     ]
    },
    {
     "name": "stdout",
     "output_type": "stream",
     "text": [
      "                   all          9          9      0.967          1      0.995      0.841\n",
      "\n",
      "      Epoch    GPU_mem   box_loss   cls_loss   dfl_loss  Instances       Size\n"
     ]
    },
    {
     "name": "stderr",
     "output_type": "stream",
     "text": [
      "      26/50     0.734G     0.8488      1.626     0.9292          2        640: 100%|██████████| 20/20 [00:00<00:00, 25.24it/s]\n",
      "                 Class     Images  Instances      Box(P          R      mAP50  mAP50-95): 100%|██████████| 2/2 [00:00<00:00, 42.07it/s]\n"
     ]
    },
    {
     "name": "stdout",
     "output_type": "stream",
     "text": [
      "                   all          9          9      0.987          1      0.995      0.848\n",
      "\n",
      "      Epoch    GPU_mem   box_loss   cls_loss   dfl_loss  Instances       Size\n"
     ]
    },
    {
     "name": "stderr",
     "output_type": "stream",
     "text": [
      "      27/50     0.734G     0.9375      1.651     0.9823          3        640: 100%|██████████| 20/20 [00:00<00:00, 26.79it/s]\n",
      "                 Class     Images  Instances      Box(P          R      mAP50  mAP50-95): 100%|██████████| 2/2 [00:00<00:00, 43.38it/s]\n"
     ]
    },
    {
     "name": "stdout",
     "output_type": "stream",
     "text": [
      "                   all          9          9      0.978          1      0.995      0.916\n",
      "\n",
      "      Epoch    GPU_mem   box_loss   cls_loss   dfl_loss  Instances       Size\n"
     ]
    },
    {
     "name": "stderr",
     "output_type": "stream",
     "text": [
      "      28/50     0.734G     0.8891      1.548      1.009          7        640: 100%|██████████| 20/20 [00:00<00:00, 24.02it/s]\n",
      "                 Class     Images  Instances      Box(P          R      mAP50  mAP50-95): 100%|██████████| 2/2 [00:00<00:00, 40.40it/s]\n"
     ]
    },
    {
     "name": "stdout",
     "output_type": "stream",
     "text": [
      "                   all          9          9      0.981          1      0.995       0.96\n",
      "\n",
      "      Epoch    GPU_mem   box_loss   cls_loss   dfl_loss  Instances       Size\n"
     ]
    },
    {
     "name": "stderr",
     "output_type": "stream",
     "text": [
      "      29/50     0.734G     0.8107      1.592     0.9312          2        640: 100%|██████████| 20/20 [00:00<00:00, 23.79it/s]\n",
      "                 Class     Images  Instances      Box(P          R      mAP50  mAP50-95): 100%|██████████| 2/2 [00:00<00:00, 38.68it/s]\n"
     ]
    },
    {
     "name": "stdout",
     "output_type": "stream",
     "text": [
      "                   all          9          9      0.987          1      0.995      0.905\n",
      "\n",
      "      Epoch    GPU_mem   box_loss   cls_loss   dfl_loss  Instances       Size\n"
     ]
    },
    {
     "name": "stderr",
     "output_type": "stream",
     "text": [
      "      30/50     0.734G     0.8249      1.368     0.9427          5        640: 100%|██████████| 20/20 [00:00<00:00, 23.54it/s]\n",
      "                 Class     Images  Instances      Box(P          R      mAP50  mAP50-95): 100%|██████████| 2/2 [00:00<00:00, 44.01it/s]\n"
     ]
    },
    {
     "name": "stdout",
     "output_type": "stream",
     "text": [
      "                   all          9          9       0.99          1      0.995      0.904\n",
      "\n",
      "      Epoch    GPU_mem   box_loss   cls_loss   dfl_loss  Instances       Size\n"
     ]
    },
    {
     "name": "stderr",
     "output_type": "stream",
     "text": [
      "      31/50     0.734G     0.7314      1.373     0.9075          4        640: 100%|██████████| 20/20 [00:00<00:00, 23.63it/s]\n",
      "                 Class     Images  Instances      Box(P          R      mAP50  mAP50-95): 100%|██████████| 2/2 [00:00<00:00, 40.21it/s]\n"
     ]
    },
    {
     "name": "stdout",
     "output_type": "stream",
     "text": [
      "                   all          9          9      0.988          1      0.995      0.888\n",
      "\n",
      "      Epoch    GPU_mem   box_loss   cls_loss   dfl_loss  Instances       Size\n"
     ]
    },
    {
     "name": "stderr",
     "output_type": "stream",
     "text": [
      "      32/50     0.734G     0.7548      1.301     0.9252          4        640: 100%|██████████| 20/20 [00:00<00:00, 25.33it/s]\n",
      "                 Class     Images  Instances      Box(P          R      mAP50  mAP50-95): 100%|██████████| 2/2 [00:00<00:00, 39.95it/s]\n"
     ]
    },
    {
     "name": "stdout",
     "output_type": "stream",
     "text": [
      "                   all          9          9      0.984          1      0.995      0.912\n",
      "\n",
      "      Epoch    GPU_mem   box_loss   cls_loss   dfl_loss  Instances       Size\n"
     ]
    },
    {
     "name": "stderr",
     "output_type": "stream",
     "text": [
      "      33/50     0.734G     0.7588      1.596     0.9135          5        640: 100%|██████████| 20/20 [00:00<00:00, 28.12it/s]\n",
      "                 Class     Images  Instances      Box(P          R      mAP50  mAP50-95): 100%|██████████| 2/2 [00:00<00:00, 45.52it/s]\n"
     ]
    },
    {
     "name": "stdout",
     "output_type": "stream",
     "text": [
      "                   all          9          9      0.971          1      0.995       0.89\n",
      "\n",
      "      Epoch    GPU_mem   box_loss   cls_loss   dfl_loss  Instances       Size\n"
     ]
    },
    {
     "name": "stderr",
     "output_type": "stream",
     "text": [
      "      34/50     0.734G     0.7808      1.432      0.927          3        640: 100%|██████████| 20/20 [00:00<00:00, 25.14it/s]\n",
      "                 Class     Images  Instances      Box(P          R      mAP50  mAP50-95): 100%|██████████| 2/2 [00:00<00:00, 42.34it/s]\n"
     ]
    },
    {
     "name": "stdout",
     "output_type": "stream",
     "text": [
      "                   all          9          9      0.964          1      0.995      0.839\n",
      "\n",
      "      Epoch    GPU_mem   box_loss   cls_loss   dfl_loss  Instances       Size\n"
     ]
    },
    {
     "name": "stderr",
     "output_type": "stream",
     "text": [
      "      35/50     0.734G     0.8292      1.507     0.9695          4        640: 100%|██████████| 20/20 [00:00<00:00, 26.24it/s]\n",
      "                 Class     Images  Instances      Box(P          R      mAP50  mAP50-95): 100%|██████████| 2/2 [00:00<00:00, 41.49it/s]\n"
     ]
    },
    {
     "name": "stdout",
     "output_type": "stream",
     "text": [
      "                   all          9          9      0.978          1      0.995      0.848\n",
      "\n",
      "      Epoch    GPU_mem   box_loss   cls_loss   dfl_loss  Instances       Size\n"
     ]
    },
    {
     "name": "stderr",
     "output_type": "stream",
     "text": [
      "      36/50     0.734G     0.7424      1.348     0.9429          2        640: 100%|██████████| 20/20 [00:00<00:00, 26.20it/s]\n",
      "                 Class     Images  Instances      Box(P          R      mAP50  mAP50-95): 100%|██████████| 2/2 [00:00<00:00, 43.04it/s]\n"
     ]
    },
    {
     "name": "stdout",
     "output_type": "stream",
     "text": [
      "                   all          9          9      0.987          1      0.995      0.863\n",
      "\n",
      "      Epoch    GPU_mem   box_loss   cls_loss   dfl_loss  Instances       Size\n"
     ]
    },
    {
     "name": "stderr",
     "output_type": "stream",
     "text": [
      "      37/50     0.734G     0.8563      1.267     0.9637          4        640: 100%|██████████| 20/20 [00:00<00:00, 25.81it/s]\n",
      "                 Class     Images  Instances      Box(P          R      mAP50  mAP50-95): 100%|██████████| 2/2 [00:00<00:00, 41.94it/s]\n"
     ]
    },
    {
     "name": "stdout",
     "output_type": "stream",
     "text": [
      "                   all          9          9      0.985          1      0.995      0.882\n",
      "\n",
      "      Epoch    GPU_mem   box_loss   cls_loss   dfl_loss  Instances       Size\n"
     ]
    },
    {
     "name": "stderr",
     "output_type": "stream",
     "text": [
      "      38/50     0.734G     0.7505      1.268     0.8922          3        640: 100%|██████████| 20/20 [00:00<00:00, 25.85it/s]\n",
      "                 Class     Images  Instances      Box(P          R      mAP50  mAP50-95): 100%|██████████| 2/2 [00:00<00:00, 44.28it/s]\n"
     ]
    },
    {
     "name": "stdout",
     "output_type": "stream",
     "text": [
      "                   all          9          9      0.985          1      0.995      0.891\n",
      "\n",
      "      Epoch    GPU_mem   box_loss   cls_loss   dfl_loss  Instances       Size\n"
     ]
    },
    {
     "name": "stderr",
     "output_type": "stream",
     "text": [
      "      39/50     0.734G     0.6884      1.269     0.9136          5        640: 100%|██████████| 20/20 [00:00<00:00, 27.16it/s]\n",
      "                 Class     Images  Instances      Box(P          R      mAP50  mAP50-95): 100%|██████████| 2/2 [00:00<00:00, 44.60it/s]\n"
     ]
    },
    {
     "name": "stdout",
     "output_type": "stream",
     "text": [
      "                   all          9          9      0.977          1      0.995      0.872\n",
      "\n",
      "      Epoch    GPU_mem   box_loss   cls_loss   dfl_loss  Instances       Size\n"
     ]
    },
    {
     "name": "stderr",
     "output_type": "stream",
     "text": [
      "      40/50     0.734G     0.7634      1.237      0.911          8        640: 100%|██████████| 20/20 [00:00<00:00, 26.13it/s]\n",
      "                 Class     Images  Instances      Box(P          R      mAP50  mAP50-95): 100%|██████████| 2/2 [00:00<00:00, 45.40it/s]\n"
     ]
    },
    {
     "name": "stdout",
     "output_type": "stream",
     "text": [
      "                   all          9          9       0.97          1      0.995      0.882\n",
      "Closing dataloader mosaic\n",
      "\u001b[34m\u001b[1malbumentations: \u001b[0mBlur(p=0.01, blur_limit=(3, 7)), MedianBlur(p=0.01, blur_limit=(3, 7)), ToGray(p=0.01), CLAHE(p=0.01, clip_limit=(1, 4.0), tile_grid_size=(8, 8))\n",
      "\n",
      "      Epoch    GPU_mem   box_loss   cls_loss   dfl_loss  Instances       Size\n"
     ]
    },
    {
     "name": "stderr",
     "output_type": "stream",
     "text": [
      "      41/50     0.732G      0.657      1.304     0.9203          3        640: 100%|██████████| 20/20 [00:00<00:00, 22.98it/s]\n",
      "                 Class     Images  Instances      Box(P          R      mAP50  mAP50-95): 100%|██████████| 2/2 [00:00<00:00, 42.61it/s]\n"
     ]
    },
    {
     "name": "stdout",
     "output_type": "stream",
     "text": [
      "                   all          9          9      0.963      0.999      0.995      0.902\n",
      "\n",
      "      Epoch    GPU_mem   box_loss   cls_loss   dfl_loss  Instances       Size\n"
     ]
    },
    {
     "name": "stderr",
     "output_type": "stream",
     "text": [
      "      42/50     0.732G     0.6394      1.248     0.9003          3        640: 100%|██████████| 20/20 [00:00<00:00, 25.67it/s]\n",
      "                 Class     Images  Instances      Box(P          R      mAP50  mAP50-95): 100%|██████████| 2/2 [00:00<00:00, 44.40it/s]\n"
     ]
    },
    {
     "name": "stdout",
     "output_type": "stream",
     "text": [
      "                   all          9          9      0.964          1      0.995        0.9\n",
      "\n",
      "      Epoch    GPU_mem   box_loss   cls_loss   dfl_loss  Instances       Size\n"
     ]
    },
    {
     "name": "stderr",
     "output_type": "stream",
     "text": [
      "      43/50     0.732G     0.6424       1.27     0.8791          3        640: 100%|██████████| 20/20 [00:00<00:00, 26.81it/s]\n",
      "                 Class     Images  Instances      Box(P          R      mAP50  mAP50-95): 100%|██████████| 2/2 [00:00<00:00, 44.02it/s]\n"
     ]
    },
    {
     "name": "stdout",
     "output_type": "stream",
     "text": [
      "                   all          9          9       0.97          1      0.995        0.9\n",
      "\n",
      "      Epoch    GPU_mem   box_loss   cls_loss   dfl_loss  Instances       Size\n"
     ]
    },
    {
     "name": "stderr",
     "output_type": "stream",
     "text": [
      "      44/50     0.732G     0.5794      1.157     0.8961          3        640: 100%|██████████| 20/20 [00:00<00:00, 27.23it/s]\n",
      "                 Class     Images  Instances      Box(P          R      mAP50  mAP50-95): 100%|██████████| 2/2 [00:00<00:00, 43.70it/s]\n"
     ]
    },
    {
     "name": "stdout",
     "output_type": "stream",
     "text": [
      "                   all          9          9      0.977          1      0.995      0.941\n",
      "\n",
      "      Epoch    GPU_mem   box_loss   cls_loss   dfl_loss  Instances       Size\n"
     ]
    },
    {
     "name": "stderr",
     "output_type": "stream",
     "text": [
      "      45/50     0.732G     0.6225       1.21     0.8864          3        640: 100%|██████████| 20/20 [00:00<00:00, 26.76it/s]\n",
      "                 Class     Images  Instances      Box(P          R      mAP50  mAP50-95): 100%|██████████| 2/2 [00:00<00:00, 44.50it/s]\n"
     ]
    },
    {
     "name": "stdout",
     "output_type": "stream",
     "text": [
      "                   all          9          9      0.982          1      0.995      0.902\n",
      "\n",
      "      Epoch    GPU_mem   box_loss   cls_loss   dfl_loss  Instances       Size\n"
     ]
    },
    {
     "name": "stderr",
     "output_type": "stream",
     "text": [
      "      46/50     0.732G     0.6082      1.201     0.8573          3        640: 100%|██████████| 20/20 [00:00<00:00, 26.01it/s]\n",
      "                 Class     Images  Instances      Box(P          R      mAP50  mAP50-95): 100%|██████████| 2/2 [00:00<00:00, 44.54it/s]\n"
     ]
    },
    {
     "name": "stdout",
     "output_type": "stream",
     "text": [
      "                   all          9          9      0.989          1      0.995      0.898\n",
      "\n",
      "      Epoch    GPU_mem   box_loss   cls_loss   dfl_loss  Instances       Size\n"
     ]
    },
    {
     "name": "stderr",
     "output_type": "stream",
     "text": [
      "      47/50     0.732G      0.555       1.19     0.8721          3        640: 100%|██████████| 20/20 [00:00<00:00, 26.47it/s]\n",
      "                 Class     Images  Instances      Box(P          R      mAP50  mAP50-95): 100%|██████████| 2/2 [00:00<00:00, 42.92it/s]\n"
     ]
    },
    {
     "name": "stdout",
     "output_type": "stream",
     "text": [
      "                   all          9          9       0.99          1      0.995      0.927\n",
      "\n",
      "      Epoch    GPU_mem   box_loss   cls_loss   dfl_loss  Instances       Size\n"
     ]
    },
    {
     "name": "stderr",
     "output_type": "stream",
     "text": [
      "      48/50     0.732G     0.5454      1.161     0.8357          3        640: 100%|██████████| 20/20 [00:00<00:00, 27.16it/s]\n",
      "                 Class     Images  Instances      Box(P          R      mAP50  mAP50-95): 100%|██████████| 2/2 [00:00<00:00, 44.35it/s]\n"
     ]
    },
    {
     "name": "stdout",
     "output_type": "stream",
     "text": [
      "                   all          9          9       0.99          1      0.995       0.93\n",
      "\n",
      "      Epoch    GPU_mem   box_loss   cls_loss   dfl_loss  Instances       Size\n"
     ]
    },
    {
     "name": "stderr",
     "output_type": "stream",
     "text": [
      "      49/50     0.732G     0.5389       1.13     0.8415          3        640: 100%|██████████| 20/20 [00:00<00:00, 26.77it/s]\n",
      "                 Class     Images  Instances      Box(P          R      mAP50  mAP50-95): 100%|██████████| 2/2 [00:00<00:00, 40.50it/s]\n"
     ]
    },
    {
     "name": "stdout",
     "output_type": "stream",
     "text": [
      "                   all          9          9       0.99          1      0.995      0.912\n",
      "\n",
      "      Epoch    GPU_mem   box_loss   cls_loss   dfl_loss  Instances       Size\n"
     ]
    },
    {
     "name": "stderr",
     "output_type": "stream",
     "text": [
      "      50/50     0.732G     0.5439      1.111     0.8559          3        640: 100%|██████████| 20/20 [00:00<00:00, 26.69it/s]\n",
      "                 Class     Images  Instances      Box(P          R      mAP50  mAP50-95): 100%|██████████| 2/2 [00:00<00:00, 43.84it/s]\n"
     ]
    },
    {
     "name": "stdout",
     "output_type": "stream",
     "text": [
      "                   all          9          9      0.989          1      0.995      0.924\n",
      "\n",
      "50 epochs completed in 0.018 hours.\n",
      "Optimizer stripped from hubs/ultralytics_mnist_detection/artifacts/weights/last.pt, 6.2MB\n",
      "Optimizer stripped from hubs/ultralytics_mnist_detection/artifacts/weights/best.pt, 6.2MB\n",
      "\n",
      "Validating hubs/ultralytics_mnist_detection/artifacts/weights/best.pt...\n",
      "Ultralytics YOLOv8.0.227 🚀 Python-3.10.13 torch-1.13.1 CUDA:0 (NVIDIA GeForce RTX 3070, 7982MiB)\n",
      "Model summary (fused): 168 layers, 3006038 parameters, 0 gradients, 8.1 GFLOPs\n"
     ]
    },
    {
     "name": "stderr",
     "output_type": "stream",
     "text": [
      "                 Class     Images  Instances      Box(P          R      mAP50  mAP50-95): 100%|██████████| 2/2 [00:00<00:00, 31.37it/s]\n"
     ]
    },
    {
     "name": "stdout",
     "output_type": "stream",
     "text": [
      "                   all          9          9      0.981          1      0.995       0.96\n",
      "                     1          9          4      0.986          1      0.995      0.958\n",
      "                     2          9          5      0.976          1      0.995      0.963\n",
      "Speed: 1.2ms preprocess, 2.0ms inference, 0.0ms loss, 1.1ms postprocess per image\n",
      "Results saved to \u001b[1mhubs/ultralytics_mnist_detection/artifacts\u001b[0m\n"
     ]
    },
    {
     "name": "stderr",
     "output_type": "stream",
     "text": [
      "100%|██████████| 3/3 [00:01<00:00,  2.29it/s]\n"
     ]
    },
    {
     "data": {
      "text/plain": [
       "TrainResult(best_ckpt_file=PosixPath('hubs/ultralytics_mnist_detection/weights/best_ckpt.pt'), last_ckpt_file=PosixPath('hubs/ultralytics_mnist_detection/weights/last_ckpt.pt'), metrics=[[{'tag': 'epoch', 'value': 1.0}, {'tag': 'train/box_loss', 'value': 1.8225}, {'tag': 'train/cls_loss', 'value': 5.2812}, {'tag': 'train/dfl_loss', 'value': 1.2608}, {'tag': 'metrics/precision(B)', 'value': 0.00333}, {'tag': 'metrics/recall(B)', 'value': 1.0}, {'tag': 'metrics/mAP50(B)', 'value': 0.26931}, {'tag': 'metrics/mAP50-95(B)', 'value': 0.25096}, {'tag': 'val/box_loss', 'value': 0.51613}, {'tag': 'val/cls_loss', 'value': 3.4685}, {'tag': 'val/dfl_loss', 'value': 0.81329}, {'tag': 'lr/pg0', 'value': 0.00031673}, {'tag': 'lr/pg1', 'value': 0.00031673}, {'tag': 'lr/pg2', 'value': 0.00031673}], [{'tag': 'epoch', 'value': 2.0}, {'tag': 'train/box_loss', 'value': 1.4599}, {'tag': 'train/cls_loss', 'value': 3.9494}, {'tag': 'train/dfl_loss', 'value': 1.1722}, {'tag': 'metrics/precision(B)', 'value': 0.00333}, {'tag': 'metrics/recall(B)', 'value': 1.0}, {'tag': 'metrics/mAP50(B)', 'value': 0.65933}, {'tag': 'metrics/mAP50-95(B)', 'value': 0.38712}, {'tag': 'val/box_loss', 'value': 0.69611}, {'tag': 'val/cls_loss', 'value': 3.413}, {'tag': 'val/dfl_loss', 'value': 0.84745}, {'tag': 'lr/pg0', 'value': 0.00063726}, {'tag': 'lr/pg1', 'value': 0.00063726}, {'tag': 'lr/pg2', 'value': 0.00063726}], [{'tag': 'epoch', 'value': 3.0}, {'tag': 'train/box_loss', 'value': 1.2146}, {'tag': 'train/cls_loss', 'value': 3.4686}, {'tag': 'train/dfl_loss', 'value': 1.1051}, {'tag': 'metrics/precision(B)', 'value': 0.00336}, {'tag': 'metrics/recall(B)', 'value': 1.0}, {'tag': 'metrics/mAP50(B)', 'value': 0.7093}, {'tag': 'metrics/mAP50-95(B)', 'value': 0.39844}, {'tag': 'val/box_loss', 'value': 0.58417}, {'tag': 'val/cls_loss', 'value': 3.6027}, {'tag': 'val/dfl_loss', 'value': 0.84142}, {'tag': 'lr/pg0', 'value': 0.00094458}, {'tag': 'lr/pg1', 'value': 0.00094458}, {'tag': 'lr/pg2', 'value': 0.00094458}], [{'tag': 'epoch', 'value': 4.0}, {'tag': 'train/box_loss', 'value': 1.2317}, {'tag': 'train/cls_loss', 'value': 2.838}, {'tag': 'train/dfl_loss', 'value': 1.0842}, {'tag': 'metrics/precision(B)', 'value': 0.54853}, {'tag': 'metrics/recall(B)', 'value': 0.52842}, {'tag': 'metrics/mAP50(B)', 'value': 0.66128}, {'tag': 'metrics/mAP50-95(B)', 'value': 0.37006}, {'tag': 'val/box_loss', 'value': 1.1094}, {'tag': 'val/cls_loss', 'value': 3.5395}, {'tag': 'val/dfl_loss', 'value': 1.0867}, {'tag': 'lr/pg0', 'value': 0.0012387}, {'tag': 'lr/pg1', 'value': 0.0012387}, {'tag': 'lr/pg2', 'value': 0.0012387}], [{'tag': 'epoch', 'value': 5.0}, {'tag': 'train/box_loss', 'value': 1.297}, {'tag': 'train/cls_loss', 'value': 2.9219}, {'tag': 'train/dfl_loss', 'value': 1.1375}, {'tag': 'metrics/precision(B)', 'value': 0.36344}, {'tag': 'metrics/recall(B)', 'value': 0.51758}, {'tag': 'metrics/mAP50(B)', 'value': 0.42958}, {'tag': 'metrics/mAP50-95(B)', 'value': 0.17546}, {'tag': 'val/box_loss', 'value': 1.8593}, {'tag': 'val/cls_loss', 'value': 4.9146}, {'tag': 'val/dfl_loss', 'value': 2.2106}, {'tag': 'lr/pg0', 'value': 0.0015196}, {'tag': 'lr/pg1', 'value': 0.0015196}, {'tag': 'lr/pg2', 'value': 0.0015196}], [{'tag': 'epoch', 'value': 6.0}, {'tag': 'train/box_loss', 'value': 1.6153}, {'tag': 'train/cls_loss', 'value': 3.6754}, {'tag': 'train/dfl_loss', 'value': 1.3431}, {'tag': 'metrics/precision(B)', 'value': 0.05112}, {'tag': 'metrics/recall(B)', 'value': 0.2}, {'tag': 'metrics/mAP50(B)', 'value': 0.04019}, {'tag': 'metrics/mAP50-95(B)', 'value': 0.00585}, {'tag': 'val/box_loss', 'value': 3.0766}, {'tag': 'val/cls_loss', 'value': 4.9085}, {'tag': 'val/dfl_loss', 'value': 4.9204}, {'tag': 'lr/pg0', 'value': 0.001502}, {'tag': 'lr/pg1', 'value': 0.001502}, {'tag': 'lr/pg2', 'value': 0.001502}], [{'tag': 'epoch', 'value': 7.0}, {'tag': 'train/box_loss', 'value': 1.2743}, {'tag': 'train/cls_loss', 'value': 3.439}, {'tag': 'train/dfl_loss', 'value': 1.1176}, {'tag': 'metrics/precision(B)', 'value': 0.50438}, {'tag': 'metrics/recall(B)', 'value': 0.125}, {'tag': 'metrics/mAP50(B)', 'value': 0.01162}, {'tag': 'metrics/mAP50-95(B)', 'value': 0.00534}, {'tag': 'val/box_loss', 'value': 1.4504}, {'tag': 'val/cls_loss', 'value': 4.5337}, {'tag': 'val/dfl_loss', 'value': 1.3232}, {'tag': 'lr/pg0', 'value': 0.001502}, {'tag': 'lr/pg1', 'value': 0.001502}, {'tag': 'lr/pg2', 'value': 0.001502}], [{'tag': 'epoch', 'value': 8.0}, {'tag': 'train/box_loss', 'value': 1.3441}, {'tag': 'train/cls_loss', 'value': 3.1871}, {'tag': 'train/dfl_loss', 'value': 1.172}, {'tag': 'metrics/precision(B)', 'value': 0.51999}, {'tag': 'metrics/recall(B)', 'value': 0.44235}, {'tag': 'metrics/mAP50(B)', 'value': 0.42304}, {'tag': 'metrics/mAP50-95(B)', 'value': 0.23404}, {'tag': 'val/box_loss', 'value': 1.4004}, {'tag': 'val/cls_loss', 'value': 4.9148}, {'tag': 'val/dfl_loss', 'value': 1.4029}, {'tag': 'lr/pg0', 'value': 0.001469}, {'tag': 'lr/pg1', 'value': 0.001469}, {'tag': 'lr/pg2', 'value': 0.001469}], [{'tag': 'epoch', 'value': 9.0}, {'tag': 'train/box_loss', 'value': 1.1144}, {'tag': 'train/cls_loss', 'value': 2.6761}, {'tag': 'train/dfl_loss', 'value': 1.0244}, {'tag': 'metrics/precision(B)', 'value': 0.50955}, {'tag': 'metrics/recall(B)', 'value': 0.99396}, {'tag': 'metrics/mAP50(B)', 'value': 0.54416}, {'tag': 'metrics/mAP50-95(B)', 'value': 0.41421}, {'tag': 'val/box_loss', 'value': 1.1669}, {'tag': 'val/cls_loss', 'value': 8.431}, {'tag': 'val/dfl_loss', 'value': 1.2428}, {'tag': 'lr/pg0', 'value': 0.001436}, {'tag': 'lr/pg1', 'value': 0.001436}, {'tag': 'lr/pg2', 'value': 0.001436}], [{'tag': 'epoch', 'value': 10.0}, {'tag': 'train/box_loss', 'value': 1.1793}, {'tag': 'train/cls_loss', 'value': 2.8477}, {'tag': 'train/dfl_loss', 'value': 1.0346}, {'tag': 'metrics/precision(B)', 'value': 0.70318}, {'tag': 'metrics/recall(B)', 'value': 0.68772}, {'tag': 'metrics/mAP50(B)', 'value': 0.79738}, {'tag': 'metrics/mAP50-95(B)', 'value': 0.5373}, {'tag': 'val/box_loss', 'value': 1.1955}, {'tag': 'val/cls_loss', 'value': 2.6794}, {'tag': 'val/dfl_loss', 'value': 1.2981}, {'tag': 'lr/pg0', 'value': 0.0014029}, {'tag': 'lr/pg1', 'value': 0.0014029}, {'tag': 'lr/pg2', 'value': 0.0014029}], [{'tag': 'epoch', 'value': 11.0}, {'tag': 'train/box_loss', 'value': 1.3206}, {'tag': 'train/cls_loss', 'value': 2.8687}, {'tag': 'train/dfl_loss', 'value': 1.13}, {'tag': 'metrics/precision(B)', 'value': 0.68304}, {'tag': 'metrics/recall(B)', 'value': 0.98161}, {'tag': 'metrics/mAP50(B)', 'value': 0.96167}, {'tag': 'metrics/mAP50-95(B)', 'value': 0.7501}, {'tag': 'val/box_loss', 'value': 0.73004}, {'tag': 'val/cls_loss', 'value': 2.117}, {'tag': 'val/dfl_loss', 'value': 1.0188}, {'tag': 'lr/pg0', 'value': 0.0013699}, {'tag': 'lr/pg1', 'value': 0.0013699}, {'tag': 'lr/pg2', 'value': 0.0013699}], [{'tag': 'epoch', 'value': 12.0}, {'tag': 'train/box_loss', 'value': 1.0732}, {'tag': 'train/cls_loss', 'value': 2.2815}, {'tag': 'train/dfl_loss', 'value': 1.011}, {'tag': 'metrics/precision(B)', 'value': 0.96143}, {'tag': 'metrics/recall(B)', 'value': 0.88542}, {'tag': 'metrics/mAP50(B)', 'value': 0.97833}, {'tag': 'metrics/mAP50-95(B)', 'value': 0.75087}, {'tag': 'val/box_loss', 'value': 0.9156}, {'tag': 'val/cls_loss', 'value': 2.0097}, {'tag': 'val/dfl_loss', 'value': 1.0319}, {'tag': 'lr/pg0', 'value': 0.0013369}, {'tag': 'lr/pg1', 'value': 0.0013369}, {'tag': 'lr/pg2', 'value': 0.0013369}], [{'tag': 'epoch', 'value': 13.0}, {'tag': 'train/box_loss', 'value': 1.1329}, {'tag': 'train/cls_loss', 'value': 2.1429}, {'tag': 'train/dfl_loss', 'value': 1.0872}, {'tag': 'metrics/precision(B)', 'value': 0.91781}, {'tag': 'metrics/recall(B)', 'value': 0.92588}, {'tag': 'metrics/mAP50(B)', 'value': 0.995}, {'tag': 'metrics/mAP50-95(B)', 'value': 0.82054}, {'tag': 'val/box_loss', 'value': 0.83821}, {'tag': 'val/cls_loss', 'value': 2.169}, {'tag': 'val/dfl_loss', 'value': 1.0358}, {'tag': 'lr/pg0', 'value': 0.0013039}, {'tag': 'lr/pg1', 'value': 0.0013039}, {'tag': 'lr/pg2', 'value': 0.0013039}], [{'tag': 'epoch', 'value': 14.0}, {'tag': 'train/box_loss', 'value': 1.035}, {'tag': 'train/cls_loss', 'value': 2.3938}, {'tag': 'train/dfl_loss', 'value': 1.0382}, {'tag': 'metrics/precision(B)', 'value': 0.91485}, {'tag': 'metrics/recall(B)', 'value': 1.0}, {'tag': 'metrics/mAP50(B)', 'value': 0.995}, {'tag': 'metrics/mAP50-95(B)', 'value': 0.80837}, {'tag': 'val/box_loss', 'value': 0.92436}, {'tag': 'val/cls_loss', 'value': 1.8534}, {'tag': 'val/dfl_loss', 'value': 1.068}, {'tag': 'lr/pg0', 'value': 0.0012709}, {'tag': 'lr/pg1', 'value': 0.0012709}, {'tag': 'lr/pg2', 'value': 0.0012709}], [{'tag': 'epoch', 'value': 15.0}, {'tag': 'train/box_loss', 'value': 1.278}, {'tag': 'train/cls_loss', 'value': 2.5248}, {'tag': 'train/dfl_loss', 'value': 1.0984}, {'tag': 'metrics/precision(B)', 'value': 0.91396}, {'tag': 'metrics/recall(B)', 'value': 1.0}, {'tag': 'metrics/mAP50(B)', 'value': 0.995}, {'tag': 'metrics/mAP50-95(B)', 'value': 0.79893}, {'tag': 'val/box_loss', 'value': 0.99959}, {'tag': 'val/cls_loss', 'value': 1.8918}, {'tag': 'val/dfl_loss', 'value': 1.1467}, {'tag': 'lr/pg0', 'value': 0.0012379}, {'tag': 'lr/pg1', 'value': 0.0012379}, {'tag': 'lr/pg2', 'value': 0.0012379}], [{'tag': 'epoch', 'value': 16.0}, {'tag': 'train/box_loss', 'value': 1.12}, {'tag': 'train/cls_loss', 'value': 2.0196}, {'tag': 'train/dfl_loss', 'value': 1.0302}, {'tag': 'metrics/precision(B)', 'value': 0.98511}, {'tag': 'metrics/recall(B)', 'value': 1.0}, {'tag': 'metrics/mAP50(B)', 'value': 0.995}, {'tag': 'metrics/mAP50-95(B)', 'value': 0.78963}, {'tag': 'val/box_loss', 'value': 1.0088}, {'tag': 'val/cls_loss', 'value': 1.7157}, {'tag': 'val/dfl_loss', 'value': 1.1321}, {'tag': 'lr/pg0', 'value': 0.0012049}, {'tag': 'lr/pg1', 'value': 0.0012049}, {'tag': 'lr/pg2', 'value': 0.0012049}], [{'tag': 'epoch', 'value': 17.0}, {'tag': 'train/box_loss', 'value': 1.03}, {'tag': 'train/cls_loss', 'value': 1.8361}, {'tag': 'train/dfl_loss', 'value': 0.99846}, {'tag': 'metrics/precision(B)', 'value': 0.98497}, {'tag': 'metrics/recall(B)', 'value': 1.0}, {'tag': 'metrics/mAP50(B)', 'value': 0.995}, {'tag': 'metrics/mAP50-95(B)', 'value': 0.76119}, {'tag': 'val/box_loss', 'value': 0.87313}, {'tag': 'val/cls_loss', 'value': 1.755}, {'tag': 'val/dfl_loss', 'value': 1.0414}, {'tag': 'lr/pg0', 'value': 0.0011719}, {'tag': 'lr/pg1', 'value': 0.0011719}, {'tag': 'lr/pg2', 'value': 0.0011719}], [{'tag': 'epoch', 'value': 18.0}, {'tag': 'train/box_loss', 'value': 1.0686}, {'tag': 'train/cls_loss', 'value': 2.1277}, {'tag': 'train/dfl_loss', 'value': 1.005}, {'tag': 'metrics/precision(B)', 'value': 0.98289}, {'tag': 'metrics/recall(B)', 'value': 1.0}, {'tag': 'metrics/mAP50(B)', 'value': 0.995}, {'tag': 'metrics/mAP50-95(B)', 'value': 0.81328}, {'tag': 'val/box_loss', 'value': 0.77755}, {'tag': 'val/cls_loss', 'value': 1.683}, {'tag': 'val/dfl_loss', 'value': 0.94955}, {'tag': 'lr/pg0', 'value': 0.0011389}, {'tag': 'lr/pg1', 'value': 0.0011389}, {'tag': 'lr/pg2', 'value': 0.0011389}], [{'tag': 'epoch', 'value': 19.0}, {'tag': 'train/box_loss', 'value': 0.95701}, {'tag': 'train/cls_loss', 'value': 1.7063}, {'tag': 'train/dfl_loss', 'value': 0.98483}, {'tag': 'metrics/precision(B)', 'value': 0.96426}, {'tag': 'metrics/recall(B)', 'value': 1.0}, {'tag': 'metrics/mAP50(B)', 'value': 0.995}, {'tag': 'metrics/mAP50-95(B)', 'value': 0.80143}, {'tag': 'val/box_loss', 'value': 0.63516}, {'tag': 'val/cls_loss', 'value': 1.5477}, {'tag': 'val/dfl_loss', 'value': 0.9032}, {'tag': 'lr/pg0', 'value': 0.0011059}, {'tag': 'lr/pg1', 'value': 0.0011059}, {'tag': 'lr/pg2', 'value': 0.0011059}], [{'tag': 'epoch', 'value': 20.0}, {'tag': 'train/box_loss', 'value': 1.0154}, {'tag': 'train/cls_loss', 'value': 1.7834}, {'tag': 'train/dfl_loss', 'value': 1.0516}, {'tag': 'metrics/precision(B)', 'value': 0.95888}, {'tag': 'metrics/recall(B)', 'value': 1.0}, {'tag': 'metrics/mAP50(B)', 'value': 0.995}, {'tag': 'metrics/mAP50-95(B)', 'value': 0.82447}, {'tag': 'val/box_loss', 'value': 0.5856}, {'tag': 'val/cls_loss', 'value': 1.5122}, {'tag': 'val/dfl_loss', 'value': 0.88545}, {'tag': 'lr/pg0', 'value': 0.0010729}, {'tag': 'lr/pg1', 'value': 0.0010729}, {'tag': 'lr/pg2', 'value': 0.0010729}], [{'tag': 'epoch', 'value': 21.0}, {'tag': 'train/box_loss', 'value': 0.92979}, {'tag': 'train/cls_loss', 'value': 2.9758}, {'tag': 'train/dfl_loss', 'value': 1.0026}, {'tag': 'metrics/precision(B)', 'value': 0.95478}, {'tag': 'metrics/recall(B)', 'value': 1.0}, {'tag': 'metrics/mAP50(B)', 'value': 0.995}, {'tag': 'metrics/mAP50-95(B)', 'value': 0.83234}, {'tag': 'val/box_loss', 'value': 0.60787}, {'tag': 'val/cls_loss', 'value': 1.4665}, {'tag': 'val/dfl_loss', 'value': 0.89279}, {'tag': 'lr/pg0', 'value': 0.0010399}, {'tag': 'lr/pg1', 'value': 0.0010399}, {'tag': 'lr/pg2', 'value': 0.0010399}], [{'tag': 'epoch', 'value': 22.0}, {'tag': 'train/box_loss', 'value': 1.0061}, {'tag': 'train/cls_loss', 'value': 2.0711}, {'tag': 'train/dfl_loss', 'value': 1.02}, {'tag': 'metrics/precision(B)', 'value': 0.94932}, {'tag': 'metrics/recall(B)', 'value': 1.0}, {'tag': 'metrics/mAP50(B)', 'value': 0.995}, {'tag': 'metrics/mAP50-95(B)', 'value': 0.83564}, {'tag': 'val/box_loss', 'value': 0.65912}, {'tag': 'val/cls_loss', 'value': 1.4789}, {'tag': 'val/dfl_loss', 'value': 0.90882}, {'tag': 'lr/pg0', 'value': 0.0010069}, {'tag': 'lr/pg1', 'value': 0.0010069}, {'tag': 'lr/pg2', 'value': 0.0010069}], [{'tag': 'epoch', 'value': 23.0}, {'tag': 'train/box_loss', 'value': 0.98472}, {'tag': 'train/cls_loss', 'value': 1.6678}, {'tag': 'train/dfl_loss', 'value': 1.0112}, {'tag': 'metrics/precision(B)', 'value': 0.97403}, {'tag': 'metrics/recall(B)', 'value': 1.0}, {'tag': 'metrics/mAP50(B)', 'value': 0.995}, {'tag': 'metrics/mAP50-95(B)', 'value': 0.80763}, {'tag': 'val/box_loss', 'value': 0.58132}, {'tag': 'val/cls_loss', 'value': 1.4026}, {'tag': 'val/dfl_loss', 'value': 0.87839}, {'tag': 'lr/pg0', 'value': 0.00097386}, {'tag': 'lr/pg1', 'value': 0.00097386}, {'tag': 'lr/pg2', 'value': 0.00097386}], [{'tag': 'epoch', 'value': 24.0}, {'tag': 'train/box_loss', 'value': 0.89431}, {'tag': 'train/cls_loss', 'value': 1.8867}, {'tag': 'train/dfl_loss', 'value': 0.97741}, {'tag': 'metrics/precision(B)', 'value': 0.97196}, {'tag': 'metrics/recall(B)', 'value': 0.99866}, {'tag': 'metrics/mAP50(B)', 'value': 0.995}, {'tag': 'metrics/mAP50-95(B)', 'value': 0.84066}, {'tag': 'val/box_loss', 'value': 0.56923}, {'tag': 'val/cls_loss', 'value': 1.2981}, {'tag': 'val/dfl_loss', 'value': 0.87291}, {'tag': 'lr/pg0', 'value': 0.00094085}, {'tag': 'lr/pg1', 'value': 0.00094085}, {'tag': 'lr/pg2', 'value': 0.00094085}], [{'tag': 'epoch', 'value': 25.0}, {'tag': 'train/box_loss', 'value': 0.88719}, {'tag': 'train/cls_loss', 'value': 1.6143}, {'tag': 'train/dfl_loss', 'value': 0.99381}, {'tag': 'metrics/precision(B)', 'value': 0.96733}, {'tag': 'metrics/recall(B)', 'value': 0.9997}, {'tag': 'metrics/mAP50(B)', 'value': 0.995}, {'tag': 'metrics/mAP50-95(B)', 'value': 0.84075}, {'tag': 'val/box_loss', 'value': 0.48798}, {'tag': 'val/cls_loss', 'value': 1.2675}, {'tag': 'val/dfl_loss', 'value': 0.85425}, {'tag': 'lr/pg0', 'value': 0.00090785}, {'tag': 'lr/pg1', 'value': 0.00090785}, {'tag': 'lr/pg2', 'value': 0.00090785}], [{'tag': 'epoch', 'value': 26.0}, {'tag': 'train/box_loss', 'value': 0.84876}, {'tag': 'train/cls_loss', 'value': 1.6264}, {'tag': 'train/dfl_loss', 'value': 0.92925}, {'tag': 'metrics/precision(B)', 'value': 0.98731}, {'tag': 'metrics/recall(B)', 'value': 1.0}, {'tag': 'metrics/mAP50(B)', 'value': 0.995}, {'tag': 'metrics/mAP50-95(B)', 'value': 0.84798}, {'tag': 'val/box_loss', 'value': 0.55751}, {'tag': 'val/cls_loss', 'value': 1.1992}, {'tag': 'val/dfl_loss', 'value': 0.86784}, {'tag': 'lr/pg0', 'value': 0.00087484}, {'tag': 'lr/pg1', 'value': 0.00087484}, {'tag': 'lr/pg2', 'value': 0.00087484}], [{'tag': 'epoch', 'value': 27.0}, {'tag': 'train/box_loss', 'value': 0.93747}, {'tag': 'train/cls_loss', 'value': 1.6506}, {'tag': 'train/dfl_loss', 'value': 0.98225}, {'tag': 'metrics/precision(B)', 'value': 0.97825}, {'tag': 'metrics/recall(B)', 'value': 1.0}, {'tag': 'metrics/mAP50(B)', 'value': 0.995}, {'tag': 'metrics/mAP50-95(B)', 'value': 0.91569}, {'tag': 'val/box_loss', 'value': 0.5384}, {'tag': 'val/cls_loss', 'value': 1.1146}, {'tag': 'val/dfl_loss', 'value': 0.85695}, {'tag': 'lr/pg0', 'value': 0.00084184}, {'tag': 'lr/pg1', 'value': 0.00084184}, {'tag': 'lr/pg2', 'value': 0.00084184}], [{'tag': 'epoch', 'value': 28.0}, {'tag': 'train/box_loss', 'value': 0.88906}, {'tag': 'train/cls_loss', 'value': 1.548}, {'tag': 'train/dfl_loss', 'value': 1.0091}, {'tag': 'metrics/precision(B)', 'value': 0.981}, {'tag': 'metrics/recall(B)', 'value': 1.0}, {'tag': 'metrics/mAP50(B)', 'value': 0.995}, {'tag': 'metrics/mAP50-95(B)', 'value': 0.96028}, {'tag': 'val/box_loss', 'value': 0.51107}, {'tag': 'val/cls_loss', 'value': 1.0871}, {'tag': 'val/dfl_loss', 'value': 0.85397}, {'tag': 'lr/pg0', 'value': 0.00080883}, {'tag': 'lr/pg1', 'value': 0.00080883}, {'tag': 'lr/pg2', 'value': 0.00080883}], [{'tag': 'epoch', 'value': 29.0}, {'tag': 'train/box_loss', 'value': 0.81072}, {'tag': 'train/cls_loss', 'value': 1.5923}, {'tag': 'train/dfl_loss', 'value': 0.93118}, {'tag': 'metrics/precision(B)', 'value': 0.98749}, {'tag': 'metrics/recall(B)', 'value': 1.0}, {'tag': 'metrics/mAP50(B)', 'value': 0.995}, {'tag': 'metrics/mAP50-95(B)', 'value': 0.90461}, {'tag': 'val/box_loss', 'value': 0.47067}, {'tag': 'val/cls_loss', 'value': 1.0576}, {'tag': 'val/dfl_loss', 'value': 0.84179}, {'tag': 'lr/pg0', 'value': 0.00077582}, {'tag': 'lr/pg1', 'value': 0.00077582}, {'tag': 'lr/pg2', 'value': 0.00077582}], [{'tag': 'epoch', 'value': 30.0}, {'tag': 'train/box_loss', 'value': 0.8249}, {'tag': 'train/cls_loss', 'value': 1.3682}, {'tag': 'train/dfl_loss', 'value': 0.94273}, {'tag': 'metrics/precision(B)', 'value': 0.98969}, {'tag': 'metrics/recall(B)', 'value': 1.0}, {'tag': 'metrics/mAP50(B)', 'value': 0.995}, {'tag': 'metrics/mAP50-95(B)', 'value': 0.9036}, {'tag': 'val/box_loss', 'value': 0.39666}, {'tag': 'val/cls_loss', 'value': 1.053}, {'tag': 'val/dfl_loss', 'value': 0.82851}, {'tag': 'lr/pg0', 'value': 0.00074282}, {'tag': 'lr/pg1', 'value': 0.00074282}, {'tag': 'lr/pg2', 'value': 0.00074282}], [{'tag': 'epoch', 'value': 31.0}, {'tag': 'train/box_loss', 'value': 0.73144}, {'tag': 'train/cls_loss', 'value': 1.3732}, {'tag': 'train/dfl_loss', 'value': 0.90753}, {'tag': 'metrics/precision(B)', 'value': 0.98757}, {'tag': 'metrics/recall(B)', 'value': 1.0}, {'tag': 'metrics/mAP50(B)', 'value': 0.995}, {'tag': 'metrics/mAP50-95(B)', 'value': 0.88781}, {'tag': 'val/box_loss', 'value': 0.375}, {'tag': 'val/cls_loss', 'value': 0.99855}, {'tag': 'val/dfl_loss', 'value': 0.83017}, {'tag': 'lr/pg0', 'value': 0.00070981}, {'tag': 'lr/pg1', 'value': 0.00070981}, {'tag': 'lr/pg2', 'value': 0.00070981}], [{'tag': 'epoch', 'value': 32.0}, {'tag': 'train/box_loss', 'value': 0.75478}, {'tag': 'train/cls_loss', 'value': 1.3006}, {'tag': 'train/dfl_loss', 'value': 0.92523}, {'tag': 'metrics/precision(B)', 'value': 0.98351}, {'tag': 'metrics/recall(B)', 'value': 1.0}, {'tag': 'metrics/mAP50(B)', 'value': 0.995}, {'tag': 'metrics/mAP50-95(B)', 'value': 0.91202}, {'tag': 'val/box_loss', 'value': 0.43955}, {'tag': 'val/cls_loss', 'value': 1.0266}, {'tag': 'val/dfl_loss', 'value': 0.84016}, {'tag': 'lr/pg0', 'value': 0.0006768}, {'tag': 'lr/pg1', 'value': 0.0006768}, {'tag': 'lr/pg2', 'value': 0.0006768}], [{'tag': 'epoch', 'value': 33.0}, {'tag': 'train/box_loss', 'value': 0.75876}, {'tag': 'train/cls_loss', 'value': 1.5963}, {'tag': 'train/dfl_loss', 'value': 0.91352}, {'tag': 'metrics/precision(B)', 'value': 0.97136}, {'tag': 'metrics/recall(B)', 'value': 1.0}, {'tag': 'metrics/mAP50(B)', 'value': 0.995}, {'tag': 'metrics/mAP50-95(B)', 'value': 0.88963}, {'tag': 'val/box_loss', 'value': 0.49852}, {'tag': 'val/cls_loss', 'value': 1.1063}, {'tag': 'val/dfl_loss', 'value': 0.85433}, {'tag': 'lr/pg0', 'value': 0.0006438}, {'tag': 'lr/pg1', 'value': 0.0006438}, {'tag': 'lr/pg2', 'value': 0.0006438}], [{'tag': 'epoch', 'value': 34.0}, {'tag': 'train/box_loss', 'value': 0.78078}, {'tag': 'train/cls_loss', 'value': 1.4324}, {'tag': 'train/dfl_loss', 'value': 0.92701}, {'tag': 'metrics/precision(B)', 'value': 0.9645}, {'tag': 'metrics/recall(B)', 'value': 1.0}, {'tag': 'metrics/mAP50(B)', 'value': 0.995}, {'tag': 'metrics/mAP50-95(B)', 'value': 0.83881}, {'tag': 'val/box_loss', 'value': 0.60238}, {'tag': 'val/cls_loss', 'value': 1.1641}, {'tag': 'val/dfl_loss', 'value': 0.87747}, {'tag': 'lr/pg0', 'value': 0.00061079}, {'tag': 'lr/pg1', 'value': 0.00061079}, {'tag': 'lr/pg2', 'value': 0.00061079}], [{'tag': 'epoch', 'value': 35.0}, {'tag': 'train/box_loss', 'value': 0.8292}, {'tag': 'train/cls_loss', 'value': 1.5066}, {'tag': 'train/dfl_loss', 'value': 0.96952}, {'tag': 'metrics/precision(B)', 'value': 0.97829}, {'tag': 'metrics/recall(B)', 'value': 1.0}, {'tag': 'metrics/mAP50(B)', 'value': 0.995}, {'tag': 'metrics/mAP50-95(B)', 'value': 0.84816}, {'tag': 'val/box_loss', 'value': 0.56216}, {'tag': 'val/cls_loss', 'value': 1.1453}, {'tag': 'val/dfl_loss', 'value': 0.86508}, {'tag': 'lr/pg0', 'value': 0.00057778}, {'tag': 'lr/pg1', 'value': 0.00057778}, {'tag': 'lr/pg2', 'value': 0.00057778}], [{'tag': 'epoch', 'value': 36.0}, {'tag': 'train/box_loss', 'value': 0.74242}, {'tag': 'train/cls_loss', 'value': 1.3477}, {'tag': 'train/dfl_loss', 'value': 0.94292}, {'tag': 'metrics/precision(B)', 'value': 0.98707}, {'tag': 'metrics/recall(B)', 'value': 1.0}, {'tag': 'metrics/mAP50(B)', 'value': 0.995}, {'tag': 'metrics/mAP50-95(B)', 'value': 0.86303}, {'tag': 'val/box_loss', 'value': 0.48702}, {'tag': 'val/cls_loss', 'value': 1.1534}, {'tag': 'val/dfl_loss', 'value': 0.85386}, {'tag': 'lr/pg0', 'value': 0.00054478}, {'tag': 'lr/pg1', 'value': 0.00054478}, {'tag': 'lr/pg2', 'value': 0.00054478}], [{'tag': 'epoch', 'value': 37.0}, {'tag': 'train/box_loss', 'value': 0.8563}, {'tag': 'train/cls_loss', 'value': 1.2671}, {'tag': 'train/dfl_loss', 'value': 0.96367}, {'tag': 'metrics/precision(B)', 'value': 0.9853}, {'tag': 'metrics/recall(B)', 'value': 1.0}, {'tag': 'metrics/mAP50(B)', 'value': 0.995}, {'tag': 'metrics/mAP50-95(B)', 'value': 0.88155}, {'tag': 'val/box_loss', 'value': 0.46772}, {'tag': 'val/cls_loss', 'value': 1.109}, {'tag': 'val/dfl_loss', 'value': 0.85329}, {'tag': 'lr/pg0', 'value': 0.00051177}, {'tag': 'lr/pg1', 'value': 0.00051177}, {'tag': 'lr/pg2', 'value': 0.00051177}], [{'tag': 'epoch', 'value': 38.0}, {'tag': 'train/box_loss', 'value': 0.75051}, {'tag': 'train/cls_loss', 'value': 1.2677}, {'tag': 'train/dfl_loss', 'value': 0.89221}, {'tag': 'metrics/precision(B)', 'value': 0.98462}, {'tag': 'metrics/recall(B)', 'value': 1.0}, {'tag': 'metrics/mAP50(B)', 'value': 0.995}, {'tag': 'metrics/mAP50-95(B)', 'value': 0.89094}, {'tag': 'val/box_loss', 'value': 0.45846}, {'tag': 'val/cls_loss', 'value': 1.0294}, {'tag': 'val/dfl_loss', 'value': 0.85682}, {'tag': 'lr/pg0', 'value': 0.00047876}, {'tag': 'lr/pg1', 'value': 0.00047876}, {'tag': 'lr/pg2', 'value': 0.00047876}], [{'tag': 'epoch', 'value': 39.0}, {'tag': 'train/box_loss', 'value': 0.68843}, {'tag': 'train/cls_loss', 'value': 1.2692}, {'tag': 'train/dfl_loss', 'value': 0.9136}, {'tag': 'metrics/precision(B)', 'value': 0.97703}, {'tag': 'metrics/recall(B)', 'value': 1.0}, {'tag': 'metrics/mAP50(B)', 'value': 0.995}, {'tag': 'metrics/mAP50-95(B)', 'value': 0.87248}, {'tag': 'val/box_loss', 'value': 0.44022}, {'tag': 'val/cls_loss', 'value': 1.07}, {'tag': 'val/dfl_loss', 'value': 0.85327}, {'tag': 'lr/pg0', 'value': 0.00044576}, {'tag': 'lr/pg1', 'value': 0.00044576}, {'tag': 'lr/pg2', 'value': 0.00044576}], [{'tag': 'epoch', 'value': 40.0}, {'tag': 'train/box_loss', 'value': 0.76343}, {'tag': 'train/cls_loss', 'value': 1.2374}, {'tag': 'train/dfl_loss', 'value': 0.91103}, {'tag': 'metrics/precision(B)', 'value': 0.96992}, {'tag': 'metrics/recall(B)', 'value': 1.0}, {'tag': 'metrics/mAP50(B)', 'value': 0.995}, {'tag': 'metrics/mAP50-95(B)', 'value': 0.88185}, {'tag': 'val/box_loss', 'value': 0.40082}, {'tag': 'val/cls_loss', 'value': 1.0924}, {'tag': 'val/dfl_loss', 'value': 0.84257}, {'tag': 'lr/pg0', 'value': 0.00041275}, {'tag': 'lr/pg1', 'value': 0.00041275}, {'tag': 'lr/pg2', 'value': 0.00041275}], [{'tag': 'epoch', 'value': 41.0}, {'tag': 'train/box_loss', 'value': 0.65702}, {'tag': 'train/cls_loss', 'value': 1.3044}, {'tag': 'train/dfl_loss', 'value': 0.92026}, {'tag': 'metrics/precision(B)', 'value': 0.96291}, {'tag': 'metrics/recall(B)', 'value': 0.99873}, {'tag': 'metrics/mAP50(B)', 'value': 0.995}, {'tag': 'metrics/mAP50-95(B)', 'value': 0.90155}, {'tag': 'val/box_loss', 'value': 0.40349}, {'tag': 'val/cls_loss', 'value': 0.99385}, {'tag': 'val/dfl_loss', 'value': 0.84281}, {'tag': 'lr/pg0', 'value': 0.00037974}, {'tag': 'lr/pg1', 'value': 0.00037974}, {'tag': 'lr/pg2', 'value': 0.00037974}], [{'tag': 'epoch', 'value': 42.0}, {'tag': 'train/box_loss', 'value': 0.63936}, {'tag': 'train/cls_loss', 'value': 1.2483}, {'tag': 'train/dfl_loss', 'value': 0.9003}, {'tag': 'metrics/precision(B)', 'value': 0.9642}, {'tag': 'metrics/recall(B)', 'value': 1.0}, {'tag': 'metrics/mAP50(B)', 'value': 0.995}, {'tag': 'metrics/mAP50-95(B)', 'value': 0.89963}, {'tag': 'val/box_loss', 'value': 0.41567}, {'tag': 'val/cls_loss', 'value': 0.95405}, {'tag': 'val/dfl_loss', 'value': 0.83693}, {'tag': 'lr/pg0', 'value': 0.00034674}, {'tag': 'lr/pg1', 'value': 0.00034674}, {'tag': 'lr/pg2', 'value': 0.00034674}], [{'tag': 'epoch', 'value': 43.0}, {'tag': 'train/box_loss', 'value': 0.64237}, {'tag': 'train/cls_loss', 'value': 1.2701}, {'tag': 'train/dfl_loss', 'value': 0.87913}, {'tag': 'metrics/precision(B)', 'value': 0.97005}, {'tag': 'metrics/recall(B)', 'value': 1.0}, {'tag': 'metrics/mAP50(B)', 'value': 0.995}, {'tag': 'metrics/mAP50-95(B)', 'value': 0.89963}, {'tag': 'val/box_loss', 'value': 0.4301}, {'tag': 'val/cls_loss', 'value': 0.96179}, {'tag': 'val/dfl_loss', 'value': 0.83769}, {'tag': 'lr/pg0', 'value': 0.00031373}, {'tag': 'lr/pg1', 'value': 0.00031373}, {'tag': 'lr/pg2', 'value': 0.00031373}], [{'tag': 'epoch', 'value': 44.0}, {'tag': 'train/box_loss', 'value': 0.57941}, {'tag': 'train/cls_loss', 'value': 1.1566}, {'tag': 'train/dfl_loss', 'value': 0.89615}, {'tag': 'metrics/precision(B)', 'value': 0.97691}, {'tag': 'metrics/recall(B)', 'value': 1.0}, {'tag': 'metrics/mAP50(B)', 'value': 0.995}, {'tag': 'metrics/mAP50-95(B)', 'value': 0.9414}, {'tag': 'val/box_loss', 'value': 0.45878}, {'tag': 'val/cls_loss', 'value': 0.95365}, {'tag': 'val/dfl_loss', 'value': 0.84326}, {'tag': 'lr/pg0', 'value': 0.00028072}, {'tag': 'lr/pg1', 'value': 0.00028072}, {'tag': 'lr/pg2', 'value': 0.00028072}], [{'tag': 'epoch', 'value': 45.0}, {'tag': 'train/box_loss', 'value': 0.62247}, {'tag': 'train/cls_loss', 'value': 1.2098}, {'tag': 'train/dfl_loss', 'value': 0.88644}, {'tag': 'metrics/precision(B)', 'value': 0.9817}, {'tag': 'metrics/recall(B)', 'value': 1.0}, {'tag': 'metrics/mAP50(B)', 'value': 0.995}, {'tag': 'metrics/mAP50-95(B)', 'value': 0.90222}, {'tag': 'val/box_loss', 'value': 0.43521}, {'tag': 'val/cls_loss', 'value': 0.96194}, {'tag': 'val/dfl_loss', 'value': 0.83812}, {'tag': 'lr/pg0', 'value': 0.00024772}, {'tag': 'lr/pg1', 'value': 0.00024772}, {'tag': 'lr/pg2', 'value': 0.00024772}], [{'tag': 'epoch', 'value': 46.0}, {'tag': 'train/box_loss', 'value': 0.60818}, {'tag': 'train/cls_loss', 'value': 1.2013}, {'tag': 'train/dfl_loss', 'value': 0.8573}, {'tag': 'metrics/precision(B)', 'value': 0.9889}, {'tag': 'metrics/recall(B)', 'value': 1.0}, {'tag': 'metrics/mAP50(B)', 'value': 0.995}, {'tag': 'metrics/mAP50-95(B)', 'value': 0.89776}, {'tag': 'val/box_loss', 'value': 0.38069}, {'tag': 'val/cls_loss', 'value': 0.95059}, {'tag': 'val/dfl_loss', 'value': 0.83151}, {'tag': 'lr/pg0', 'value': 0.00021471}, {'tag': 'lr/pg1', 'value': 0.00021471}, {'tag': 'lr/pg2', 'value': 0.00021471}], [{'tag': 'epoch', 'value': 47.0}, {'tag': 'train/box_loss', 'value': 0.55504}, {'tag': 'train/cls_loss', 'value': 1.1902}, {'tag': 'train/dfl_loss', 'value': 0.87212}, {'tag': 'metrics/precision(B)', 'value': 0.9898}, {'tag': 'metrics/recall(B)', 'value': 1.0}, {'tag': 'metrics/mAP50(B)', 'value': 0.995}, {'tag': 'metrics/mAP50-95(B)', 'value': 0.92709}, {'tag': 'val/box_loss', 'value': 0.35229}, {'tag': 'val/cls_loss', 'value': 0.92473}, {'tag': 'val/dfl_loss', 'value': 0.82766}, {'tag': 'lr/pg0', 'value': 0.0001817}, {'tag': 'lr/pg1', 'value': 0.0001817}, {'tag': 'lr/pg2', 'value': 0.0001817}], [{'tag': 'epoch', 'value': 48.0}, {'tag': 'train/box_loss', 'value': 0.54536}, {'tag': 'train/cls_loss', 'value': 1.1609}, {'tag': 'train/dfl_loss', 'value': 0.83567}, {'tag': 'metrics/precision(B)', 'value': 0.99}, {'tag': 'metrics/recall(B)', 'value': 1.0}, {'tag': 'metrics/mAP50(B)', 'value': 0.995}, {'tag': 'metrics/mAP50-95(B)', 'value': 0.93022}, {'tag': 'val/box_loss', 'value': 0.36754}, {'tag': 'val/cls_loss', 'value': 0.91815}, {'tag': 'val/dfl_loss', 'value': 0.8254}, {'tag': 'lr/pg0', 'value': 0.0001487}, {'tag': 'lr/pg1', 'value': 0.0001487}, {'tag': 'lr/pg2', 'value': 0.0001487}], [{'tag': 'epoch', 'value': 49.0}, {'tag': 'train/box_loss', 'value': 0.53891}, {'tag': 'train/cls_loss', 'value': 1.1296}, {'tag': 'train/dfl_loss', 'value': 0.84148}, {'tag': 'metrics/precision(B)', 'value': 0.98987}, {'tag': 'metrics/recall(B)', 'value': 1.0}, {'tag': 'metrics/mAP50(B)', 'value': 0.995}, {'tag': 'metrics/mAP50-95(B)', 'value': 0.91172}, {'tag': 'val/box_loss', 'value': 0.37659}, {'tag': 'val/cls_loss', 'value': 0.9197}, {'tag': 'val/dfl_loss', 'value': 0.82518}, {'tag': 'lr/pg0', 'value': 0.00011569}, {'tag': 'lr/pg1', 'value': 0.00011569}, {'tag': 'lr/pg2', 'value': 0.00011569}], [{'tag': 'epoch', 'value': 50.0}, {'tag': 'train/box_loss', 'value': 0.54389}, {'tag': 'train/cls_loss', 'value': 1.111}, {'tag': 'train/dfl_loss', 'value': 0.8559}, {'tag': 'metrics/precision(B)', 'value': 0.98916}, {'tag': 'metrics/recall(B)', 'value': 1.0}, {'tag': 'metrics/mAP50(B)', 'value': 0.995}, {'tag': 'metrics/mAP50-95(B)', 'value': 0.92422}, {'tag': 'val/box_loss', 'value': 0.37283}, {'tag': 'val/cls_loss', 'value': 0.92134}, {'tag': 'val/dfl_loss', 'value': 0.82441}, {'tag': 'lr/pg0', 'value': 8.2683e-05}, {'tag': 'lr/pg1', 'value': 8.2683e-05}, {'tag': 'lr/pg2', 'value': 8.2683e-05}]], eval_metrics=[{'tag': 'mAP', 'value': 0.835066020488739}, {'tag': 'mAP_50', 'value': 1.0}, {'tag': 'mAP_75', 'value': 1.0}, {'tag': 'mAP_small', 'value': 0.7205445766448975}, {'tag': 'mAP_medium', 'value': 0.871039628982544}, {'tag': 'mAP_large', 'value': -1.0}, {'tag': 'mAR_1', 'value': 0.8500000238418579}, {'tag': 'mAR_10', 'value': 0.8500000238418579}, {'tag': 'mAR_100', 'value': 0.8500000238418579}, {'tag': 'mAR_small', 'value': 0.7250000238418579}, {'tag': 'mAR_medium', 'value': 0.871039628982544}, {'tag': 'mAR_large', 'value': -1.0}, {'tag': 'mAP_per_class', 'value': [{'class_name': '1', 'value': 0.7533003091812134}, {'class_name': '2', 'value': 0.9168316721916199}]}, {'tag': 'mAR_100_per_class', 'value': [{'class_name': '1', 'value': 0.7666666507720947}, {'class_name': '2', 'value': 0.9333333373069763}]}])"
      ]
     },
     "execution_count": 21,
     "metadata": {},
     "output_type": "execute_result"
    }
   ],
   "source": [
    "result = ultralytics_hub.train(\n",
    "    dataset=dataset,\n",
    "    image_size=640,\n",
    "    epochs=50,\n",
    "    batch_size=4,\n",
    ")\n",
    "\n",
    "result"
   ]
  },
  {
   "cell_type": "markdown",
   "metadata": {},
   "source": [
    "### get train infomations"
   ]
  },
  {
   "cell_type": "code",
   "execution_count": 22,
   "metadata": {},
   "outputs": [
    {
     "data": {
      "text/plain": [
       "TrainConfig(dataset_path='/home/snuailab/Desktop/waffle_hub/docs/tutorials/datasets/mnist_det/exports/ULTRALYTICS/data.yaml', epochs=50, batch_size=4, image_size=[640, 640], learning_rate=0.01, letter_box=True, pretrained_model='yolov8n.pt', device='0', workers=2, seed=0, advance_params={}, verbose=True)"
      ]
     },
     "execution_count": 22,
     "metadata": {},
     "output_type": "execute_result"
    }
   ],
   "source": [
    "ultralytics_hub.get_train_config()"
   ]
  },
  {
   "cell_type": "code",
   "execution_count": 23,
   "metadata": {},
   "outputs": [
    {
     "data": {
      "text/plain": [
       "{'status': 'success',\n",
       " 'error_type': None,\n",
       " 'error_msg': None,\n",
       " 'step': 50,\n",
       " 'total_step': 50}"
      ]
     },
     "execution_count": 23,
     "metadata": {},
     "output_type": "execute_result"
    }
   ],
   "source": [
    "ultralytics_hub.get_train_state()"
   ]
  },
  {
   "cell_type": "code",
   "execution_count": 24,
   "metadata": {},
   "outputs": [
    {
     "data": {
      "text/plain": [
       "[[{'tag': 'epoch', 'value': 1.0},\n",
       "  {'tag': 'train/box_loss', 'value': 1.8225},\n",
       "  {'tag': 'train/cls_loss', 'value': 5.2812},\n",
       "  {'tag': 'train/dfl_loss', 'value': 1.2608},\n",
       "  {'tag': 'metrics/precision(B)', 'value': 0.00333},\n",
       "  {'tag': 'metrics/recall(B)', 'value': 1.0},\n",
       "  {'tag': 'metrics/mAP50(B)', 'value': 0.26931},\n",
       "  {'tag': 'metrics/mAP50-95(B)', 'value': 0.25096},\n",
       "  {'tag': 'val/box_loss', 'value': 0.51613},\n",
       "  {'tag': 'val/cls_loss', 'value': 3.4685},\n",
       "  {'tag': 'val/dfl_loss', 'value': 0.81329},\n",
       "  {'tag': 'lr/pg0', 'value': 0.00031673},\n",
       "  {'tag': 'lr/pg1', 'value': 0.00031673},\n",
       "  {'tag': 'lr/pg2', 'value': 0.00031673}],\n",
       " [{'tag': 'epoch', 'value': 2.0},\n",
       "  {'tag': 'train/box_loss', 'value': 1.4599},\n",
       "  {'tag': 'train/cls_loss', 'value': 3.9494},\n",
       "  {'tag': 'train/dfl_loss', 'value': 1.1722},\n",
       "  {'tag': 'metrics/precision(B)', 'value': 0.00333},\n",
       "  {'tag': 'metrics/recall(B)', 'value': 1.0},\n",
       "  {'tag': 'metrics/mAP50(B)', 'value': 0.65933},\n",
       "  {'tag': 'metrics/mAP50-95(B)', 'value': 0.38712},\n",
       "  {'tag': 'val/box_loss', 'value': 0.69611},\n",
       "  {'tag': 'val/cls_loss', 'value': 3.413},\n",
       "  {'tag': 'val/dfl_loss', 'value': 0.84745},\n",
       "  {'tag': 'lr/pg0', 'value': 0.00063726},\n",
       "  {'tag': 'lr/pg1', 'value': 0.00063726},\n",
       "  {'tag': 'lr/pg2', 'value': 0.00063726}],\n",
       " [{'tag': 'epoch', 'value': 3.0},\n",
       "  {'tag': 'train/box_loss', 'value': 1.2146},\n",
       "  {'tag': 'train/cls_loss', 'value': 3.4686},\n",
       "  {'tag': 'train/dfl_loss', 'value': 1.1051},\n",
       "  {'tag': 'metrics/precision(B)', 'value': 0.00336},\n",
       "  {'tag': 'metrics/recall(B)', 'value': 1.0},\n",
       "  {'tag': 'metrics/mAP50(B)', 'value': 0.7093},\n",
       "  {'tag': 'metrics/mAP50-95(B)', 'value': 0.39844},\n",
       "  {'tag': 'val/box_loss', 'value': 0.58417},\n",
       "  {'tag': 'val/cls_loss', 'value': 3.6027},\n",
       "  {'tag': 'val/dfl_loss', 'value': 0.84142},\n",
       "  {'tag': 'lr/pg0', 'value': 0.00094458},\n",
       "  {'tag': 'lr/pg1', 'value': 0.00094458},\n",
       "  {'tag': 'lr/pg2', 'value': 0.00094458}],\n",
       " [{'tag': 'epoch', 'value': 4.0},\n",
       "  {'tag': 'train/box_loss', 'value': 1.2317},\n",
       "  {'tag': 'train/cls_loss', 'value': 2.838},\n",
       "  {'tag': 'train/dfl_loss', 'value': 1.0842},\n",
       "  {'tag': 'metrics/precision(B)', 'value': 0.54853},\n",
       "  {'tag': 'metrics/recall(B)', 'value': 0.52842},\n",
       "  {'tag': 'metrics/mAP50(B)', 'value': 0.66128},\n",
       "  {'tag': 'metrics/mAP50-95(B)', 'value': 0.37006},\n",
       "  {'tag': 'val/box_loss', 'value': 1.1094},\n",
       "  {'tag': 'val/cls_loss', 'value': 3.5395},\n",
       "  {'tag': 'val/dfl_loss', 'value': 1.0867},\n",
       "  {'tag': 'lr/pg0', 'value': 0.0012387},\n",
       "  {'tag': 'lr/pg1', 'value': 0.0012387},\n",
       "  {'tag': 'lr/pg2', 'value': 0.0012387}],\n",
       " [{'tag': 'epoch', 'value': 5.0},\n",
       "  {'tag': 'train/box_loss', 'value': 1.297},\n",
       "  {'tag': 'train/cls_loss', 'value': 2.9219},\n",
       "  {'tag': 'train/dfl_loss', 'value': 1.1375},\n",
       "  {'tag': 'metrics/precision(B)', 'value': 0.36344},\n",
       "  {'tag': 'metrics/recall(B)', 'value': 0.51758},\n",
       "  {'tag': 'metrics/mAP50(B)', 'value': 0.42958},\n",
       "  {'tag': 'metrics/mAP50-95(B)', 'value': 0.17546},\n",
       "  {'tag': 'val/box_loss', 'value': 1.8593},\n",
       "  {'tag': 'val/cls_loss', 'value': 4.9146},\n",
       "  {'tag': 'val/dfl_loss', 'value': 2.2106},\n",
       "  {'tag': 'lr/pg0', 'value': 0.0015196},\n",
       "  {'tag': 'lr/pg1', 'value': 0.0015196},\n",
       "  {'tag': 'lr/pg2', 'value': 0.0015196}],\n",
       " [{'tag': 'epoch', 'value': 6.0},\n",
       "  {'tag': 'train/box_loss', 'value': 1.6153},\n",
       "  {'tag': 'train/cls_loss', 'value': 3.6754},\n",
       "  {'tag': 'train/dfl_loss', 'value': 1.3431},\n",
       "  {'tag': 'metrics/precision(B)', 'value': 0.05112},\n",
       "  {'tag': 'metrics/recall(B)', 'value': 0.2},\n",
       "  {'tag': 'metrics/mAP50(B)', 'value': 0.04019},\n",
       "  {'tag': 'metrics/mAP50-95(B)', 'value': 0.00585},\n",
       "  {'tag': 'val/box_loss', 'value': 3.0766},\n",
       "  {'tag': 'val/cls_loss', 'value': 4.9085},\n",
       "  {'tag': 'val/dfl_loss', 'value': 4.9204},\n",
       "  {'tag': 'lr/pg0', 'value': 0.001502},\n",
       "  {'tag': 'lr/pg1', 'value': 0.001502},\n",
       "  {'tag': 'lr/pg2', 'value': 0.001502}],\n",
       " [{'tag': 'epoch', 'value': 7.0},\n",
       "  {'tag': 'train/box_loss', 'value': 1.2743},\n",
       "  {'tag': 'train/cls_loss', 'value': 3.439},\n",
       "  {'tag': 'train/dfl_loss', 'value': 1.1176},\n",
       "  {'tag': 'metrics/precision(B)', 'value': 0.50438},\n",
       "  {'tag': 'metrics/recall(B)', 'value': 0.125},\n",
       "  {'tag': 'metrics/mAP50(B)', 'value': 0.01162},\n",
       "  {'tag': 'metrics/mAP50-95(B)', 'value': 0.00534},\n",
       "  {'tag': 'val/box_loss', 'value': 1.4504},\n",
       "  {'tag': 'val/cls_loss', 'value': 4.5337},\n",
       "  {'tag': 'val/dfl_loss', 'value': 1.3232},\n",
       "  {'tag': 'lr/pg0', 'value': 0.001502},\n",
       "  {'tag': 'lr/pg1', 'value': 0.001502},\n",
       "  {'tag': 'lr/pg2', 'value': 0.001502}],\n",
       " [{'tag': 'epoch', 'value': 8.0},\n",
       "  {'tag': 'train/box_loss', 'value': 1.3441},\n",
       "  {'tag': 'train/cls_loss', 'value': 3.1871},\n",
       "  {'tag': 'train/dfl_loss', 'value': 1.172},\n",
       "  {'tag': 'metrics/precision(B)', 'value': 0.51999},\n",
       "  {'tag': 'metrics/recall(B)', 'value': 0.44235},\n",
       "  {'tag': 'metrics/mAP50(B)', 'value': 0.42304},\n",
       "  {'tag': 'metrics/mAP50-95(B)', 'value': 0.23404},\n",
       "  {'tag': 'val/box_loss', 'value': 1.4004},\n",
       "  {'tag': 'val/cls_loss', 'value': 4.9148},\n",
       "  {'tag': 'val/dfl_loss', 'value': 1.4029},\n",
       "  {'tag': 'lr/pg0', 'value': 0.001469},\n",
       "  {'tag': 'lr/pg1', 'value': 0.001469},\n",
       "  {'tag': 'lr/pg2', 'value': 0.001469}],\n",
       " [{'tag': 'epoch', 'value': 9.0},\n",
       "  {'tag': 'train/box_loss', 'value': 1.1144},\n",
       "  {'tag': 'train/cls_loss', 'value': 2.6761},\n",
       "  {'tag': 'train/dfl_loss', 'value': 1.0244},\n",
       "  {'tag': 'metrics/precision(B)', 'value': 0.50955},\n",
       "  {'tag': 'metrics/recall(B)', 'value': 0.99396},\n",
       "  {'tag': 'metrics/mAP50(B)', 'value': 0.54416},\n",
       "  {'tag': 'metrics/mAP50-95(B)', 'value': 0.41421},\n",
       "  {'tag': 'val/box_loss', 'value': 1.1669},\n",
       "  {'tag': 'val/cls_loss', 'value': 8.431},\n",
       "  {'tag': 'val/dfl_loss', 'value': 1.2428},\n",
       "  {'tag': 'lr/pg0', 'value': 0.001436},\n",
       "  {'tag': 'lr/pg1', 'value': 0.001436},\n",
       "  {'tag': 'lr/pg2', 'value': 0.001436}],\n",
       " [{'tag': 'epoch', 'value': 10.0},\n",
       "  {'tag': 'train/box_loss', 'value': 1.1793},\n",
       "  {'tag': 'train/cls_loss', 'value': 2.8477},\n",
       "  {'tag': 'train/dfl_loss', 'value': 1.0346},\n",
       "  {'tag': 'metrics/precision(B)', 'value': 0.70318},\n",
       "  {'tag': 'metrics/recall(B)', 'value': 0.68772},\n",
       "  {'tag': 'metrics/mAP50(B)', 'value': 0.79738},\n",
       "  {'tag': 'metrics/mAP50-95(B)', 'value': 0.5373},\n",
       "  {'tag': 'val/box_loss', 'value': 1.1955},\n",
       "  {'tag': 'val/cls_loss', 'value': 2.6794},\n",
       "  {'tag': 'val/dfl_loss', 'value': 1.2981},\n",
       "  {'tag': 'lr/pg0', 'value': 0.0014029},\n",
       "  {'tag': 'lr/pg1', 'value': 0.0014029},\n",
       "  {'tag': 'lr/pg2', 'value': 0.0014029}],\n",
       " [{'tag': 'epoch', 'value': 11.0},\n",
       "  {'tag': 'train/box_loss', 'value': 1.3206},\n",
       "  {'tag': 'train/cls_loss', 'value': 2.8687},\n",
       "  {'tag': 'train/dfl_loss', 'value': 1.13},\n",
       "  {'tag': 'metrics/precision(B)', 'value': 0.68304},\n",
       "  {'tag': 'metrics/recall(B)', 'value': 0.98161},\n",
       "  {'tag': 'metrics/mAP50(B)', 'value': 0.96167},\n",
       "  {'tag': 'metrics/mAP50-95(B)', 'value': 0.7501},\n",
       "  {'tag': 'val/box_loss', 'value': 0.73004},\n",
       "  {'tag': 'val/cls_loss', 'value': 2.117},\n",
       "  {'tag': 'val/dfl_loss', 'value': 1.0188},\n",
       "  {'tag': 'lr/pg0', 'value': 0.0013699},\n",
       "  {'tag': 'lr/pg1', 'value': 0.0013699},\n",
       "  {'tag': 'lr/pg2', 'value': 0.0013699}],\n",
       " [{'tag': 'epoch', 'value': 12.0},\n",
       "  {'tag': 'train/box_loss', 'value': 1.0732},\n",
       "  {'tag': 'train/cls_loss', 'value': 2.2815},\n",
       "  {'tag': 'train/dfl_loss', 'value': 1.011},\n",
       "  {'tag': 'metrics/precision(B)', 'value': 0.96143},\n",
       "  {'tag': 'metrics/recall(B)', 'value': 0.88542},\n",
       "  {'tag': 'metrics/mAP50(B)', 'value': 0.97833},\n",
       "  {'tag': 'metrics/mAP50-95(B)', 'value': 0.75087},\n",
       "  {'tag': 'val/box_loss', 'value': 0.9156},\n",
       "  {'tag': 'val/cls_loss', 'value': 2.0097},\n",
       "  {'tag': 'val/dfl_loss', 'value': 1.0319},\n",
       "  {'tag': 'lr/pg0', 'value': 0.0013369},\n",
       "  {'tag': 'lr/pg1', 'value': 0.0013369},\n",
       "  {'tag': 'lr/pg2', 'value': 0.0013369}],\n",
       " [{'tag': 'epoch', 'value': 13.0},\n",
       "  {'tag': 'train/box_loss', 'value': 1.1329},\n",
       "  {'tag': 'train/cls_loss', 'value': 2.1429},\n",
       "  {'tag': 'train/dfl_loss', 'value': 1.0872},\n",
       "  {'tag': 'metrics/precision(B)', 'value': 0.91781},\n",
       "  {'tag': 'metrics/recall(B)', 'value': 0.92588},\n",
       "  {'tag': 'metrics/mAP50(B)', 'value': 0.995},\n",
       "  {'tag': 'metrics/mAP50-95(B)', 'value': 0.82054},\n",
       "  {'tag': 'val/box_loss', 'value': 0.83821},\n",
       "  {'tag': 'val/cls_loss', 'value': 2.169},\n",
       "  {'tag': 'val/dfl_loss', 'value': 1.0358},\n",
       "  {'tag': 'lr/pg0', 'value': 0.0013039},\n",
       "  {'tag': 'lr/pg1', 'value': 0.0013039},\n",
       "  {'tag': 'lr/pg2', 'value': 0.0013039}],\n",
       " [{'tag': 'epoch', 'value': 14.0},\n",
       "  {'tag': 'train/box_loss', 'value': 1.035},\n",
       "  {'tag': 'train/cls_loss', 'value': 2.3938},\n",
       "  {'tag': 'train/dfl_loss', 'value': 1.0382},\n",
       "  {'tag': 'metrics/precision(B)', 'value': 0.91485},\n",
       "  {'tag': 'metrics/recall(B)', 'value': 1.0},\n",
       "  {'tag': 'metrics/mAP50(B)', 'value': 0.995},\n",
       "  {'tag': 'metrics/mAP50-95(B)', 'value': 0.80837},\n",
       "  {'tag': 'val/box_loss', 'value': 0.92436},\n",
       "  {'tag': 'val/cls_loss', 'value': 1.8534},\n",
       "  {'tag': 'val/dfl_loss', 'value': 1.068},\n",
       "  {'tag': 'lr/pg0', 'value': 0.0012709},\n",
       "  {'tag': 'lr/pg1', 'value': 0.0012709},\n",
       "  {'tag': 'lr/pg2', 'value': 0.0012709}],\n",
       " [{'tag': 'epoch', 'value': 15.0},\n",
       "  {'tag': 'train/box_loss', 'value': 1.278},\n",
       "  {'tag': 'train/cls_loss', 'value': 2.5248},\n",
       "  {'tag': 'train/dfl_loss', 'value': 1.0984},\n",
       "  {'tag': 'metrics/precision(B)', 'value': 0.91396},\n",
       "  {'tag': 'metrics/recall(B)', 'value': 1.0},\n",
       "  {'tag': 'metrics/mAP50(B)', 'value': 0.995},\n",
       "  {'tag': 'metrics/mAP50-95(B)', 'value': 0.79893},\n",
       "  {'tag': 'val/box_loss', 'value': 0.99959},\n",
       "  {'tag': 'val/cls_loss', 'value': 1.8918},\n",
       "  {'tag': 'val/dfl_loss', 'value': 1.1467},\n",
       "  {'tag': 'lr/pg0', 'value': 0.0012379},\n",
       "  {'tag': 'lr/pg1', 'value': 0.0012379},\n",
       "  {'tag': 'lr/pg2', 'value': 0.0012379}],\n",
       " [{'tag': 'epoch', 'value': 16.0},\n",
       "  {'tag': 'train/box_loss', 'value': 1.12},\n",
       "  {'tag': 'train/cls_loss', 'value': 2.0196},\n",
       "  {'tag': 'train/dfl_loss', 'value': 1.0302},\n",
       "  {'tag': 'metrics/precision(B)', 'value': 0.98511},\n",
       "  {'tag': 'metrics/recall(B)', 'value': 1.0},\n",
       "  {'tag': 'metrics/mAP50(B)', 'value': 0.995},\n",
       "  {'tag': 'metrics/mAP50-95(B)', 'value': 0.78963},\n",
       "  {'tag': 'val/box_loss', 'value': 1.0088},\n",
       "  {'tag': 'val/cls_loss', 'value': 1.7157},\n",
       "  {'tag': 'val/dfl_loss', 'value': 1.1321},\n",
       "  {'tag': 'lr/pg0', 'value': 0.0012049},\n",
       "  {'tag': 'lr/pg1', 'value': 0.0012049},\n",
       "  {'tag': 'lr/pg2', 'value': 0.0012049}],\n",
       " [{'tag': 'epoch', 'value': 17.0},\n",
       "  {'tag': 'train/box_loss', 'value': 1.03},\n",
       "  {'tag': 'train/cls_loss', 'value': 1.8361},\n",
       "  {'tag': 'train/dfl_loss', 'value': 0.99846},\n",
       "  {'tag': 'metrics/precision(B)', 'value': 0.98497},\n",
       "  {'tag': 'metrics/recall(B)', 'value': 1.0},\n",
       "  {'tag': 'metrics/mAP50(B)', 'value': 0.995},\n",
       "  {'tag': 'metrics/mAP50-95(B)', 'value': 0.76119},\n",
       "  {'tag': 'val/box_loss', 'value': 0.87313},\n",
       "  {'tag': 'val/cls_loss', 'value': 1.755},\n",
       "  {'tag': 'val/dfl_loss', 'value': 1.0414},\n",
       "  {'tag': 'lr/pg0', 'value': 0.0011719},\n",
       "  {'tag': 'lr/pg1', 'value': 0.0011719},\n",
       "  {'tag': 'lr/pg2', 'value': 0.0011719}],\n",
       " [{'tag': 'epoch', 'value': 18.0},\n",
       "  {'tag': 'train/box_loss', 'value': 1.0686},\n",
       "  {'tag': 'train/cls_loss', 'value': 2.1277},\n",
       "  {'tag': 'train/dfl_loss', 'value': 1.005},\n",
       "  {'tag': 'metrics/precision(B)', 'value': 0.98289},\n",
       "  {'tag': 'metrics/recall(B)', 'value': 1.0},\n",
       "  {'tag': 'metrics/mAP50(B)', 'value': 0.995},\n",
       "  {'tag': 'metrics/mAP50-95(B)', 'value': 0.81328},\n",
       "  {'tag': 'val/box_loss', 'value': 0.77755},\n",
       "  {'tag': 'val/cls_loss', 'value': 1.683},\n",
       "  {'tag': 'val/dfl_loss', 'value': 0.94955},\n",
       "  {'tag': 'lr/pg0', 'value': 0.0011389},\n",
       "  {'tag': 'lr/pg1', 'value': 0.0011389},\n",
       "  {'tag': 'lr/pg2', 'value': 0.0011389}],\n",
       " [{'tag': 'epoch', 'value': 19.0},\n",
       "  {'tag': 'train/box_loss', 'value': 0.95701},\n",
       "  {'tag': 'train/cls_loss', 'value': 1.7063},\n",
       "  {'tag': 'train/dfl_loss', 'value': 0.98483},\n",
       "  {'tag': 'metrics/precision(B)', 'value': 0.96426},\n",
       "  {'tag': 'metrics/recall(B)', 'value': 1.0},\n",
       "  {'tag': 'metrics/mAP50(B)', 'value': 0.995},\n",
       "  {'tag': 'metrics/mAP50-95(B)', 'value': 0.80143},\n",
       "  {'tag': 'val/box_loss', 'value': 0.63516},\n",
       "  {'tag': 'val/cls_loss', 'value': 1.5477},\n",
       "  {'tag': 'val/dfl_loss', 'value': 0.9032},\n",
       "  {'tag': 'lr/pg0', 'value': 0.0011059},\n",
       "  {'tag': 'lr/pg1', 'value': 0.0011059},\n",
       "  {'tag': 'lr/pg2', 'value': 0.0011059}],\n",
       " [{'tag': 'epoch', 'value': 20.0},\n",
       "  {'tag': 'train/box_loss', 'value': 1.0154},\n",
       "  {'tag': 'train/cls_loss', 'value': 1.7834},\n",
       "  {'tag': 'train/dfl_loss', 'value': 1.0516},\n",
       "  {'tag': 'metrics/precision(B)', 'value': 0.95888},\n",
       "  {'tag': 'metrics/recall(B)', 'value': 1.0},\n",
       "  {'tag': 'metrics/mAP50(B)', 'value': 0.995},\n",
       "  {'tag': 'metrics/mAP50-95(B)', 'value': 0.82447},\n",
       "  {'tag': 'val/box_loss', 'value': 0.5856},\n",
       "  {'tag': 'val/cls_loss', 'value': 1.5122},\n",
       "  {'tag': 'val/dfl_loss', 'value': 0.88545},\n",
       "  {'tag': 'lr/pg0', 'value': 0.0010729},\n",
       "  {'tag': 'lr/pg1', 'value': 0.0010729},\n",
       "  {'tag': 'lr/pg2', 'value': 0.0010729}],\n",
       " [{'tag': 'epoch', 'value': 21.0},\n",
       "  {'tag': 'train/box_loss', 'value': 0.92979},\n",
       "  {'tag': 'train/cls_loss', 'value': 2.9758},\n",
       "  {'tag': 'train/dfl_loss', 'value': 1.0026},\n",
       "  {'tag': 'metrics/precision(B)', 'value': 0.95478},\n",
       "  {'tag': 'metrics/recall(B)', 'value': 1.0},\n",
       "  {'tag': 'metrics/mAP50(B)', 'value': 0.995},\n",
       "  {'tag': 'metrics/mAP50-95(B)', 'value': 0.83234},\n",
       "  {'tag': 'val/box_loss', 'value': 0.60787},\n",
       "  {'tag': 'val/cls_loss', 'value': 1.4665},\n",
       "  {'tag': 'val/dfl_loss', 'value': 0.89279},\n",
       "  {'tag': 'lr/pg0', 'value': 0.0010399},\n",
       "  {'tag': 'lr/pg1', 'value': 0.0010399},\n",
       "  {'tag': 'lr/pg2', 'value': 0.0010399}],\n",
       " [{'tag': 'epoch', 'value': 22.0},\n",
       "  {'tag': 'train/box_loss', 'value': 1.0061},\n",
       "  {'tag': 'train/cls_loss', 'value': 2.0711},\n",
       "  {'tag': 'train/dfl_loss', 'value': 1.02},\n",
       "  {'tag': 'metrics/precision(B)', 'value': 0.94932},\n",
       "  {'tag': 'metrics/recall(B)', 'value': 1.0},\n",
       "  {'tag': 'metrics/mAP50(B)', 'value': 0.995},\n",
       "  {'tag': 'metrics/mAP50-95(B)', 'value': 0.83564},\n",
       "  {'tag': 'val/box_loss', 'value': 0.65912},\n",
       "  {'tag': 'val/cls_loss', 'value': 1.4789},\n",
       "  {'tag': 'val/dfl_loss', 'value': 0.90882},\n",
       "  {'tag': 'lr/pg0', 'value': 0.0010069},\n",
       "  {'tag': 'lr/pg1', 'value': 0.0010069},\n",
       "  {'tag': 'lr/pg2', 'value': 0.0010069}],\n",
       " [{'tag': 'epoch', 'value': 23.0},\n",
       "  {'tag': 'train/box_loss', 'value': 0.98472},\n",
       "  {'tag': 'train/cls_loss', 'value': 1.6678},\n",
       "  {'tag': 'train/dfl_loss', 'value': 1.0112},\n",
       "  {'tag': 'metrics/precision(B)', 'value': 0.97403},\n",
       "  {'tag': 'metrics/recall(B)', 'value': 1.0},\n",
       "  {'tag': 'metrics/mAP50(B)', 'value': 0.995},\n",
       "  {'tag': 'metrics/mAP50-95(B)', 'value': 0.80763},\n",
       "  {'tag': 'val/box_loss', 'value': 0.58132},\n",
       "  {'tag': 'val/cls_loss', 'value': 1.4026},\n",
       "  {'tag': 'val/dfl_loss', 'value': 0.87839},\n",
       "  {'tag': 'lr/pg0', 'value': 0.00097386},\n",
       "  {'tag': 'lr/pg1', 'value': 0.00097386},\n",
       "  {'tag': 'lr/pg2', 'value': 0.00097386}],\n",
       " [{'tag': 'epoch', 'value': 24.0},\n",
       "  {'tag': 'train/box_loss', 'value': 0.89431},\n",
       "  {'tag': 'train/cls_loss', 'value': 1.8867},\n",
       "  {'tag': 'train/dfl_loss', 'value': 0.97741},\n",
       "  {'tag': 'metrics/precision(B)', 'value': 0.97196},\n",
       "  {'tag': 'metrics/recall(B)', 'value': 0.99866},\n",
       "  {'tag': 'metrics/mAP50(B)', 'value': 0.995},\n",
       "  {'tag': 'metrics/mAP50-95(B)', 'value': 0.84066},\n",
       "  {'tag': 'val/box_loss', 'value': 0.56923},\n",
       "  {'tag': 'val/cls_loss', 'value': 1.2981},\n",
       "  {'tag': 'val/dfl_loss', 'value': 0.87291},\n",
       "  {'tag': 'lr/pg0', 'value': 0.00094085},\n",
       "  {'tag': 'lr/pg1', 'value': 0.00094085},\n",
       "  {'tag': 'lr/pg2', 'value': 0.00094085}],\n",
       " [{'tag': 'epoch', 'value': 25.0},\n",
       "  {'tag': 'train/box_loss', 'value': 0.88719},\n",
       "  {'tag': 'train/cls_loss', 'value': 1.6143},\n",
       "  {'tag': 'train/dfl_loss', 'value': 0.99381},\n",
       "  {'tag': 'metrics/precision(B)', 'value': 0.96733},\n",
       "  {'tag': 'metrics/recall(B)', 'value': 0.9997},\n",
       "  {'tag': 'metrics/mAP50(B)', 'value': 0.995},\n",
       "  {'tag': 'metrics/mAP50-95(B)', 'value': 0.84075},\n",
       "  {'tag': 'val/box_loss', 'value': 0.48798},\n",
       "  {'tag': 'val/cls_loss', 'value': 1.2675},\n",
       "  {'tag': 'val/dfl_loss', 'value': 0.85425},\n",
       "  {'tag': 'lr/pg0', 'value': 0.00090785},\n",
       "  {'tag': 'lr/pg1', 'value': 0.00090785},\n",
       "  {'tag': 'lr/pg2', 'value': 0.00090785}],\n",
       " [{'tag': 'epoch', 'value': 26.0},\n",
       "  {'tag': 'train/box_loss', 'value': 0.84876},\n",
       "  {'tag': 'train/cls_loss', 'value': 1.6264},\n",
       "  {'tag': 'train/dfl_loss', 'value': 0.92925},\n",
       "  {'tag': 'metrics/precision(B)', 'value': 0.98731},\n",
       "  {'tag': 'metrics/recall(B)', 'value': 1.0},\n",
       "  {'tag': 'metrics/mAP50(B)', 'value': 0.995},\n",
       "  {'tag': 'metrics/mAP50-95(B)', 'value': 0.84798},\n",
       "  {'tag': 'val/box_loss', 'value': 0.55751},\n",
       "  {'tag': 'val/cls_loss', 'value': 1.1992},\n",
       "  {'tag': 'val/dfl_loss', 'value': 0.86784},\n",
       "  {'tag': 'lr/pg0', 'value': 0.00087484},\n",
       "  {'tag': 'lr/pg1', 'value': 0.00087484},\n",
       "  {'tag': 'lr/pg2', 'value': 0.00087484}],\n",
       " [{'tag': 'epoch', 'value': 27.0},\n",
       "  {'tag': 'train/box_loss', 'value': 0.93747},\n",
       "  {'tag': 'train/cls_loss', 'value': 1.6506},\n",
       "  {'tag': 'train/dfl_loss', 'value': 0.98225},\n",
       "  {'tag': 'metrics/precision(B)', 'value': 0.97825},\n",
       "  {'tag': 'metrics/recall(B)', 'value': 1.0},\n",
       "  {'tag': 'metrics/mAP50(B)', 'value': 0.995},\n",
       "  {'tag': 'metrics/mAP50-95(B)', 'value': 0.91569},\n",
       "  {'tag': 'val/box_loss', 'value': 0.5384},\n",
       "  {'tag': 'val/cls_loss', 'value': 1.1146},\n",
       "  {'tag': 'val/dfl_loss', 'value': 0.85695},\n",
       "  {'tag': 'lr/pg0', 'value': 0.00084184},\n",
       "  {'tag': 'lr/pg1', 'value': 0.00084184},\n",
       "  {'tag': 'lr/pg2', 'value': 0.00084184}],\n",
       " [{'tag': 'epoch', 'value': 28.0},\n",
       "  {'tag': 'train/box_loss', 'value': 0.88906},\n",
       "  {'tag': 'train/cls_loss', 'value': 1.548},\n",
       "  {'tag': 'train/dfl_loss', 'value': 1.0091},\n",
       "  {'tag': 'metrics/precision(B)', 'value': 0.981},\n",
       "  {'tag': 'metrics/recall(B)', 'value': 1.0},\n",
       "  {'tag': 'metrics/mAP50(B)', 'value': 0.995},\n",
       "  {'tag': 'metrics/mAP50-95(B)', 'value': 0.96028},\n",
       "  {'tag': 'val/box_loss', 'value': 0.51107},\n",
       "  {'tag': 'val/cls_loss', 'value': 1.0871},\n",
       "  {'tag': 'val/dfl_loss', 'value': 0.85397},\n",
       "  {'tag': 'lr/pg0', 'value': 0.00080883},\n",
       "  {'tag': 'lr/pg1', 'value': 0.00080883},\n",
       "  {'tag': 'lr/pg2', 'value': 0.00080883}],\n",
       " [{'tag': 'epoch', 'value': 29.0},\n",
       "  {'tag': 'train/box_loss', 'value': 0.81072},\n",
       "  {'tag': 'train/cls_loss', 'value': 1.5923},\n",
       "  {'tag': 'train/dfl_loss', 'value': 0.93118},\n",
       "  {'tag': 'metrics/precision(B)', 'value': 0.98749},\n",
       "  {'tag': 'metrics/recall(B)', 'value': 1.0},\n",
       "  {'tag': 'metrics/mAP50(B)', 'value': 0.995},\n",
       "  {'tag': 'metrics/mAP50-95(B)', 'value': 0.90461},\n",
       "  {'tag': 'val/box_loss', 'value': 0.47067},\n",
       "  {'tag': 'val/cls_loss', 'value': 1.0576},\n",
       "  {'tag': 'val/dfl_loss', 'value': 0.84179},\n",
       "  {'tag': 'lr/pg0', 'value': 0.00077582},\n",
       "  {'tag': 'lr/pg1', 'value': 0.00077582},\n",
       "  {'tag': 'lr/pg2', 'value': 0.00077582}],\n",
       " [{'tag': 'epoch', 'value': 30.0},\n",
       "  {'tag': 'train/box_loss', 'value': 0.8249},\n",
       "  {'tag': 'train/cls_loss', 'value': 1.3682},\n",
       "  {'tag': 'train/dfl_loss', 'value': 0.94273},\n",
       "  {'tag': 'metrics/precision(B)', 'value': 0.98969},\n",
       "  {'tag': 'metrics/recall(B)', 'value': 1.0},\n",
       "  {'tag': 'metrics/mAP50(B)', 'value': 0.995},\n",
       "  {'tag': 'metrics/mAP50-95(B)', 'value': 0.9036},\n",
       "  {'tag': 'val/box_loss', 'value': 0.39666},\n",
       "  {'tag': 'val/cls_loss', 'value': 1.053},\n",
       "  {'tag': 'val/dfl_loss', 'value': 0.82851},\n",
       "  {'tag': 'lr/pg0', 'value': 0.00074282},\n",
       "  {'tag': 'lr/pg1', 'value': 0.00074282},\n",
       "  {'tag': 'lr/pg2', 'value': 0.00074282}],\n",
       " [{'tag': 'epoch', 'value': 31.0},\n",
       "  {'tag': 'train/box_loss', 'value': 0.73144},\n",
       "  {'tag': 'train/cls_loss', 'value': 1.3732},\n",
       "  {'tag': 'train/dfl_loss', 'value': 0.90753},\n",
       "  {'tag': 'metrics/precision(B)', 'value': 0.98757},\n",
       "  {'tag': 'metrics/recall(B)', 'value': 1.0},\n",
       "  {'tag': 'metrics/mAP50(B)', 'value': 0.995},\n",
       "  {'tag': 'metrics/mAP50-95(B)', 'value': 0.88781},\n",
       "  {'tag': 'val/box_loss', 'value': 0.375},\n",
       "  {'tag': 'val/cls_loss', 'value': 0.99855},\n",
       "  {'tag': 'val/dfl_loss', 'value': 0.83017},\n",
       "  {'tag': 'lr/pg0', 'value': 0.00070981},\n",
       "  {'tag': 'lr/pg1', 'value': 0.00070981},\n",
       "  {'tag': 'lr/pg2', 'value': 0.00070981}],\n",
       " [{'tag': 'epoch', 'value': 32.0},\n",
       "  {'tag': 'train/box_loss', 'value': 0.75478},\n",
       "  {'tag': 'train/cls_loss', 'value': 1.3006},\n",
       "  {'tag': 'train/dfl_loss', 'value': 0.92523},\n",
       "  {'tag': 'metrics/precision(B)', 'value': 0.98351},\n",
       "  {'tag': 'metrics/recall(B)', 'value': 1.0},\n",
       "  {'tag': 'metrics/mAP50(B)', 'value': 0.995},\n",
       "  {'tag': 'metrics/mAP50-95(B)', 'value': 0.91202},\n",
       "  {'tag': 'val/box_loss', 'value': 0.43955},\n",
       "  {'tag': 'val/cls_loss', 'value': 1.0266},\n",
       "  {'tag': 'val/dfl_loss', 'value': 0.84016},\n",
       "  {'tag': 'lr/pg0', 'value': 0.0006768},\n",
       "  {'tag': 'lr/pg1', 'value': 0.0006768},\n",
       "  {'tag': 'lr/pg2', 'value': 0.0006768}],\n",
       " [{'tag': 'epoch', 'value': 33.0},\n",
       "  {'tag': 'train/box_loss', 'value': 0.75876},\n",
       "  {'tag': 'train/cls_loss', 'value': 1.5963},\n",
       "  {'tag': 'train/dfl_loss', 'value': 0.91352},\n",
       "  {'tag': 'metrics/precision(B)', 'value': 0.97136},\n",
       "  {'tag': 'metrics/recall(B)', 'value': 1.0},\n",
       "  {'tag': 'metrics/mAP50(B)', 'value': 0.995},\n",
       "  {'tag': 'metrics/mAP50-95(B)', 'value': 0.88963},\n",
       "  {'tag': 'val/box_loss', 'value': 0.49852},\n",
       "  {'tag': 'val/cls_loss', 'value': 1.1063},\n",
       "  {'tag': 'val/dfl_loss', 'value': 0.85433},\n",
       "  {'tag': 'lr/pg0', 'value': 0.0006438},\n",
       "  {'tag': 'lr/pg1', 'value': 0.0006438},\n",
       "  {'tag': 'lr/pg2', 'value': 0.0006438}],\n",
       " [{'tag': 'epoch', 'value': 34.0},\n",
       "  {'tag': 'train/box_loss', 'value': 0.78078},\n",
       "  {'tag': 'train/cls_loss', 'value': 1.4324},\n",
       "  {'tag': 'train/dfl_loss', 'value': 0.92701},\n",
       "  {'tag': 'metrics/precision(B)', 'value': 0.9645},\n",
       "  {'tag': 'metrics/recall(B)', 'value': 1.0},\n",
       "  {'tag': 'metrics/mAP50(B)', 'value': 0.995},\n",
       "  {'tag': 'metrics/mAP50-95(B)', 'value': 0.83881},\n",
       "  {'tag': 'val/box_loss', 'value': 0.60238},\n",
       "  {'tag': 'val/cls_loss', 'value': 1.1641},\n",
       "  {'tag': 'val/dfl_loss', 'value': 0.87747},\n",
       "  {'tag': 'lr/pg0', 'value': 0.00061079},\n",
       "  {'tag': 'lr/pg1', 'value': 0.00061079},\n",
       "  {'tag': 'lr/pg2', 'value': 0.00061079}],\n",
       " [{'tag': 'epoch', 'value': 35.0},\n",
       "  {'tag': 'train/box_loss', 'value': 0.8292},\n",
       "  {'tag': 'train/cls_loss', 'value': 1.5066},\n",
       "  {'tag': 'train/dfl_loss', 'value': 0.96952},\n",
       "  {'tag': 'metrics/precision(B)', 'value': 0.97829},\n",
       "  {'tag': 'metrics/recall(B)', 'value': 1.0},\n",
       "  {'tag': 'metrics/mAP50(B)', 'value': 0.995},\n",
       "  {'tag': 'metrics/mAP50-95(B)', 'value': 0.84816},\n",
       "  {'tag': 'val/box_loss', 'value': 0.56216},\n",
       "  {'tag': 'val/cls_loss', 'value': 1.1453},\n",
       "  {'tag': 'val/dfl_loss', 'value': 0.86508},\n",
       "  {'tag': 'lr/pg0', 'value': 0.00057778},\n",
       "  {'tag': 'lr/pg1', 'value': 0.00057778},\n",
       "  {'tag': 'lr/pg2', 'value': 0.00057778}],\n",
       " [{'tag': 'epoch', 'value': 36.0},\n",
       "  {'tag': 'train/box_loss', 'value': 0.74242},\n",
       "  {'tag': 'train/cls_loss', 'value': 1.3477},\n",
       "  {'tag': 'train/dfl_loss', 'value': 0.94292},\n",
       "  {'tag': 'metrics/precision(B)', 'value': 0.98707},\n",
       "  {'tag': 'metrics/recall(B)', 'value': 1.0},\n",
       "  {'tag': 'metrics/mAP50(B)', 'value': 0.995},\n",
       "  {'tag': 'metrics/mAP50-95(B)', 'value': 0.86303},\n",
       "  {'tag': 'val/box_loss', 'value': 0.48702},\n",
       "  {'tag': 'val/cls_loss', 'value': 1.1534},\n",
       "  {'tag': 'val/dfl_loss', 'value': 0.85386},\n",
       "  {'tag': 'lr/pg0', 'value': 0.00054478},\n",
       "  {'tag': 'lr/pg1', 'value': 0.00054478},\n",
       "  {'tag': 'lr/pg2', 'value': 0.00054478}],\n",
       " [{'tag': 'epoch', 'value': 37.0},\n",
       "  {'tag': 'train/box_loss', 'value': 0.8563},\n",
       "  {'tag': 'train/cls_loss', 'value': 1.2671},\n",
       "  {'tag': 'train/dfl_loss', 'value': 0.96367},\n",
       "  {'tag': 'metrics/precision(B)', 'value': 0.9853},\n",
       "  {'tag': 'metrics/recall(B)', 'value': 1.0},\n",
       "  {'tag': 'metrics/mAP50(B)', 'value': 0.995},\n",
       "  {'tag': 'metrics/mAP50-95(B)', 'value': 0.88155},\n",
       "  {'tag': 'val/box_loss', 'value': 0.46772},\n",
       "  {'tag': 'val/cls_loss', 'value': 1.109},\n",
       "  {'tag': 'val/dfl_loss', 'value': 0.85329},\n",
       "  {'tag': 'lr/pg0', 'value': 0.00051177},\n",
       "  {'tag': 'lr/pg1', 'value': 0.00051177},\n",
       "  {'tag': 'lr/pg2', 'value': 0.00051177}],\n",
       " [{'tag': 'epoch', 'value': 38.0},\n",
       "  {'tag': 'train/box_loss', 'value': 0.75051},\n",
       "  {'tag': 'train/cls_loss', 'value': 1.2677},\n",
       "  {'tag': 'train/dfl_loss', 'value': 0.89221},\n",
       "  {'tag': 'metrics/precision(B)', 'value': 0.98462},\n",
       "  {'tag': 'metrics/recall(B)', 'value': 1.0},\n",
       "  {'tag': 'metrics/mAP50(B)', 'value': 0.995},\n",
       "  {'tag': 'metrics/mAP50-95(B)', 'value': 0.89094},\n",
       "  {'tag': 'val/box_loss', 'value': 0.45846},\n",
       "  {'tag': 'val/cls_loss', 'value': 1.0294},\n",
       "  {'tag': 'val/dfl_loss', 'value': 0.85682},\n",
       "  {'tag': 'lr/pg0', 'value': 0.00047876},\n",
       "  {'tag': 'lr/pg1', 'value': 0.00047876},\n",
       "  {'tag': 'lr/pg2', 'value': 0.00047876}],\n",
       " [{'tag': 'epoch', 'value': 39.0},\n",
       "  {'tag': 'train/box_loss', 'value': 0.68843},\n",
       "  {'tag': 'train/cls_loss', 'value': 1.2692},\n",
       "  {'tag': 'train/dfl_loss', 'value': 0.9136},\n",
       "  {'tag': 'metrics/precision(B)', 'value': 0.97703},\n",
       "  {'tag': 'metrics/recall(B)', 'value': 1.0},\n",
       "  {'tag': 'metrics/mAP50(B)', 'value': 0.995},\n",
       "  {'tag': 'metrics/mAP50-95(B)', 'value': 0.87248},\n",
       "  {'tag': 'val/box_loss', 'value': 0.44022},\n",
       "  {'tag': 'val/cls_loss', 'value': 1.07},\n",
       "  {'tag': 'val/dfl_loss', 'value': 0.85327},\n",
       "  {'tag': 'lr/pg0', 'value': 0.00044576},\n",
       "  {'tag': 'lr/pg1', 'value': 0.00044576},\n",
       "  {'tag': 'lr/pg2', 'value': 0.00044576}],\n",
       " [{'tag': 'epoch', 'value': 40.0},\n",
       "  {'tag': 'train/box_loss', 'value': 0.76343},\n",
       "  {'tag': 'train/cls_loss', 'value': 1.2374},\n",
       "  {'tag': 'train/dfl_loss', 'value': 0.91103},\n",
       "  {'tag': 'metrics/precision(B)', 'value': 0.96992},\n",
       "  {'tag': 'metrics/recall(B)', 'value': 1.0},\n",
       "  {'tag': 'metrics/mAP50(B)', 'value': 0.995},\n",
       "  {'tag': 'metrics/mAP50-95(B)', 'value': 0.88185},\n",
       "  {'tag': 'val/box_loss', 'value': 0.40082},\n",
       "  {'tag': 'val/cls_loss', 'value': 1.0924},\n",
       "  {'tag': 'val/dfl_loss', 'value': 0.84257},\n",
       "  {'tag': 'lr/pg0', 'value': 0.00041275},\n",
       "  {'tag': 'lr/pg1', 'value': 0.00041275},\n",
       "  {'tag': 'lr/pg2', 'value': 0.00041275}],\n",
       " [{'tag': 'epoch', 'value': 41.0},\n",
       "  {'tag': 'train/box_loss', 'value': 0.65702},\n",
       "  {'tag': 'train/cls_loss', 'value': 1.3044},\n",
       "  {'tag': 'train/dfl_loss', 'value': 0.92026},\n",
       "  {'tag': 'metrics/precision(B)', 'value': 0.96291},\n",
       "  {'tag': 'metrics/recall(B)', 'value': 0.99873},\n",
       "  {'tag': 'metrics/mAP50(B)', 'value': 0.995},\n",
       "  {'tag': 'metrics/mAP50-95(B)', 'value': 0.90155},\n",
       "  {'tag': 'val/box_loss', 'value': 0.40349},\n",
       "  {'tag': 'val/cls_loss', 'value': 0.99385},\n",
       "  {'tag': 'val/dfl_loss', 'value': 0.84281},\n",
       "  {'tag': 'lr/pg0', 'value': 0.00037974},\n",
       "  {'tag': 'lr/pg1', 'value': 0.00037974},\n",
       "  {'tag': 'lr/pg2', 'value': 0.00037974}],\n",
       " [{'tag': 'epoch', 'value': 42.0},\n",
       "  {'tag': 'train/box_loss', 'value': 0.63936},\n",
       "  {'tag': 'train/cls_loss', 'value': 1.2483},\n",
       "  {'tag': 'train/dfl_loss', 'value': 0.9003},\n",
       "  {'tag': 'metrics/precision(B)', 'value': 0.9642},\n",
       "  {'tag': 'metrics/recall(B)', 'value': 1.0},\n",
       "  {'tag': 'metrics/mAP50(B)', 'value': 0.995},\n",
       "  {'tag': 'metrics/mAP50-95(B)', 'value': 0.89963},\n",
       "  {'tag': 'val/box_loss', 'value': 0.41567},\n",
       "  {'tag': 'val/cls_loss', 'value': 0.95405},\n",
       "  {'tag': 'val/dfl_loss', 'value': 0.83693},\n",
       "  {'tag': 'lr/pg0', 'value': 0.00034674},\n",
       "  {'tag': 'lr/pg1', 'value': 0.00034674},\n",
       "  {'tag': 'lr/pg2', 'value': 0.00034674}],\n",
       " [{'tag': 'epoch', 'value': 43.0},\n",
       "  {'tag': 'train/box_loss', 'value': 0.64237},\n",
       "  {'tag': 'train/cls_loss', 'value': 1.2701},\n",
       "  {'tag': 'train/dfl_loss', 'value': 0.87913},\n",
       "  {'tag': 'metrics/precision(B)', 'value': 0.97005},\n",
       "  {'tag': 'metrics/recall(B)', 'value': 1.0},\n",
       "  {'tag': 'metrics/mAP50(B)', 'value': 0.995},\n",
       "  {'tag': 'metrics/mAP50-95(B)', 'value': 0.89963},\n",
       "  {'tag': 'val/box_loss', 'value': 0.4301},\n",
       "  {'tag': 'val/cls_loss', 'value': 0.96179},\n",
       "  {'tag': 'val/dfl_loss', 'value': 0.83769},\n",
       "  {'tag': 'lr/pg0', 'value': 0.00031373},\n",
       "  {'tag': 'lr/pg1', 'value': 0.00031373},\n",
       "  {'tag': 'lr/pg2', 'value': 0.00031373}],\n",
       " [{'tag': 'epoch', 'value': 44.0},\n",
       "  {'tag': 'train/box_loss', 'value': 0.57941},\n",
       "  {'tag': 'train/cls_loss', 'value': 1.1566},\n",
       "  {'tag': 'train/dfl_loss', 'value': 0.89615},\n",
       "  {'tag': 'metrics/precision(B)', 'value': 0.97691},\n",
       "  {'tag': 'metrics/recall(B)', 'value': 1.0},\n",
       "  {'tag': 'metrics/mAP50(B)', 'value': 0.995},\n",
       "  {'tag': 'metrics/mAP50-95(B)', 'value': 0.9414},\n",
       "  {'tag': 'val/box_loss', 'value': 0.45878},\n",
       "  {'tag': 'val/cls_loss', 'value': 0.95365},\n",
       "  {'tag': 'val/dfl_loss', 'value': 0.84326},\n",
       "  {'tag': 'lr/pg0', 'value': 0.00028072},\n",
       "  {'tag': 'lr/pg1', 'value': 0.00028072},\n",
       "  {'tag': 'lr/pg2', 'value': 0.00028072}],\n",
       " [{'tag': 'epoch', 'value': 45.0},\n",
       "  {'tag': 'train/box_loss', 'value': 0.62247},\n",
       "  {'tag': 'train/cls_loss', 'value': 1.2098},\n",
       "  {'tag': 'train/dfl_loss', 'value': 0.88644},\n",
       "  {'tag': 'metrics/precision(B)', 'value': 0.9817},\n",
       "  {'tag': 'metrics/recall(B)', 'value': 1.0},\n",
       "  {'tag': 'metrics/mAP50(B)', 'value': 0.995},\n",
       "  {'tag': 'metrics/mAP50-95(B)', 'value': 0.90222},\n",
       "  {'tag': 'val/box_loss', 'value': 0.43521},\n",
       "  {'tag': 'val/cls_loss', 'value': 0.96194},\n",
       "  {'tag': 'val/dfl_loss', 'value': 0.83812},\n",
       "  {'tag': 'lr/pg0', 'value': 0.00024772},\n",
       "  {'tag': 'lr/pg1', 'value': 0.00024772},\n",
       "  {'tag': 'lr/pg2', 'value': 0.00024772}],\n",
       " [{'tag': 'epoch', 'value': 46.0},\n",
       "  {'tag': 'train/box_loss', 'value': 0.60818},\n",
       "  {'tag': 'train/cls_loss', 'value': 1.2013},\n",
       "  {'tag': 'train/dfl_loss', 'value': 0.8573},\n",
       "  {'tag': 'metrics/precision(B)', 'value': 0.9889},\n",
       "  {'tag': 'metrics/recall(B)', 'value': 1.0},\n",
       "  {'tag': 'metrics/mAP50(B)', 'value': 0.995},\n",
       "  {'tag': 'metrics/mAP50-95(B)', 'value': 0.89776},\n",
       "  {'tag': 'val/box_loss', 'value': 0.38069},\n",
       "  {'tag': 'val/cls_loss', 'value': 0.95059},\n",
       "  {'tag': 'val/dfl_loss', 'value': 0.83151},\n",
       "  {'tag': 'lr/pg0', 'value': 0.00021471},\n",
       "  {'tag': 'lr/pg1', 'value': 0.00021471},\n",
       "  {'tag': 'lr/pg2', 'value': 0.00021471}],\n",
       " [{'tag': 'epoch', 'value': 47.0},\n",
       "  {'tag': 'train/box_loss', 'value': 0.55504},\n",
       "  {'tag': 'train/cls_loss', 'value': 1.1902},\n",
       "  {'tag': 'train/dfl_loss', 'value': 0.87212},\n",
       "  {'tag': 'metrics/precision(B)', 'value': 0.9898},\n",
       "  {'tag': 'metrics/recall(B)', 'value': 1.0},\n",
       "  {'tag': 'metrics/mAP50(B)', 'value': 0.995},\n",
       "  {'tag': 'metrics/mAP50-95(B)', 'value': 0.92709},\n",
       "  {'tag': 'val/box_loss', 'value': 0.35229},\n",
       "  {'tag': 'val/cls_loss', 'value': 0.92473},\n",
       "  {'tag': 'val/dfl_loss', 'value': 0.82766},\n",
       "  {'tag': 'lr/pg0', 'value': 0.0001817},\n",
       "  {'tag': 'lr/pg1', 'value': 0.0001817},\n",
       "  {'tag': 'lr/pg2', 'value': 0.0001817}],\n",
       " [{'tag': 'epoch', 'value': 48.0},\n",
       "  {'tag': 'train/box_loss', 'value': 0.54536},\n",
       "  {'tag': 'train/cls_loss', 'value': 1.1609},\n",
       "  {'tag': 'train/dfl_loss', 'value': 0.83567},\n",
       "  {'tag': 'metrics/precision(B)', 'value': 0.99},\n",
       "  {'tag': 'metrics/recall(B)', 'value': 1.0},\n",
       "  {'tag': 'metrics/mAP50(B)', 'value': 0.995},\n",
       "  {'tag': 'metrics/mAP50-95(B)', 'value': 0.93022},\n",
       "  {'tag': 'val/box_loss', 'value': 0.36754},\n",
       "  {'tag': 'val/cls_loss', 'value': 0.91815},\n",
       "  {'tag': 'val/dfl_loss', 'value': 0.8254},\n",
       "  {'tag': 'lr/pg0', 'value': 0.0001487},\n",
       "  {'tag': 'lr/pg1', 'value': 0.0001487},\n",
       "  {'tag': 'lr/pg2', 'value': 0.0001487}],\n",
       " [{'tag': 'epoch', 'value': 49.0},\n",
       "  {'tag': 'train/box_loss', 'value': 0.53891},\n",
       "  {'tag': 'train/cls_loss', 'value': 1.1296},\n",
       "  {'tag': 'train/dfl_loss', 'value': 0.84148},\n",
       "  {'tag': 'metrics/precision(B)', 'value': 0.98987},\n",
       "  {'tag': 'metrics/recall(B)', 'value': 1.0},\n",
       "  {'tag': 'metrics/mAP50(B)', 'value': 0.995},\n",
       "  {'tag': 'metrics/mAP50-95(B)', 'value': 0.91172},\n",
       "  {'tag': 'val/box_loss', 'value': 0.37659},\n",
       "  {'tag': 'val/cls_loss', 'value': 0.9197},\n",
       "  {'tag': 'val/dfl_loss', 'value': 0.82518},\n",
       "  {'tag': 'lr/pg0', 'value': 0.00011569},\n",
       "  {'tag': 'lr/pg1', 'value': 0.00011569},\n",
       "  {'tag': 'lr/pg2', 'value': 0.00011569}],\n",
       " [{'tag': 'epoch', 'value': 50.0},\n",
       "  {'tag': 'train/box_loss', 'value': 0.54389},\n",
       "  {'tag': 'train/cls_loss', 'value': 1.111},\n",
       "  {'tag': 'train/dfl_loss', 'value': 0.8559},\n",
       "  {'tag': 'metrics/precision(B)', 'value': 0.98916},\n",
       "  {'tag': 'metrics/recall(B)', 'value': 1.0},\n",
       "  {'tag': 'metrics/mAP50(B)', 'value': 0.995},\n",
       "  {'tag': 'metrics/mAP50-95(B)', 'value': 0.92422},\n",
       "  {'tag': 'val/box_loss', 'value': 0.37283},\n",
       "  {'tag': 'val/cls_loss', 'value': 0.92134},\n",
       "  {'tag': 'val/dfl_loss', 'value': 0.82441},\n",
       "  {'tag': 'lr/pg0', 'value': 8.2683e-05},\n",
       "  {'tag': 'lr/pg1', 'value': 8.2683e-05},\n",
       "  {'tag': 'lr/pg2', 'value': 8.2683e-05}]]"
      ]
     },
     "execution_count": 24,
     "metadata": {},
     "output_type": "execute_result"
    }
   ],
   "source": [
    "ultralytics_hub.get_metrics()"
   ]
  },
  {
   "attachments": {},
   "cell_type": "markdown",
   "metadata": {},
   "source": [
    "## Evaluate"
   ]
  },
  {
   "cell_type": "code",
   "execution_count": 25,
   "metadata": {},
   "outputs": [
    {
     "name": "stderr",
     "output_type": "stream",
     "text": [
      " 33%|███▎      | 1/3 [00:00<00:00,  6.56it/s]"
     ]
    },
    {
     "name": "stderr",
     "output_type": "stream",
     "text": [
      "100%|██████████| 3/3 [00:00<00:00, 11.56it/s]\n"
     ]
    },
    {
     "data": {
      "text/plain": [
       "EvaluateResult(eval_metrics=[{'tag': 'mAP', 'value': 0.835066020488739}, {'tag': 'mAP_50', 'value': 1.0}, {'tag': 'mAP_75', 'value': 1.0}, {'tag': 'mAP_small', 'value': 0.7205445766448975}, {'tag': 'mAP_medium', 'value': 0.871039628982544}, {'tag': 'mAP_large', 'value': -1.0}, {'tag': 'mAR_1', 'value': 0.8500000238418579}, {'tag': 'mAR_10', 'value': 0.8500000238418579}, {'tag': 'mAR_100', 'value': 0.8500000238418579}, {'tag': 'mAR_small', 'value': 0.7250000238418579}, {'tag': 'mAR_medium', 'value': 0.871039628982544}, {'tag': 'mAR_large', 'value': -1.0}, {'tag': 'mAP_per_class', 'value': [{'class_name': '1', 'value': 0.7533003091812134}, {'class_name': '2', 'value': 0.9168316721916199}]}, {'tag': 'mAR_100_per_class', 'value': [{'class_name': '1', 'value': 0.7666666507720947}, {'class_name': '2', 'value': 0.9333333373069763}]}])"
      ]
     },
     "execution_count": 25,
     "metadata": {},
     "output_type": "execute_result"
    }
   ],
   "source": [
    "result = ultralytics_hub.evaluate(\n",
    "    dataset=dataset,\n",
    "    batch_size=4,\n",
    ")\n",
    "result\n"
   ]
  },
  {
   "cell_type": "code",
   "execution_count": 26,
   "metadata": {},
   "outputs": [
    {
     "name": "stderr",
     "output_type": "stream",
     "text": [
      "100%|██████████| 3/3 [00:00<00:00, 11.39it/s]\n"
     ]
    },
    {
     "data": {
      "text/plain": [
       "EvaluateResult(eval_metrics=[{'tag': 'mAP', 'value': 0.9183168411254883}, {'tag': 'mAP_50', 'value': 1.0}, {'tag': 'mAP_75', 'value': 1.0}, {'tag': 'mAP_small', 'value': 0.8554455637931824}, {'tag': 'mAP_medium', 'value': 0.9678217768669128}, {'tag': 'mAP_large', 'value': -1.0}, {'tag': 'mAR_1', 'value': 0.9424999952316284}, {'tag': 'mAR_10', 'value': 0.9424999952316284}, {'tag': 'mAR_100', 'value': 0.9424999952316284}, {'tag': 'mAR_small', 'value': 0.8999999761581421}, {'tag': 'mAR_medium', 'value': 0.9678217768669128}, {'tag': 'mAR_large', 'value': -1.0}, {'tag': 'mAP_per_class', 'value': [{'class_name': '1', 'value': 0.9009901285171509}, {'class_name': '2', 'value': 0.9356435537338257}]}, {'tag': 'mAR_100_per_class', 'value': [{'class_name': '1', 'value': 0.925000011920929}, {'class_name': '2', 'value': 0.9599999785423279}]}])"
      ]
     },
     "execution_count": 26,
     "metadata": {},
     "output_type": "execute_result"
    }
   ],
   "source": [
    "result = ultralytics_hub.evaluate(\n",
    "    dataset=dataset,\n",
    "    set_name=\"val\",\n",
    "    batch_size=4,\n",
    ")\n",
    "result\n"
   ]
  },
  {
   "cell_type": "markdown",
   "metadata": {},
   "source": [
    "### get evaluate informations"
   ]
  },
  {
   "cell_type": "code",
   "execution_count": 27,
   "metadata": {},
   "outputs": [
    {
     "data": {
      "text/plain": [
       "[{'tag': 'mAP', 'value': 0.9183168411254883},\n",
       " {'tag': 'mAP_50', 'value': 1.0},\n",
       " {'tag': 'mAP_75', 'value': 1.0},\n",
       " {'tag': 'mAP_small', 'value': 0.8554455637931824},\n",
       " {'tag': 'mAP_medium', 'value': 0.9678217768669128},\n",
       " {'tag': 'mAP_large', 'value': -1.0},\n",
       " {'tag': 'mAR_1', 'value': 0.9424999952316284},\n",
       " {'tag': 'mAR_10', 'value': 0.9424999952316284},\n",
       " {'tag': 'mAR_100', 'value': 0.9424999952316284},\n",
       " {'tag': 'mAR_small', 'value': 0.8999999761581421},\n",
       " {'tag': 'mAR_medium', 'value': 0.9678217768669128},\n",
       " {'tag': 'mAR_large', 'value': -1.0},\n",
       " {'tag': 'mAP_per_class',\n",
       "  'value': [{'class_name': '1', 'value': 0.9009901285171509},\n",
       "   {'class_name': '2', 'value': 0.9356435537338257}]},\n",
       " {'tag': 'mAR_100_per_class',\n",
       "  'value': [{'class_name': '1', 'value': 0.925000011920929},\n",
       "   {'class_name': '2', 'value': 0.9599999785423279}]}]"
      ]
     },
     "execution_count": 27,
     "metadata": {},
     "output_type": "execute_result"
    }
   ],
   "source": [
    "ultralytics_hub.get_evaluate_result()"
   ]
  },
  {
   "cell_type": "code",
   "execution_count": 28,
   "metadata": {},
   "outputs": [
    {
     "data": {
      "text/plain": [
       "{'status': 'success',\n",
       " 'error_type': None,\n",
       " 'error_msg': None,\n",
       " 'step': 4,\n",
       " 'total_step': 4}"
      ]
     },
     "execution_count": 28,
     "metadata": {},
     "output_type": "execute_result"
    }
   ],
   "source": [
    "ultralytics_hub.get_evaluate_state()"
   ]
  },
  {
   "attachments": {},
   "cell_type": "markdown",
   "metadata": {},
   "source": [
    "## Inference"
   ]
  },
  {
   "cell_type": "code",
   "execution_count": 29,
   "metadata": {},
   "outputs": [],
   "source": [
    "import PIL.Image"
   ]
  },
  {
   "cell_type": "code",
   "execution_count": 30,
   "metadata": {},
   "outputs": [
    {
     "name": "stderr",
     "output_type": "stream",
     "text": [
      "100%|██████████| 1/1 [00:00<00:00,  5.79it/s]\n"
     ]
    },
    {
     "data": {
      "image/png": "[encoded data removed]",
      "text/plain": [
       "<PIL.PngImagePlugin.PngImageFile image mode=RGB size=300x300>"
      ]
     },
     "execution_count": 30,
     "metadata": {},
     "output_type": "execute_result"
    }
   ],
   "source": [
    "ultralytics_hub.inference(\n",
    "    source=\"datasets/mnist_det/raw/10.png\",\n",
    "    draw=True,\n",
    ")\n",
    "PIL.Image.open(ultralytics_hub.draw_dir / \"10.png\")"
   ]
  },
  {
   "cell_type": "code",
   "execution_count": 31,
   "metadata": {},
   "outputs": [
    {
     "name": "stderr",
     "output_type": "stream",
     "text": [
      "100%|██████████| 25/25 [00:00<00:00, 27.37it/s]\n"
     ]
    },
    {
     "data": {
      "image/png": "[encoded data removed]",
      "text/plain": [
       "<PIL.PngImagePlugin.PngImageFile image mode=RGB size=300x300>"
      ]
     },
     "execution_count": 31,
     "metadata": {},
     "output_type": "execute_result"
    }
   ],
   "source": [
    "ultralytics_hub.inference(\n",
    "    source=\"datasets/mnist_det/raw\",\n",
    "    recursive=True,\n",
    "    draw=True,\n",
    ")\n",
    "PIL.Image.open(ultralytics_hub.draw_dir / \"1.png\")"
   ]
  },
  {
   "cell_type": "markdown",
   "metadata": {},
   "source": [
    "### get inference informations"
   ]
  },
  {
   "cell_type": "code",
   "execution_count": 32,
   "metadata": {},
   "outputs": [
    {
     "data": {
      "text/plain": [
       "[{'1.png': [{'category_id': 1,\n",
       "    'bbox': [107.37403869628906,\n",
       "     91.69528198242188,\n",
       "     26.16375732421875,\n",
       "     46.10255432128906],\n",
       "    'area': 1206.2160432888195,\n",
       "    'iscrowd': 0,\n",
       "    'score': 0.9146654605865479}]},\n",
       " {'2.png': [{'category_id': 1,\n",
       "    'bbox': [149.558349609375,\n",
       "     177.26950073242188,\n",
       "     15.940292358398438,\n",
       "     42.1663818359375],\n",
       "    'area': 672.1444541607052,\n",
       "    'iscrowd': 0,\n",
       "    'score': 0.9036419987678528}]},\n",
       " {'3.png': [{'category_id': 1,\n",
       "    'bbox': [58.5820198059082,\n",
       "     88.27410125732422,\n",
       "     12.61246109008789,\n",
       "     37.57154083251953],\n",
       "    'area': 473.869596844801,\n",
       "    'iscrowd': 0,\n",
       "    'score': 0.8641519546508789}]},\n",
       " {'4.png': [{'category_id': 2,\n",
       "    'bbox': [121.241455078125,\n",
       "     158.77667236328125,\n",
       "     40.83848571777344,\n",
       "     47.66691589355469],\n",
       "    'area': 1946.6446639292408,\n",
       "    'iscrowd': 0,\n",
       "    'score': 0.9752923846244812}]},\n",
       " {'5.png': [{'category_id': 2,\n",
       "    'bbox': [248.9892120361328,\n",
       "     16.775619506835938,\n",
       "     28.735427856445312,\n",
       "     40.469242095947266],\n",
       "    'area': 1162.9009866531123,\n",
       "    'iscrowd': 0,\n",
       "    'score': 0.8770548701286316},\n",
       "   {'category_id': 1,\n",
       "    'bbox': [248.9248809814453,\n",
       "     17.079862594604492,\n",
       "     28.106918334960938,\n",
       "     38.899362564086914],\n",
       "    'area': 1093.3412068708276,\n",
       "    'iscrowd': 0,\n",
       "    'score': 0.29374971985816956}]},\n",
       " {'6.png': [{'category_id': 2,\n",
       "    'bbox': [29.183879852294922,\n",
       "     139.53492736816406,\n",
       "     50.67433547973633,\n",
       "     49.83283996582031],\n",
       "    'area': 2525.2460503359907,\n",
       "    'iscrowd': 0,\n",
       "    'score': 0.9912328124046326}]},\n",
       " {'7.png': [{'category_id': 1,\n",
       "    'bbox': [202.42071533203125,\n",
       "     97.07789611816406,\n",
       "     11.417724609375,\n",
       "     45.277740478515625],\n",
       "    'area': 516.9687717184424,\n",
       "    'iscrowd': 0,\n",
       "    'score': 0.8939312696456909}]},\n",
       " {'8.png': [{'category_id': 1,\n",
       "    'bbox': [253.1036834716797,\n",
       "     162.79286193847656,\n",
       "     26.246261596679688,\n",
       "     40.791046142578125],\n",
       "    'area': 1070.6124678603373,\n",
       "    'iscrowd': 0,\n",
       "    'score': 0.9028500318527222}]},\n",
       " {'9.png': [{'category_id': 2,\n",
       "    'bbox': [188.5682830810547,\n",
       "     50.26176834106445,\n",
       "     41.66490173339844,\n",
       "     36.03895950317383],\n",
       "    'area': 1501.5597062736633,\n",
       "    'iscrowd': 0,\n",
       "    'score': 0.9900986552238464}]},\n",
       " {'10.png': [{'category_id': 2,\n",
       "    'bbox': [72.91927337646484,\n",
       "     149.81422424316406,\n",
       "     41.76502227783203,\n",
       "     40.40257263183594],\n",
       "    'area': 1687.4143460503547,\n",
       "    'iscrowd': 0,\n",
       "    'score': 0.9770092368125916}]},\n",
       " {'11.png': [{'category_id': 2,\n",
       "    'bbox': [181.47659301757812,\n",
       "     207.53712463378906,\n",
       "     36.23258972167969,\n",
       "     45.81675720214844],\n",
       "    'area': 1660.0597660832573,\n",
       "    'iscrowd': 0,\n",
       "    'score': 0.7444103360176086}]},\n",
       " {'12.png': [{'category_id': 2,\n",
       "    'bbox': [114.2760009765625,\n",
       "     155.0713348388672,\n",
       "     47.544708251953125,\n",
       "     46.71159362792969],\n",
       "    'area': 2220.8890910237096,\n",
       "    'iscrowd': 0,\n",
       "    'score': 0.8842176198959351}]},\n",
       " {'13.png': [{'category_id': 1,\n",
       "    'bbox': [74.66617584228516,\n",
       "     13.339277267456055,\n",
       "     18.842987060546875,\n",
       "     39.500226974487305],\n",
       "    'area': 744.3022657689289,\n",
       "    'iscrowd': 0,\n",
       "    'score': 0.8572077751159668}]},\n",
       " {'14.png': [{'category_id': 1,\n",
       "    'bbox': [68.97553253173828,\n",
       "     137.81602478027344,\n",
       "     16.25658416748047,\n",
       "     41.9713134765625],\n",
       "    'area': 682.3101901514456,\n",
       "    'iscrowd': 0,\n",
       "    'score': 0.8666486740112305}]},\n",
       " {'15.png': [{'category_id': 2,\n",
       "    'bbox': [241.01937866210938,\n",
       "     52.2274169921875,\n",
       "     40.807647705078125,\n",
       "     37.952613830566406],\n",
       "    'area': 1548.7568946846295,\n",
       "    'iscrowd': 0,\n",
       "    'score': 0.8967580795288086}]},\n",
       " {'16.png': [{'category_id': 2,\n",
       "    'bbox': [218.94894409179688,\n",
       "     117.2512435913086,\n",
       "     35.18284606933594,\n",
       "     39.972023010253906],\n",
       "    'area': 1406.3295326497173,\n",
       "    'iscrowd': 0,\n",
       "    'score': 0.8826867341995239}]},\n",
       " {'17.png': [{'category_id': 2,\n",
       "    'bbox': [114.06609344482422,\n",
       "     66.23987579345703,\n",
       "     37.96564483642578,\n",
       "     40.78736877441406],\n",
       "    'area': 1548.5187567017274,\n",
       "    'iscrowd': 0,\n",
       "    'score': 0.9661129713058472}]},\n",
       " {'18.png': [{'category_id': 2,\n",
       "    'bbox': [162.17263793945312,\n",
       "     87.8706283569336,\n",
       "     47.76727294921875,\n",
       "     47.47876739501953],\n",
       "    'area': 2267.9312414503656,\n",
       "    'iscrowd': 0,\n",
       "    'score': 0.9773440957069397}]},\n",
       " {'19.png': [{'category_id': 1,\n",
       "    'bbox': [61.05482864379883,\n",
       "     132.39859008789062,\n",
       "     30.27657699584961,\n",
       "     43.60919189453125],\n",
       "    'area': 1320.337056121556,\n",
       "    'iscrowd': 0,\n",
       "    'score': 0.9044147729873657}]},\n",
       " {'20.png': [{'category_id': 2,\n",
       "    'bbox': [83.48413848876953,\n",
       "     175.60198974609375,\n",
       "     32.19489288330078,\n",
       "     49.08256530761719],\n",
       "    'area': 1580.2079325163504,\n",
       "    'iscrowd': 0,\n",
       "    'score': 0.6971146464347839}]},\n",
       " {'21.png': [{'category_id': 1,\n",
       "    'bbox': [249.01663208007812,\n",
       "     92.16047668457031,\n",
       "     21.70361328125,\n",
       "     50.19775390625],\n",
       "    'area': 1089.4726383686066,\n",
       "    'iscrowd': 0,\n",
       "    'score': 0.9800584316253662}]},\n",
       " {'22.png': [{'category_id': 2,\n",
       "    'bbox': [85.35608673095703,\n",
       "     104.4917984008789,\n",
       "     37.25572204589844,\n",
       "     39.359947204589844],\n",
       "    'area': 1466.3832527954364,\n",
       "    'iscrowd': 0,\n",
       "    'score': 0.7034189105033875}]},\n",
       " {'23.png': [{'category_id': 1,\n",
       "    'bbox': [150.69219970703125,\n",
       "     58.751651763916016,\n",
       "     29.8643798828125,\n",
       "     43.18845748901367],\n",
       "    'area': 1289.7965010046028,\n",
       "    'iscrowd': 0,\n",
       "    'score': 0.9177032709121704}]},\n",
       " {'24.png': [{'category_id': 1,\n",
       "    'bbox': [224.95980834960938,\n",
       "     225.2217254638672,\n",
       "     14.434768676757812,\n",
       "     42.85612487792969],\n",
       "    'area': 618.6182489951607,\n",
       "    'iscrowd': 0,\n",
       "    'score': 0.8671126961708069}]},\n",
       " {'25.png': [{'category_id': 1,\n",
       "    'bbox': [178.1912841796875,\n",
       "     139.74893188476562,\n",
       "     16.872390747070312,\n",
       "     42.18693542480469],\n",
       "    'area': 711.7944589087274,\n",
       "    'iscrowd': 0,\n",
       "    'score': 0.8748034238815308}]},\n",
       " {'26.png': [{'category_id': 2,\n",
       "    'bbox': [39.13764572143555,\n",
       "     179.34515380859375,\n",
       "     35.42953872680664,\n",
       "     39.82804870605469],\n",
       "    'area': 1411.0893940443057,\n",
       "    'iscrowd': 0,\n",
       "    'score': 0.9176478385925293}]},\n",
       " {'27.png': [{'category_id': 1,\n",
       "    'bbox': [208.67160034179688,\n",
       "     67.70893859863281,\n",
       "     24.71368408203125,\n",
       "     39.23912811279297],\n",
       "    'area': 969.7434158339165,\n",
       "    'iscrowd': 0,\n",
       "    'score': 0.8112889528274536}]},\n",
       " {'28.png': [{'category_id': 1,\n",
       "    'bbox': [103.03473663330078,\n",
       "     174.98130798339844,\n",
       "     32.78600311279297,\n",
       "     52.71205139160156],\n",
       "    'area': 1728.2174810067518,\n",
       "    'iscrowd': 0,\n",
       "    'score': 0.774827241897583},\n",
       "   {'category_id': 2,\n",
       "    'bbox': [102.87519073486328,\n",
       "     174.97119140625,\n",
       "     33.978355407714844,\n",
       "     51.84465026855469],\n",
       "    'area': 1761.59595281363,\n",
       "    'iscrowd': 0,\n",
       "    'score': 0.3328860104084015}]},\n",
       " {'29.png': [{'category_id': 1,\n",
       "    'bbox': [167.11505126953125,\n",
       "     137.48397827148438,\n",
       "     19.749038696289062,\n",
       "     48.76881408691406],\n",
       "    'area': 963.137196574593,\n",
       "    'iscrowd': 0,\n",
       "    'score': 0.9745906591415405}]},\n",
       " {'30.png': [{'category_id': 2,\n",
       "    'bbox': [32.97163009643555,\n",
       "     19.205474853515625,\n",
       "     45.2025260925293,\n",
       "     49.95311737060547],\n",
       "    'area': 2258.007091347972,\n",
       "    'iscrowd': 0,\n",
       "    'score': 0.973502516746521}]},\n",
       " {'31.png': [{'category_id': 2,\n",
       "    'bbox': [238.7873992919922,\n",
       "     101.14745330810547,\n",
       "     38.87806701660156,\n",
       "     37.378318786621094],\n",
       "    'area': 1453.196782754152,\n",
       "    'iscrowd': 0,\n",
       "    'score': 0.9764174222946167}]},\n",
       " {'32.png': [{'category_id': 2,\n",
       "    'bbox': [12.323423385620117,\n",
       "     170.16522216796875,\n",
       "     44.53322410583496,\n",
       "     50.89341735839844],\n",
       "    'area': 2266.4479607333487,\n",
       "    'iscrowd': 0,\n",
       "    'score': 0.9471334218978882}]},\n",
       " {'33.png': [{'category_id': 2,\n",
       "    'bbox': [145.00057983398438,\n",
       "     50.29595947265625,\n",
       "     51.73492431640625,\n",
       "     50.75120544433594],\n",
       "    'area': 2625.6097726291046,\n",
       "    'iscrowd': 0,\n",
       "    'score': 0.9951984286308289}]},\n",
       " {'34.png': [{'category_id': 1,\n",
       "    'bbox': [154.5885009765625,\n",
       "     129.84249877929688,\n",
       "     15.209091186523438,\n",
       "     44.91650390625],\n",
       "    'area': 683.1392036899924,\n",
       "    'iscrowd': 0,\n",
       "    'score': 0.9187330603599548}]},\n",
       " {'35.png': [{'category_id': 1,\n",
       "    'bbox': [36.00315475463867,\n",
       "     179.88201904296875,\n",
       "     16.43838882446289,\n",
       "     43.817413330078125],\n",
       "    'area': 720.2876776020275,\n",
       "    'iscrowd': 0,\n",
       "    'score': 0.8357078433036804}]},\n",
       " {'36.png': [{'category_id': 1,\n",
       "    'bbox': [209.523193359375,\n",
       "     212.6623992919922,\n",
       "     18.87774658203125,\n",
       "     46.86231994628906],\n",
       "    'area': 884.6550001921132,\n",
       "    'iscrowd': 0,\n",
       "    'score': 0.9083700776100159}]},\n",
       " {'37.png': [{'category_id': 1,\n",
       "    'bbox': [143.8166961669922,\n",
       "     69.47636413574219,\n",
       "     19.218582153320312,\n",
       "     45.813995361328125],\n",
       "    'area': 880.4800336235203,\n",
       "    'iscrowd': 0,\n",
       "    'score': 0.9707226157188416}]},\n",
       " {'38.png': [{'category_id': 2,\n",
       "    'bbox': [88.7427749633789,\n",
       "     245.09063720703125,\n",
       "     34.688575744628906,\n",
       "     43.751190185546875],\n",
       "    'area': 1517.6664746690076,\n",
       "    'iscrowd': 0,\n",
       "    'score': 0.7821991443634033}]},\n",
       " {'39.png': [{'category_id': 1,\n",
       "    'bbox': [111.13388061523438,\n",
       "     154.28460693359375,\n",
       "     16.073875427246094,\n",
       "     50.523712158203125],\n",
       "    'area': 812.1118553529959,\n",
       "    'iscrowd': 0,\n",
       "    'score': 0.9123628735542297}]},\n",
       " {'40.png': [{'category_id': 1,\n",
       "    'bbox': [45.19650650024414,\n",
       "     203.94586181640625,\n",
       "     10.051929473876953,\n",
       "     39.9873046875],\n",
       "    'area': 401.9495665691793,\n",
       "    'iscrowd': 0,\n",
       "    'score': 0.8097560405731201}]},\n",
       " {'41.png': [{'category_id': 2,\n",
       "    'bbox': [176.89141845703125,\n",
       "     181.70675659179688,\n",
       "     45.50318908691406,\n",
       "     39.93782043457031],\n",
       "    'area': 1817.2981949534733,\n",
       "    'iscrowd': 0,\n",
       "    'score': 0.9695444107055664}]},\n",
       " {'42.png': [{'category_id': 2,\n",
       "    'bbox': [22.23501205444336,\n",
       "     152.77041625976562,\n",
       "     52.76359176635742,\n",
       "     51.85157775878906],\n",
       "    'area': 2735.875481306284,\n",
       "    'iscrowd': 0,\n",
       "    'score': 0.9921773076057434}]},\n",
       " {'43.png': [{'category_id': 1,\n",
       "    'bbox': [83.2344741821289,\n",
       "     21.205223083496094,\n",
       "     12.344818115234375,\n",
       "     37.381874084472656],\n",
       "    'area': 461.47243637940846,\n",
       "    'iscrowd': 0,\n",
       "    'score': 0.8283985257148743}]},\n",
       " {'44.png': [{'category_id': 2,\n",
       "    'bbox': [72.7606201171875,\n",
       "     244.7490692138672,\n",
       "     43.55078125,\n",
       "     44.07633972167969],\n",
       "    'area': 1919.559029519558,\n",
       "    'iscrowd': 0,\n",
       "    'score': 0.950958788394928}]},\n",
       " {'45.png': [{'category_id': 1,\n",
       "    'bbox': [242.43003845214844,\n",
       "     119.60758209228516,\n",
       "     30.480667114257812,\n",
       "     43.018577575683594],\n",
       "    'area': 1311.2349428132875,\n",
       "    'iscrowd': 0,\n",
       "    'score': 0.5536258220672607},\n",
       "   {'category_id': 2,\n",
       "    'bbox': [242.8927764892578,\n",
       "     119.67522430419922,\n",
       "     28.949417114257812,\n",
       "     43.22026824951172],\n",
       "    'area': 1251.201573345228,\n",
       "    'iscrowd': 0,\n",
       "    'score': 0.30987676978111267}]},\n",
       " {'46.png': [{'category_id': 2,\n",
       "    'bbox': [122.6753158569336,\n",
       "     159.79185485839844,\n",
       "     37.938941955566406,\n",
       "     36.49320983886719],\n",
       "    'area': 1384.513769849087,\n",
       "    'iscrowd': 0,\n",
       "    'score': 0.783037006855011}]},\n",
       " {'47.png': [{'category_id': 1,\n",
       "    'bbox': [251.1743927001953,\n",
       "     89.07243347167969,\n",
       "     9.666580200195312,\n",
       "     51.3333740234375],\n",
       "    'area': 496.2181769441813,\n",
       "    'iscrowd': 0,\n",
       "    'score': 0.7216965556144714}]},\n",
       " {'48.png': [{'category_id': 1,\n",
       "    'bbox': [60.358619689941406,\n",
       "     48.780311584472656,\n",
       "     23.34404754638672,\n",
       "     42.855995178222656],\n",
       "    'area': 1000.4323890881496,\n",
       "    'iscrowd': 0,\n",
       "    'score': 0.9197735786437988}]},\n",
       " {'49.png': [{'category_id': 1,\n",
       "    'bbox': [204.15185546875,\n",
       "     40.413787841796875,\n",
       "     26.206787109375,\n",
       "     45.655967712402344],\n",
       "    'area': 1196.496226111427,\n",
       "    'iscrowd': 0,\n",
       "    'score': 0.8905629515647888}]},\n",
       " {'50.png': [{'category_id': 2,\n",
       "    'bbox': [184.3700408935547,\n",
       "     28.903593063354492,\n",
       "     42.231903076171875,\n",
       "     48.39151191711426],\n",
       "    'area': 2043.6656409929856,\n",
       "    'iscrowd': 0,\n",
       "    'score': 0.985537588596344}]},\n",
       " {'51.png': [{'category_id': 2,\n",
       "    'bbox': [189.86114501953125,\n",
       "     137.86434936523438,\n",
       "     42.288604736328125,\n",
       "     38.41999816894531],\n",
       "    'area': 1624.7281165369786,\n",
       "    'iscrowd': 0,\n",
       "    'score': 0.9883555173873901}]},\n",
       " {'52.png': [{'category_id': 1,\n",
       "    'bbox': [57.15843200683594,\n",
       "     126.12716674804688,\n",
       "     32.2767333984375,\n",
       "     47.89598083496094],\n",
       "    'area': 1545.925804266706,\n",
       "    'iscrowd': 0,\n",
       "    'score': 0.9491451978683472}]},\n",
       " {'53.png': [{'category_id': 2,\n",
       "    'bbox': [26.10584831237793,\n",
       "     154.68820190429688,\n",
       "     43.225175857543945,\n",
       "     46.04075622558594],\n",
       "    'area': 1990.1197844652634,\n",
       "    'iscrowd': 0,\n",
       "    'score': 0.9862293004989624}]},\n",
       " {'54.png': [{'category_id': 1,\n",
       "    'bbox': [135.35313415527344,\n",
       "     127.70972442626953,\n",
       "     13.209609985351562,\n",
       "     37.846824645996094],\n",
       "    'area': 499.9417927575996,\n",
       "    'iscrowd': 0,\n",
       "    'score': 0.8370304703712463}]},\n",
       " {'55.png': [{'category_id': 1,\n",
       "    'bbox': [88.0989761352539,\n",
       "     139.73898315429688,\n",
       "     15.9249267578125,\n",
       "     42.171844482421875],\n",
       "    'area': 671.5835346244276,\n",
       "    'iscrowd': 0,\n",
       "    'score': 0.8043140769004822}]},\n",
       " {'56.png': [{'category_id': 2,\n",
       "    'bbox': [123.42178344726562,\n",
       "     242.4699249267578,\n",
       "     33.06404113769531,\n",
       "     45.26365661621094],\n",
       "    'area': 1496.599404400913,\n",
       "    'iscrowd': 0,\n",
       "    'score': 0.7499813437461853},\n",
       "   {'category_id': 1,\n",
       "    'bbox': [124.26764678955078,\n",
       "     242.78201293945312,\n",
       "     32.600669860839844,\n",
       "     43.958282470703125],\n",
       "    'area': 1433.0694544769358,\n",
       "    'iscrowd': 0,\n",
       "    'score': 0.26298636198043823}]},\n",
       " {'57.png': [{'category_id': 1,\n",
       "    'bbox': [164.83331298828125,\n",
       "     191.68023681640625,\n",
       "     24.921920776367188,\n",
       "     41.82810974121094],\n",
       "    'area': 1042.4368371956516,\n",
       "    'iscrowd': 0,\n",
       "    'score': 0.8885893821716309}]},\n",
       " {'58.png': [{'category_id': 2,\n",
       "    'bbox': [49.28673553466797,\n",
       "     95.11132049560547,\n",
       "     40.41609191894531,\n",
       "     35.98188018798828],\n",
       "    'area': 1454.2469770942116,\n",
       "    'iscrowd': 0,\n",
       "    'score': 0.9681341052055359}]},\n",
       " {'59.png': [{'category_id': 2,\n",
       "    'bbox': [10.382562637329102,\n",
       "     167.63961791992188,\n",
       "     39.652883529663086,\n",
       "     38.39898681640625],\n",
       "    'area': 1522.6305518880254,\n",
       "    'iscrowd': 0,\n",
       "    'score': 0.7519280910491943}]},\n",
       " {'60.png': [{'category_id': 1,\n",
       "    'bbox': [51.150665283203125,\n",
       "     199.77760314941406,\n",
       "     15.622909545898438,\n",
       "     37.87689208984375],\n",
       "    'area': 591.7472589993849,\n",
       "    'iscrowd': 0,\n",
       "    'score': 0.850445032119751}]},\n",
       " {'61.png': [{'category_id': 1,\n",
       "    'bbox': [163.78573608398438,\n",
       "     31.228673934936523,\n",
       "     29.0887451171875,\n",
       "     47.60717964172363],\n",
       "    'area': 1384.8331143462565,\n",
       "    'iscrowd': 0,\n",
       "    'score': 0.9522654414176941}]},\n",
       " {'62.png': [{'category_id': 1,\n",
       "    'bbox': [204.52627563476562,\n",
       "     107.98429870605469,\n",
       "     22.91351318359375,\n",
       "     49.35980224609375],\n",
       "    'area': 1131.0064795054495,\n",
       "    'iscrowd': 0,\n",
       "    'score': 0.9181255102157593}]},\n",
       " {'63.png': [{'category_id': 2,\n",
       "    'bbox': [10.435223579406738,\n",
       "     17.031118392944336,\n",
       "     52.494540214538574,\n",
       "     52.03397560119629],\n",
       "    'area': 2731.4996247193176,\n",
       "    'iscrowd': 0,\n",
       "    'score': 0.9948779344558716}]},\n",
       " {'64.png': [{'category_id': 1,\n",
       "    'bbox': [15.732364654541016,\n",
       "     221.81759643554688,\n",
       "     30.714698791503906,\n",
       "     42.142608642578125],\n",
       "    'area': 1294.3975307450164,\n",
       "    'iscrowd': 0,\n",
       "    'score': 0.8979506492614746}]},\n",
       " {'65.png': [{'category_id': 2,\n",
       "    'bbox': [199.841796875,\n",
       "     200.8621063232422,\n",
       "     47.19219970703125,\n",
       "     31.709335327148438],\n",
       "    'area': 1496.4332853360102,\n",
       "    'iscrowd': 0,\n",
       "    'score': 0.9224246144294739}]},\n",
       " {'66.png': [{'category_id': 1,\n",
       "    'bbox': [210.6031036376953,\n",
       "     188.3267822265625,\n",
       "     14.677871704101562,\n",
       "     43.9296875],\n",
       "    'area': 644.7943171262741,\n",
       "    'iscrowd': 0,\n",
       "    'score': 0.8851460814476013}]},\n",
       " {'67.png': [{'category_id': 1,\n",
       "    'bbox': [209.68040466308594,\n",
       "     39.04540252685547,\n",
       "     16.01416015625,\n",
       "     48.287574768066406],\n",
       "    'area': 773.2849558927119,\n",
       "    'iscrowd': 0,\n",
       "    'score': 0.9033970236778259}]},\n",
       " {'68.png': [{'category_id': 2,\n",
       "    'bbox': [54.796775817871094,\n",
       "     210.0718994140625,\n",
       "     32.08604431152344,\n",
       "     44.29510498046875],\n",
       "    'area': 1421.2547011869028,\n",
       "    'iscrowd': 0,\n",
       "    'score': 0.35110288858413696},\n",
       "   {'category_id': 1,\n",
       "    'bbox': [54.89453125,\n",
       "     210.43556213378906,\n",
       "     31.707603454589844,\n",
       "     44.33732604980469],\n",
       "    'area': 1405.8303526240634,\n",
       "    'iscrowd': 0,\n",
       "    'score': 0.2791428864002228}]},\n",
       " {'69.png': [{'category_id': 2,\n",
       "    'bbox': [92.98287963867188,\n",
       "     170.0443572998047,\n",
       "     53.80865478515625,\n",
       "     51.82710266113281],\n",
       "    'area': 2788.7466756077483,\n",
       "    'iscrowd': 0,\n",
       "    'score': 0.9365528225898743}]},\n",
       " {'70.png': [{'category_id': 2,\n",
       "    'bbox': [192.94163513183594,\n",
       "     152.8800811767578,\n",
       "     25.331512451171875,\n",
       "     41.056915283203125],\n",
       "    'area': 1040.0337607031688,\n",
       "    'iscrowd': 0,\n",
       "    'score': 0.814900815486908},\n",
       "   {'category_id': 1,\n",
       "    'bbox': [193.26611328125,\n",
       "     152.70285034179688,\n",
       "     25.513534545898438,\n",
       "     39.45664978027344],\n",
       "    'area': 1006.6785972344223,\n",
       "    'iscrowd': 0,\n",
       "    'score': 0.42624369263648987}]},\n",
       " {'71.png': [{'category_id': 2,\n",
       "    'bbox': [115.85311889648438,\n",
       "     155.74920654296875,\n",
       "     41.26081848144531,\n",
       "     35.41496276855469],\n",
       "    'area': 1461.250350320479,\n",
       "    'iscrowd': 0,\n",
       "    'score': 0.9794883728027344}]},\n",
       " {'72.png': [{'category_id': 2,\n",
       "    'bbox': [193.9483642578125,\n",
       "     51.05951690673828,\n",
       "     29.519546508789062,\n",
       "     45.99345397949219],\n",
       "    'area': 1357.705903847469,\n",
       "    'iscrowd': 0,\n",
       "    'score': 0.6929978132247925},\n",
       "   {'category_id': 1,\n",
       "    'bbox': [194.43197631835938,\n",
       "     51.683074951171875,\n",
       "     28.517364501953125,\n",
       "     44.04004669189453],\n",
       "    'area': 1255.9060641957913,\n",
       "    'iscrowd': 0,\n",
       "    'score': 0.4813160002231598}]},\n",
       " {'73.png': [{'category_id': 1,\n",
       "    'bbox': [238.67420959472656,\n",
       "     143.2823486328125,\n",
       "     17.854141235351562,\n",
       "     43.13890075683594],\n",
       "    'area': 770.2080268503632,\n",
       "    'iscrowd': 0,\n",
       "    'score': 0.9100496172904968}]},\n",
       " {'74.png': [{'category_id': 1,\n",
       "    'bbox': [37.128990173339844,\n",
       "     89.09979248046875,\n",
       "     29.686721801757812,\n",
       "     49.94813537597656],\n",
       "    'area': 1482.796399423154,\n",
       "    'iscrowd': 0,\n",
       "    'score': 0.9360374212265015}]},\n",
       " {'75.png': [{'category_id': 1,\n",
       "    'bbox': [252.85675048828125,\n",
       "     16.63373565673828,\n",
       "     19.74774169921875,\n",
       "     40.738712310791016],\n",
       "    'area': 804.497567872284,\n",
       "    'iscrowd': 0,\n",
       "    'score': 0.9473363161087036}]},\n",
       " {'76.png': [{'category_id': 2,\n",
       "    'bbox': [152.66172790527344,\n",
       "     145.0689697265625,\n",
       "     40.05964660644531,\n",
       "     46.9720458984375],\n",
       "    'area': 1881.6835590731353,\n",
       "    'iscrowd': 0,\n",
       "    'score': 0.9745892286300659}]},\n",
       " {'77.png': [{'category_id': 1,\n",
       "    'bbox': [111.6373291015625,\n",
       "     223.0884552001953,\n",
       "     22.346221923828125,\n",
       "     44.26402282714844],\n",
       "    'area': 989.133677336853,\n",
       "    'iscrowd': 0,\n",
       "    'score': 0.9015690684318542}]},\n",
       " {'78.png': [{'category_id': 2,\n",
       "    'bbox': [173.3302001953125,\n",
       "     136.73617553710938,\n",
       "     28.863006591796875,\n",
       "     39.04048156738281],\n",
       "    'area': 1126.8256768262945,\n",
       "    'iscrowd': 0,\n",
       "    'score': 0.7732616066932678}]},\n",
       " {'79.png': [{'category_id': 2,\n",
       "    'bbox': [17.396434783935547,\n",
       "     147.78359985351562,\n",
       "     41.42130661010742,\n",
       "     33.62599182128906],\n",
       "    'area': 1392.8325172985788,\n",
       "    'iscrowd': 0,\n",
       "    'score': 0.9623602032661438}]},\n",
       " {'80.png': [{'category_id': 2,\n",
       "    'bbox': [33.682830810546875,\n",
       "     42.548892974853516,\n",
       "     41.72947692871094,\n",
       "     50.5017204284668],\n",
       "    'area': 2107.410377479915,\n",
       "    'iscrowd': 0,\n",
       "    'score': 0.9930168390274048}]},\n",
       " {'81.png': [{'category_id': 1,\n",
       "    'bbox': [163.64999389648438,\n",
       "     114.89497375488281,\n",
       "     25.357070922851562,\n",
       "     43.878814697265625],\n",
       "    'area': 1112.638216289226,\n",
       "    'iscrowd': 0,\n",
       "    'score': 0.9388719797134399}]},\n",
       " {'82.png': [{'category_id': 2,\n",
       "    'bbox': [211.39463806152344,\n",
       "     78.27284240722656,\n",
       "     50.35270690917969,\n",
       "     51.39952087402344],\n",
       "    'area': 2588.1050098419655,\n",
       "    'iscrowd': 0,\n",
       "    'score': 0.9929288029670715}]},\n",
       " {'83.png': [{'category_id': 2,\n",
       "    'bbox': [166.95484924316406,\n",
       "     162.65234375,\n",
       "     49.92976379394531,\n",
       "     41.776214599609375],\n",
       "    'area': 2085.8765271636657,\n",
       "    'iscrowd': 0,\n",
       "    'score': 0.9740182161331177}]},\n",
       " {'84.png': [{'category_id': 2,\n",
       "    'bbox': [196.47779846191406,\n",
       "     155.66781616210938,\n",
       "     40.4298095703125,\n",
       "     38.794189453125],\n",
       "    'area': 1568.4416920244694,\n",
       "    'iscrowd': 0,\n",
       "    'score': 0.7136573195457458}]},\n",
       " {'85.png': [{'category_id': 2,\n",
       "    'bbox': [81.44833374023438,\n",
       "     214.91146850585938,\n",
       "     46.43236541748047,\n",
       "     44.502227783203125],\n",
       "    'area': 2066.3437023216393,\n",
       "    'iscrowd': 0,\n",
       "    'score': 0.9942675828933716}]},\n",
       " {'86.png': [{'category_id': 2,\n",
       "    'bbox': [196.27178955078125,\n",
       "     129.69923400878906,\n",
       "     43.492645263671875,\n",
       "     44.449005126953125],\n",
       "    'area': 1933.2048123097047,\n",
       "    'iscrowd': 0,\n",
       "    'score': 0.9973962306976318}]},\n",
       " {'87.png': [{'category_id': 2,\n",
       "    'bbox': [141.00062561035156,\n",
       "     94.76145935058594,\n",
       "     47.42060852050781,\n",
       "     49.42402648925781],\n",
       "    'area': 2343.717411654303,\n",
       "    'iscrowd': 0,\n",
       "    'score': 0.9930880665779114}]},\n",
       " {'88.png': [{'category_id': 2,\n",
       "    'bbox': [233.72686767578125,\n",
       "     28.955320358276367,\n",
       "     39.38140869140625,\n",
       "     48.67087745666504],\n",
       "    'area': 1916.727716490277,\n",
       "    'iscrowd': 0,\n",
       "    'score': 0.9703794121742249}]},\n",
       " {'89.png': [{'category_id': 2,\n",
       "    'bbox': [176.89276123046875,\n",
       "     89.12840270996094,\n",
       "     52.4542236328125,\n",
       "     50.76036071777344],\n",
       "    'area': 2662.5953127723187,\n",
       "    'iscrowd': 0,\n",
       "    'score': 0.9938546419143677}]},\n",
       " {'90.png': [{'category_id': 1,\n",
       "    'bbox': [81.19241333007812,\n",
       "     170.617919921875,\n",
       "     21.43170928955078,\n",
       "     48.68070983886719],\n",
       "    'area': 1043.310821275576,\n",
       "    'iscrowd': 0,\n",
       "    'score': 0.9071353673934937}]},\n",
       " {'91.png': [{'category_id': 1,\n",
       "    'bbox': [215.1730499267578,\n",
       "     53.64192199707031,\n",
       "     15.685211181640625,\n",
       "     45.9864501953125],\n",
       "    'area': 721.3071828074753,\n",
       "    'iscrowd': 0,\n",
       "    'score': 0.8564525246620178}]},\n",
       " {'92.png': [{'category_id': 2,\n",
       "    'bbox': [9.404844284057617,\n",
       "     76.97827911376953,\n",
       "     35.04997444152832,\n",
       "     38.06425476074219],\n",
       "    'area': 1334.1511564998364,\n",
       "    'iscrowd': 0,\n",
       "    'score': 0.9217996001243591}]},\n",
       " {'93.png': [{'category_id': 2,\n",
       "    'bbox': [182.91607666015625,\n",
       "     230.1783905029297,\n",
       "     38.117919921875,\n",
       "     33.28953552246094],\n",
       "    'area': 1268.9278492815793,\n",
       "    'iscrowd': 0,\n",
       "    'score': 0.8403367400169373}]},\n",
       " {'94.png': [{'category_id': 2,\n",
       "    'bbox': [57.97791290283203,\n",
       "     157.17276000976562,\n",
       "     33.613319396972656,\n",
       "     47.48931884765625],\n",
       "    'area': 1596.273642370943,\n",
       "    'iscrowd': 0,\n",
       "    'score': 0.706148087978363}]},\n",
       " {'95.png': [{'category_id': 2,\n",
       "    'bbox': [135.2042694091797,\n",
       "     185.5912322998047,\n",
       "     49.87428283691406,\n",
       "     49.677337646484375],\n",
       "    'area': 2477.6215883656405,\n",
       "    'iscrowd': 0,\n",
       "    'score': 0.9631057977676392}]},\n",
       " {'96.png': [{'category_id': 1,\n",
       "    'bbox': [43.464149475097656,\n",
       "     60.07721710205078,\n",
       "     36.08668518066406,\n",
       "     40.61408233642578],\n",
       "    'area': 1465.6276031761663,\n",
       "    'iscrowd': 0,\n",
       "    'score': 0.7510821223258972}]},\n",
       " {'97.png': [{'category_id': 2,\n",
       "    'bbox': [142.5912322998047,\n",
       "     137.80557250976562,\n",
       "     34.836395263671875,\n",
       "     47.76679992675781],\n",
       "    'area': 1664.023122729268,\n",
       "    'iscrowd': 0,\n",
       "    'score': 0.7539824843406677},\n",
       "   {'category_id': 1,\n",
       "    'bbox': [143.40261840820312,\n",
       "     137.6202392578125,\n",
       "     34.34614562988281,\n",
       "     46.98149108886719],\n",
       "    'area': 1613.633134847274,\n",
       "    'iscrowd': 0,\n",
       "    'score': 0.5318959355354309}]},\n",
       " {'98.png': [{'category_id': 1,\n",
       "    'bbox': [148.62164306640625,\n",
       "     50.803401947021484,\n",
       "     22.096435546875,\n",
       "     52.5422248840332],\n",
       "    'area': 1160.9958856394514,\n",
       "    'iscrowd': 0,\n",
       "    'score': 0.9605138301849365}]},\n",
       " {'99.png': [{'category_id': 2,\n",
       "    'bbox': [122.67571258544922,\n",
       "     222.01400756835938,\n",
       "     35.56623077392578,\n",
       "     42.501190185546875],\n",
       "    'area': 1511.6071383056697,\n",
       "    'iscrowd': 0,\n",
       "    'score': 0.8884586691856384}]},\n",
       " {'100.png': [{'category_id': 1,\n",
       "    'bbox': [88.93431091308594,\n",
       "     94.1872329711914,\n",
       "     19.821212768554688,\n",
       "     45.44658660888672],\n",
       "    'area': 900.8064627792919,\n",
       "    'iscrowd': 0,\n",
       "    'score': 0.9099769592285156}]}]"
      ]
     },
     "execution_count": 32,
     "metadata": {},
     "output_type": "execute_result"
    }
   ],
   "source": [
    "ultralytics_hub.get_inference_result()"
   ]
  },
  {
   "cell_type": "code",
   "execution_count": 33,
   "metadata": {},
   "outputs": [
    {
     "data": {
      "text/plain": [
       "{'status': 'success',\n",
       " 'error_type': None,\n",
       " 'error_msg': None,\n",
       " 'step': 26,\n",
       " 'total_step': 26}"
      ]
     },
     "execution_count": 33,
     "metadata": {},
     "output_type": "execute_result"
    }
   ],
   "source": [
    "ultralytics_hub.get_inference_state()"
   ]
  },
  {
   "attachments": {},
   "cell_type": "markdown",
   "metadata": {},
   "source": [
    "## Export to onnx"
   ]
  },
  {
   "cell_type": "code",
   "execution_count": 34,
   "metadata": {},
   "outputs": [
    {
     "name": "stderr",
     "output_type": "stream",
     "text": [
      "/home/snuailab/anaconda3/envs/waffle-refactor/lib/python3.10/site-packages/ultralytics/nn/modules/head.py:49: TracerWarning: Converting a tensor to a Python boolean might cause the trace to be incorrect. We can't record the data flow of Python values, so this value will be treated as a constant in the future. This means that the trace might not generalize to other inputs!\n",
      "  elif self.dynamic or self.shape != shape:\n",
      "/home/snuailab/anaconda3/envs/waffle-refactor/lib/python3.10/site-packages/ultralytics/utils/tal.py:254: TracerWarning: Iterating over a tensor might cause the trace to be incorrect. Passing a tensor of different shape won't change the number of iterations executed (and might lead to errors or silently give incorrect results).\n",
      "  for i, stride in enumerate(strides):\n",
      "/home/snuailab/anaconda3/envs/waffle-refactor/lib/python3.10/site-packages/torch/onnx/utils.py:617: UserWarning: ONNX Preprocess - Removing mutation from node aten::sub_ on block input: 'tensor.1'. This changes graph semantics. (Triggered internally at /opt/conda/conda-bld/pytorch_1670525541990/work/torch/csrc/jit/passes/onnx/remove_inplace_ops_for_onnx.cpp:335.)\n",
      "  _C._jit_pass_onnx_remove_inplace_ops_for_onnx(graph, module)\n"
     ]
    },
    {
     "data": {
      "text/plain": [
       "ExportOnnxResult(onnx_file=PosixPath('hubs/ultralytics_mnist_detection/weights/model.onnx'))"
      ]
     },
     "execution_count": 34,
     "metadata": {},
     "output_type": "execute_result"
    }
   ],
   "source": [
    "ultralytics_hub.export_onnx()"
   ]
  },
  {
   "attachments": {},
   "cell_type": "markdown",
   "metadata": {},
   "source": [
    "## Benchmark"
   ]
  },
  {
   "cell_type": "code",
   "execution_count": 35,
   "metadata": {},
   "outputs": [
    {
     "name": "stderr",
     "output_type": "stream",
     "text": [
      "100%|██████████| 100/100 [00:03<00:00, 32.73it/s]\n"
     ]
    },
    {
     "data": {
      "text/plain": [
       "{'inference_time': 3.0563507080078125,\n",
       " 'fps': 523.5001323008871,\n",
       " 'image_size': [640, 640],\n",
       " 'batch_size': 16,\n",
       " 'precision': 'fp32',\n",
       " 'device': 'cuda:0',\n",
       " 'cpu_name': 'Intel(R) Core(TM) i7-10700K CPU @ 3.80GHz',\n",
       " 'gpu_name': 'NVIDIA GeForce RTX 3070'}"
      ]
     },
     "execution_count": 35,
     "metadata": {},
     "output_type": "execute_result"
    }
   ],
   "source": [
    "ultralytics_hub.benchmark()"
   ]
  },
  {
   "cell_type": "markdown",
   "metadata": {},
   "source": [
    "## Export to waffle file"
   ]
  },
  {
   "cell_type": "code",
   "execution_count": 37,
   "metadata": {},
   "outputs": [
    {
     "data": {
      "text/plain": [
       "ExportWaffleResult(waffle_file=PosixPath('hubs/ultralytics_mnist_detection/ultralytics_mnist_detection.waffle'))"
      ]
     },
     "execution_count": 37,
     "metadata": {},
     "output_type": "execute_result"
    }
   ],
   "source": [
    "ultralytics_hub.export_waffle()"
   ]
  },
  {
   "cell_type": "code",
   "execution_count": 38,
   "metadata": {},
   "outputs": [
    {
     "data": {
      "text/plain": [
       "{'status': 'success',\n",
       " 'error_type': None,\n",
       " 'error_msg': None,\n",
       " 'step': None,\n",
       " 'total_step': None}"
      ]
     },
     "execution_count": 38,
     "metadata": {},
     "output_type": "execute_result"
    }
   ],
   "source": [
    "ultralytics_hub.get_export_waffle_state()"
   ]
  },
  {
   "cell_type": "markdown",
   "metadata": {},
   "source": [
    "### import waffle file"
   ]
  },
  {
   "cell_type": "code",
   "execution_count": 41,
   "metadata": {},
   "outputs": [],
   "source": [
    "import_hub = Hub.from_waffle_file(\n",
    "    name=\"waffle_mnist_detection\",\n",
    "    waffle_file=\"hubs/ultralytics_mnist_detection/ultralytics_mnist_detection.waffle\",\n",
    ")"
   ]
  },
  {
   "cell_type": "code",
   "execution_count": 42,
   "metadata": {},
   "outputs": [
    {
     "name": "stderr",
     "output_type": "stream",
     "text": [
      "100%|██████████| 1/1 [00:00<00:00,  5.32it/s]\n"
     ]
    },
    {
     "data": {
      "image/png": "[encoded data removed]",
      "text/plain": [
       "<PIL.PngImagePlugin.PngImageFile image mode=RGB size=300x300>"
      ]
     },
     "execution_count": 42,
     "metadata": {},
     "output_type": "execute_result"
    }
   ],
   "source": [
    "import_hub.inference(\n",
    "    source=\"datasets/mnist_det/raw/10.png\",\n",
    "    draw=True,\n",
    ")\n",
    "PIL.Image.open(ultralytics_hub.draw_dir / \"10.png\")"
   ]
  }
 ],
 "metadata": {
  "kernelspec": {
   "display_name": "waffle",
   "language": "python",
   "name": "python3"
  },
  "language_info": {
   "codemirror_mode": {
    "name": "ipython",
    "version": 3
   },
   "file_extension": ".py",
   "mimetype": "text/x-python",
   "name": "python",
   "nbconvert_exporter": "python",
   "pygments_lexer": "ipython3",
   "version": "3.10.13"
  },
  "orig_nbformat": 4
 },
 "nbformat": 4,
 "nbformat_minor": 2
}
